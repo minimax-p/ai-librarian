{
 "cells": [
  {
   "cell_type": "code",
   "id": "initial_id",
   "metadata": {
    "collapsed": true,
    "ExecuteTime": {
     "end_time": "2024-12-17T19:41:56.669270Z",
     "start_time": "2024-12-17T19:41:54.947865Z"
    }
   },
   "source": "!pip install -q llama-index llama-index-llms-groq  llama-index-embeddings-huggingface   llama-parse",
   "outputs": [
    {
     "name": "stdout",
     "output_type": "stream",
     "text": [
      "\u001B[31mERROR: pip's dependency resolver does not currently take into account all the packages that are installed. This behaviour is the source of the following dependency conflicts.\r\n",
      "llama-index-llms-ollama 0.4.2 requires llama-index-core<0.13.0,>=0.12.0, but you have llama-index-core 0.10.68.post1 which is incompatible.\r\n",
      "llama-index-embeddings-instructor 0.3.0 requires llama-index-core<0.13.0,>=0.12.0, but you have llama-index-core 0.10.68.post1 which is incompatible.\u001B[0m\u001B[31m\r\n",
      "\u001B[0m"
     ]
    }
   ],
   "execution_count": 9
  },
  {
   "metadata": {
    "ExecuteTime": {
     "end_time": "2024-12-17T19:41:56.678236Z",
     "start_time": "2024-12-17T19:41:56.676192Z"
    }
   },
   "cell_type": "code",
   "source": [
    "import nest_asyncio\n",
    "nest_asyncio.apply()"
   ],
   "id": "7235750393698fc8",
   "outputs": [],
   "execution_count": 10
  },
  {
   "metadata": {
    "ExecuteTime": {
     "end_time": "2024-12-17T19:41:56.686770Z",
     "start_time": "2024-12-17T19:41:56.684043Z"
    }
   },
   "cell_type": "code",
   "source": [
    "import os\n",
    "from dotenv import load_dotenv\n",
    "load_dotenv()\n",
    "GROQ_API_KEY = os.getenv(\"GROQ_API_KEY\")"
   ],
   "id": "7fd09cd707191bc5",
   "outputs": [],
   "execution_count": 11
  },
  {
   "metadata": {
    "ExecuteTime": {
     "end_time": "2024-12-17T19:41:56.692766Z",
     "start_time": "2024-12-17T19:41:56.691222Z"
    }
   },
   "cell_type": "code",
   "source": "print(GROQ_API_KEY)",
   "id": "799f983b820aece1",
   "outputs": [
    {
     "name": "stdout",
     "output_type": "stream",
     "text": [
      "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\n"
     ]
    }
   ],
   "execution_count": 12
  },
  {
   "metadata": {
    "ExecuteTime": {
     "end_time": "2024-12-17T19:41:56.754016Z",
     "start_time": "2024-12-17T19:41:56.704913Z"
    }
   },
   "cell_type": "code",
   "source": [
    "from llama_index.llms.groq import Groq\n",
    "\n",
    "llm = Groq(model=\"llama3-8b-8192\", api_key=GROQ_API_KEY)\n",
    "llm_70b = Groq(model=\"llama-3.1-70b-versatile\", api_key=GROQ_API_KEY)"
   ],
   "id": "6928967b6d809c27",
   "outputs": [
    {
     "ename": "AttributeError",
     "evalue": "'FieldInfo' object has no attribute 'field_info'",
     "output_type": "error",
     "traceback": [
      "\u001B[0;31m---------------------------------------------------------------------------\u001B[0m",
      "\u001B[0;31mAttributeError\u001B[0m                            Traceback (most recent call last)",
      "Cell \u001B[0;32mIn[13], line 1\u001B[0m\n\u001B[0;32m----> 1\u001B[0m \u001B[38;5;28;01mfrom\u001B[39;00m \u001B[38;5;21;01mllama_index\u001B[39;00m\u001B[38;5;21;01m.\u001B[39;00m\u001B[38;5;21;01mllms\u001B[39;00m\u001B[38;5;21;01m.\u001B[39;00m\u001B[38;5;21;01mgroq\u001B[39;00m \u001B[38;5;28;01mimport\u001B[39;00m Groq\n\u001B[1;32m      3\u001B[0m llm \u001B[38;5;241m=\u001B[39m Groq(model\u001B[38;5;241m=\u001B[39m\u001B[38;5;124m\"\u001B[39m\u001B[38;5;124mllama3-8b-8192\u001B[39m\u001B[38;5;124m\"\u001B[39m, api_key\u001B[38;5;241m=\u001B[39mGROQ_API_KEY)\n\u001B[1;32m      4\u001B[0m llm_70b \u001B[38;5;241m=\u001B[39m Groq(model\u001B[38;5;241m=\u001B[39m\u001B[38;5;124m\"\u001B[39m\u001B[38;5;124mllama-3.1-70b-versatile\u001B[39m\u001B[38;5;124m\"\u001B[39m, api_key\u001B[38;5;241m=\u001B[39mGROQ_API_KEY)\n",
      "File \u001B[0;32m/opt/anaconda3/envs/COS243/lib/python3.11/site-packages/llama_index/llms/groq/__init__.py:1\u001B[0m\n\u001B[0;32m----> 1\u001B[0m \u001B[38;5;28;01mfrom\u001B[39;00m \u001B[38;5;21;01mllama_index\u001B[39;00m\u001B[38;5;21;01m.\u001B[39;00m\u001B[38;5;21;01mllms\u001B[39;00m\u001B[38;5;21;01m.\u001B[39;00m\u001B[38;5;21;01mgroq\u001B[39;00m\u001B[38;5;21;01m.\u001B[39;00m\u001B[38;5;21;01mbase\u001B[39;00m \u001B[38;5;28;01mimport\u001B[39;00m Groq\n\u001B[1;32m      3\u001B[0m __all__ \u001B[38;5;241m=\u001B[39m [\u001B[38;5;124m\"\u001B[39m\u001B[38;5;124mGroq\u001B[39m\u001B[38;5;124m\"\u001B[39m]\n",
      "File \u001B[0;32m/opt/anaconda3/envs/COS243/lib/python3.11/site-packages/llama_index/llms/groq/base.py:4\u001B[0m\n\u001B[1;32m      1\u001B[0m \u001B[38;5;28;01mimport\u001B[39;00m \u001B[38;5;21;01mos\u001B[39;00m\n\u001B[1;32m      2\u001B[0m \u001B[38;5;28;01mfrom\u001B[39;00m \u001B[38;5;21;01mtyping\u001B[39;00m \u001B[38;5;28;01mimport\u001B[39;00m Any, Optional\n\u001B[0;32m----> 4\u001B[0m \u001B[38;5;28;01mfrom\u001B[39;00m \u001B[38;5;21;01mllama_index\u001B[39;00m\u001B[38;5;21;01m.\u001B[39;00m\u001B[38;5;21;01mllms\u001B[39;00m\u001B[38;5;21;01m.\u001B[39;00m\u001B[38;5;21;01mopenai_like\u001B[39;00m \u001B[38;5;28;01mimport\u001B[39;00m OpenAILike\n\u001B[1;32m      7\u001B[0m \u001B[38;5;28;01mclass\u001B[39;00m \u001B[38;5;21;01mGroq\u001B[39;00m(OpenAILike):\n\u001B[1;32m      8\u001B[0m     \u001B[38;5;28;01mdef\u001B[39;00m \u001B[38;5;21m__init__\u001B[39m(\n\u001B[1;32m      9\u001B[0m         \u001B[38;5;28mself\u001B[39m,\n\u001B[1;32m     10\u001B[0m         model: \u001B[38;5;28mstr\u001B[39m,\n\u001B[0;32m   (...)\u001B[0m\n\u001B[1;32m     14\u001B[0m         \u001B[38;5;241m*\u001B[39m\u001B[38;5;241m*\u001B[39mkwargs: Any,\n\u001B[1;32m     15\u001B[0m     ) \u001B[38;5;241m-\u001B[39m\u001B[38;5;241m>\u001B[39m \u001B[38;5;28;01mNone\u001B[39;00m:\n",
      "File \u001B[0;32m/opt/anaconda3/envs/COS243/lib/python3.11/site-packages/llama_index/llms/openai_like/__init__.py:1\u001B[0m\n\u001B[0;32m----> 1\u001B[0m \u001B[38;5;28;01mfrom\u001B[39;00m \u001B[38;5;21;01mllama_index\u001B[39;00m\u001B[38;5;21;01m.\u001B[39;00m\u001B[38;5;21;01mllms\u001B[39;00m\u001B[38;5;21;01m.\u001B[39;00m\u001B[38;5;21;01mopenai_like\u001B[39;00m\u001B[38;5;21;01m.\u001B[39;00m\u001B[38;5;21;01mbase\u001B[39;00m \u001B[38;5;28;01mimport\u001B[39;00m OpenAILike\n\u001B[1;32m      3\u001B[0m __all__ \u001B[38;5;241m=\u001B[39m [\u001B[38;5;124m\"\u001B[39m\u001B[38;5;124mOpenAILike\u001B[39m\u001B[38;5;124m\"\u001B[39m]\n",
      "File \u001B[0;32m/opt/anaconda3/envs/COS243/lib/python3.11/site-packages/llama_index/llms/openai_like/base.py:24\u001B[0m\n\u001B[1;32m     20\u001B[0m \u001B[38;5;28;01mfrom\u001B[39;00m \u001B[38;5;21;01mllama_index\u001B[39;00m\u001B[38;5;21;01m.\u001B[39;00m\u001B[38;5;21;01mllms\u001B[39;00m\u001B[38;5;21;01m.\u001B[39;00m\u001B[38;5;21;01mopenai\u001B[39;00m\u001B[38;5;21;01m.\u001B[39;00m\u001B[38;5;21;01mbase\u001B[39;00m \u001B[38;5;28;01mimport\u001B[39;00m OpenAI, Tokenizer\n\u001B[1;32m     21\u001B[0m \u001B[38;5;28;01mfrom\u001B[39;00m \u001B[38;5;21;01mtransformers\u001B[39;00m \u001B[38;5;28;01mimport\u001B[39;00m AutoTokenizer\n\u001B[0;32m---> 24\u001B[0m \u001B[38;5;28;43;01mclass\u001B[39;49;00m\u001B[43m \u001B[49m\u001B[38;5;21;43;01mOpenAILike\u001B[39;49;00m\u001B[43m(\u001B[49m\u001B[43mOpenAI\u001B[49m\u001B[43m)\u001B[49m\u001B[43m:\u001B[49m\n\u001B[1;32m     25\u001B[0m \u001B[38;5;250;43m    \u001B[39;49m\u001B[38;5;124;43;03m\"\"\"\u001B[39;49;00m\n\u001B[1;32m     26\u001B[0m \u001B[38;5;124;43;03m    OpenAILike is a thin wrapper around the OpenAI model that makes it compatible with\u001B[39;49;00m\n\u001B[1;32m     27\u001B[0m \u001B[38;5;124;43;03m    3rd party tools that provide an openai-compatible api.\u001B[39;49;00m\n\u001B[0;32m   (...)\u001B[0m\n\u001B[1;32m     35\u001B[0m \u001B[38;5;124;43;03m    but will depend on the tool you're using.\u001B[39;49;00m\n\u001B[1;32m     36\u001B[0m \u001B[38;5;124;43;03m    \"\"\"\u001B[39;49;00m\n\u001B[1;32m     38\u001B[0m \u001B[43m    \u001B[49m\u001B[43mcontext_window\u001B[49m\u001B[43m:\u001B[49m\u001B[43m \u001B[49m\u001B[38;5;28;43mint\u001B[39;49m\u001B[43m \u001B[49m\u001B[38;5;241;43m=\u001B[39;49m\u001B[43m \u001B[49m\u001B[43mField\u001B[49m\u001B[43m(\u001B[49m\n\u001B[1;32m     39\u001B[0m \u001B[43m        \u001B[49m\u001B[43mdefault\u001B[49m\u001B[38;5;241;43m=\u001B[39;49m\u001B[43mDEFAULT_CONTEXT_WINDOW\u001B[49m\u001B[43m,\u001B[49m\n\u001B[1;32m     40\u001B[0m \u001B[43m        \u001B[49m\u001B[43mdescription\u001B[49m\u001B[38;5;241;43m=\u001B[39;49m\u001B[43mLLMMetadata\u001B[49m\u001B[38;5;241;43m.\u001B[39;49m\u001B[43m__fields__\u001B[49m\u001B[43m[\u001B[49m\u001B[38;5;124;43m\"\u001B[39;49m\u001B[38;5;124;43mcontext_window\u001B[39;49m\u001B[38;5;124;43m\"\u001B[39;49m\u001B[43m]\u001B[49m\u001B[38;5;241;43m.\u001B[39;49m\u001B[43mfield_info\u001B[49m\u001B[38;5;241;43m.\u001B[39;49m\u001B[43mdescription\u001B[49m\u001B[43m,\u001B[49m\n\u001B[1;32m     41\u001B[0m \u001B[43m    \u001B[49m\u001B[43m)\u001B[49m\n",
      "File \u001B[0;32m/opt/anaconda3/envs/COS243/lib/python3.11/site-packages/llama_index/llms/openai_like/base.py:40\u001B[0m, in \u001B[0;36mOpenAILike\u001B[0;34m()\u001B[0m\n\u001B[1;32m     24\u001B[0m \u001B[38;5;28;01mclass\u001B[39;00m \u001B[38;5;21;01mOpenAILike\u001B[39;00m(OpenAI):\n\u001B[1;32m     25\u001B[0m \u001B[38;5;250m    \u001B[39m\u001B[38;5;124;03m\"\"\"\u001B[39;00m\n\u001B[1;32m     26\u001B[0m \u001B[38;5;124;03m    OpenAILike is a thin wrapper around the OpenAI model that makes it compatible with\u001B[39;00m\n\u001B[1;32m     27\u001B[0m \u001B[38;5;124;03m    3rd party tools that provide an openai-compatible api.\u001B[39;00m\n\u001B[0;32m   (...)\u001B[0m\n\u001B[1;32m     35\u001B[0m \u001B[38;5;124;03m    but will depend on the tool you're using.\u001B[39;00m\n\u001B[1;32m     36\u001B[0m \u001B[38;5;124;03m    \"\"\"\u001B[39;00m\n\u001B[1;32m     38\u001B[0m     context_window: \u001B[38;5;28mint\u001B[39m \u001B[38;5;241m=\u001B[39m Field(\n\u001B[1;32m     39\u001B[0m         default\u001B[38;5;241m=\u001B[39mDEFAULT_CONTEXT_WINDOW,\n\u001B[0;32m---> 40\u001B[0m         description\u001B[38;5;241m=\u001B[39m\u001B[43mLLMMetadata\u001B[49m\u001B[38;5;241;43m.\u001B[39;49m\u001B[43m__fields__\u001B[49m\u001B[43m[\u001B[49m\u001B[38;5;124;43m\"\u001B[39;49m\u001B[38;5;124;43mcontext_window\u001B[39;49m\u001B[38;5;124;43m\"\u001B[39;49m\u001B[43m]\u001B[49m\u001B[38;5;241;43m.\u001B[39;49m\u001B[43mfield_info\u001B[49m\u001B[38;5;241m.\u001B[39mdescription,\n\u001B[1;32m     41\u001B[0m     )\n\u001B[1;32m     42\u001B[0m     is_chat_model: \u001B[38;5;28mbool\u001B[39m \u001B[38;5;241m=\u001B[39m Field(\n\u001B[1;32m     43\u001B[0m         default\u001B[38;5;241m=\u001B[39m\u001B[38;5;28;01mFalse\u001B[39;00m,\n\u001B[1;32m     44\u001B[0m         description\u001B[38;5;241m=\u001B[39mLLMMetadata\u001B[38;5;241m.\u001B[39m__fields__[\u001B[38;5;124m\"\u001B[39m\u001B[38;5;124mis_chat_model\u001B[39m\u001B[38;5;124m\"\u001B[39m]\u001B[38;5;241m.\u001B[39mfield_info\u001B[38;5;241m.\u001B[39mdescription,\n\u001B[1;32m     45\u001B[0m     )\n\u001B[1;32m     46\u001B[0m     is_function_calling_model: \u001B[38;5;28mbool\u001B[39m \u001B[38;5;241m=\u001B[39m Field(\n\u001B[1;32m     47\u001B[0m         default\u001B[38;5;241m=\u001B[39m\u001B[38;5;28;01mFalse\u001B[39;00m,\n\u001B[1;32m     48\u001B[0m         description\u001B[38;5;241m=\u001B[39mLLMMetadata\u001B[38;5;241m.\u001B[39m__fields__[\n\u001B[1;32m     49\u001B[0m             \u001B[38;5;124m\"\u001B[39m\u001B[38;5;124mis_function_calling_model\u001B[39m\u001B[38;5;124m\"\u001B[39m\n\u001B[1;32m     50\u001B[0m         ]\u001B[38;5;241m.\u001B[39mfield_info\u001B[38;5;241m.\u001B[39mdescription,\n\u001B[1;32m     51\u001B[0m     )\n",
      "\u001B[0;31mAttributeError\u001B[0m: 'FieldInfo' object has no attribute 'field_info'"
     ]
    }
   ],
   "execution_count": 13
  },
  {
   "metadata": {
    "ExecuteTime": {
     "end_time": "2024-12-17T19:41:56.758616Z",
     "start_time": "2024-12-10T22:38:55.894836Z"
    }
   },
   "cell_type": "code",
   "source": [
    "from llama_index.embeddings.huggingface import HuggingFaceEmbedding\n",
    "\n",
    "embed_model = HuggingFaceEmbedding(model_name=\"BAAI/bge-small-en-v1.5\")"
   ],
   "id": "aad53451727a5a8b",
   "outputs": [
    {
     "name": "stderr",
     "output_type": "stream",
     "text": [
      "/opt/anaconda3/envs/COS243/lib/python3.11/site-packages/huggingface_hub/file_download.py:1142: FutureWarning: `resume_download` is deprecated and will be removed in version 1.0.0. Downloads always resume when possible. If you want to force a new download, use `force_download=True`.\n",
      "  warnings.warn(\n"
     ]
    }
   ],
   "execution_count": 6
  },
  {
   "metadata": {
    "ExecuteTime": {
     "end_time": "2024-12-17T19:41:56.758859Z",
     "start_time": "2024-12-17T19:35:54.390863Z"
    }
   },
   "cell_type": "code",
   "source": [
    "from llama_index.core import Settings\n",
    "\n",
    "Settings.llm = llm\n",
    "Settings.embed_model = embed_model"
   ],
   "id": "cef821808926ba36",
   "outputs": [
    {
     "ename": "NameError",
     "evalue": "name 'llm' is not defined",
     "output_type": "error",
     "traceback": [
      "\u001B[0;31m---------------------------------------------------------------------------\u001B[0m",
      "\u001B[0;31mNameError\u001B[0m                                 Traceback (most recent call last)",
      "Cell \u001B[0;32mIn[8], line 3\u001B[0m\n\u001B[1;32m      1\u001B[0m \u001B[38;5;28;01mfrom\u001B[39;00m \u001B[38;5;21;01mllama_index\u001B[39;00m\u001B[38;5;21;01m.\u001B[39;00m\u001B[38;5;21;01mcore\u001B[39;00m \u001B[38;5;28;01mimport\u001B[39;00m Settings\n\u001B[0;32m----> 3\u001B[0m Settings\u001B[38;5;241m.\u001B[39mllm \u001B[38;5;241m=\u001B[39m \u001B[43mllm\u001B[49m\n\u001B[1;32m      4\u001B[0m Settings\u001B[38;5;241m.\u001B[39membed_model \u001B[38;5;241m=\u001B[39m embed_model\n",
      "\u001B[0;31mNameError\u001B[0m: name 'llm' is not defined"
     ]
    }
   ],
   "execution_count": 8
  },
  {
   "metadata": {
    "ExecuteTime": {
     "end_time": "2024-12-17T19:41:56.758923Z",
     "start_time": "2024-12-10T22:39:01.137563Z"
    }
   },
   "cell_type": "code",
   "source": [
    "LLAMAINDEX_API_KEY = os.getenv('LLAMAINDEX_API_KEY')\n",
    "print(LLAMAINDEX_API_KEY)"
   ],
   "id": "6ee53c9c298c5278",
   "outputs": [
    {
     "name": "stdout",
     "output_type": "stream",
     "text": [
      "llx-HgVBhgVsv7PiFK5Xs5QD1IFHVuTmIX2le93iDT1ZSYqtFsb3\n"
     ]
    }
   ],
   "execution_count": 8
  },
  {
   "metadata": {
    "ExecuteTime": {
     "end_time": "2024-12-17T19:41:56.758981Z",
     "start_time": "2024-12-10T22:39:31.868556Z"
    }
   },
   "cell_type": "code",
   "source": [
    "from llama_index.core import SimpleDirectoryReader\n",
    "book_path = \"./upload/The Theory That Would Not Die How Bayes Rule Cracked the Enigma Code Hunted Down Russian Submarines and Emerged Triumphant from Two Centuries of Controversy by Sharon Bertsch McGrayne.pdf\"\n",
    "\n",
    "docs_bayes = SimpleDirectoryReader(input_files=[book_path]).load_data()\n"
   ],
   "id": "bd2e0eb21a20a500",
   "outputs": [],
   "execution_count": 11
  },
  {
   "metadata": {
    "ExecuteTime": {
     "end_time": "2024-12-17T19:41:56.759027Z",
     "start_time": "2024-12-10T22:39:52.749312Z"
    }
   },
   "cell_type": "code",
   "source": "docs_bayes[2].metadata",
   "id": "b5393f83d3e7fc04",
   "outputs": [
    {
     "data": {
      "text/plain": [
       "{'page_label': '3',\n",
       " 'file_name': 'The Theory That Would Not Die How Bayes Rule Cracked the Enigma Code Hunted Down Russian Submarines and Emerged Triumphant from Two Centuries of Controversy by Sharon Bertsch McGrayne.pdf',\n",
       " 'file_path': 'upload/The Theory That Would Not Die How Bayes Rule Cracked the Enigma Code Hunted Down Russian Submarines and Emerged Triumphant from Two Centuries of Controversy by Sharon Bertsch McGrayne.pdf',\n",
       " 'file_type': 'application/pdf',\n",
       " 'file_size': 2592963,\n",
       " 'creation_date': '2024-12-10',\n",
       " 'last_modified_date': '2024-12-10'}"
      ]
     },
     "execution_count": 12,
     "metadata": {},
     "output_type": "execute_result"
    }
   ],
   "execution_count": 12
  },
  {
   "metadata": {
    "ExecuteTime": {
     "end_time": "2024-12-17T19:41:56.765731Z",
     "start_time": "2024-12-09T22:52:44.990955Z"
    }
   },
   "cell_type": "code",
   "source": [
    "response = llm.complete(\"do you like Thomas Bayes?\")\n",
    "\n",
    "print(response.text)"
   ],
   "id": "9c2162ca4645db21",
   "outputs": [
    {
     "name": "stdout",
     "output_type": "stream",
     "text": [
      "I'm just an AI, I don't have personal preferences or emotions, but I can tell you that Thomas Bayes was a British mathematician and Presbyterian minister who lived in the 18th century. He is best known for his work on probability theory, and his famous theorem, Bayes' theorem, is a fundamental concept in statistics and data analysis.\n",
      "\n",
      "Bayes' theorem is a mathematical formula that describes how to update the probability of a hypothesis based on new evidence. It is widely used in many fields, including medicine, engineering, economics, and computer science.\n",
      "\n",
      "Many people consider Bayes to be one of the most important mathematicians of the 18th century, and his work has had a significant impact on the development of statistics and probability theory.\n"
     ]
    }
   ],
   "execution_count": 48
  },
  {
   "metadata": {
    "ExecuteTime": {
     "end_time": "2024-12-17T19:41:56.765888Z",
     "start_time": "2024-12-09T22:53:01.249898Z"
    }
   },
   "cell_type": "code",
   "source": [
    "stream_response = llm.stream_complete(\n",
    "    \"you're a Bayesian fan. tell me why you like Bayesian more than Frequentists\"\n",
    ")\n",
    "\n",
    "for t in stream_response:\n",
    "    print(t.delta, end=\"\")"
   ],
   "id": "fe0064e2fd0c9b6e",
   "outputs": [
    {
     "name": "stdout",
     "output_type": "stream",
     "text": [
      "A delightful topic! As a Bayesian enthusiast, I'm excited to share with you why I prefer the Bayesian approach over the frequentist one. Here are some key reasons:\n",
      "\n",
      "1. **Interpretation of probability**: Bayesians view probability as a measure of uncertainty or degree of belief, whereas frequentists see it as a long-run relative frequency. I find the Bayesian interpretation more intuitive and flexible, as it allows us to update our beliefs based on new evidence.\n",
      "2. **Model uncertainty**: Bayesians acknowledge that models are never perfect and that there's always uncertainty about the true underlying process. We can incorporate this uncertainty into our analysis by using hierarchical models, which allow us to model the uncertainty in the model itself. Frequentists, on the other hand, often assume that the model is known with certainty.\n",
      "3. **Handling missing data**: Bayesians can easily handle missing data by using techniques like multiple imputation or Bayesian data augmentation. This is particularly useful in many real-world applications where data is often incomplete or missing. Frequentists often struggle with missing data, as they need to make strong assumptions about the missing values.\n",
      "4. **Flexibility in model specification**: Bayesians can specify complex models with non-linear relationships, interactions, and non-normal distributions. This flexibility is particularly useful in fields like medicine, social sciences, and economics, where relationships are often complex and non-linear. Frequentists, on the other hand, often rely on simpler models that may not capture the underlying relationships as accurately.\n",
      "5. **Computational power**: The rise of computational power and specialized software (e.g., Stan, PyMC3, RStan) has made Bayesian inference more accessible and efficient. We can now perform complex Bayesian analyses quickly and accurately, which was not possible in the past.\n",
      "6. **Incorporating prior knowledge**: Bayesians can incorporate prior knowledge and domain expertise into the analysis, which is particularly useful in fields where there is a strong understanding of the underlying mechanisms. This allows us to regularize the model and avoid overfitting. Frequentists often rely on data-driven methods, which can lead to overfitting and poor generalization.\n",
      "7. **Handling multiple testing**: Bayesians can handle multiple testing problems by using techniques like the false discovery rate (FDR) or the Bayesian multiple testing procedure. This is particularly useful in fields like genomics, where thousands of tests are often performed simultaneously. Frequentists often rely on Bonferroni corrections, which can be overly conservative.\n",
      "8. **Credible intervals**: Bayesians can provide credible intervals, which are more informative than frequentist confidence intervals. Credible intervals provide a range of values within which the true parameter is likely to lie, whereas confidence intervals only provide a range of values within which the true parameter is likely to lie, given the null hypothesis.\n",
      "9. **Model selection**: Bayesians can perform model selection using techniques like Bayes factors or posterior model probabilities. This allows us to compare multiple models and select the most plausible one. Frequentists often rely on information criteria (e.g., AIC, BIC), which can be sensitive to the choice of penalty term.\n",
      "10. **Philosophical appeal**: The Bayesian approach has a strong philosophical foundation, which is rooted in the concept of subjective probability. This allows us to make probabilistic statements about the world, which is more in line with our everyday experience of uncertainty.\n",
      "\n",
      "Of course, frequentists have their own strengths, and there are situations where the frequentist approach is more suitable. However, for me, the Bayesian approach offers a more comprehensive and flexible framework for statistical inference."
     ]
    }
   ],
   "execution_count": 49
  },
  {
   "metadata": {
    "ExecuteTime": {
     "end_time": "2024-12-17T19:41:56.765946Z",
     "start_time": "2024-12-09T22:53:19.200822Z"
    }
   },
   "cell_type": "code",
   "source": [
    "from llama_index.core.llms import ChatMessage\n",
    "\n",
    "messages = [\n",
    "    ChatMessage(role=\"system\", content=\"You are a Bayesian fan.\"),\n",
    "    ChatMessage(role=\"user\", content=\"Write a verse.\"),\n",
    "]\n",
    "response = llm.chat(messages)"
   ],
   "id": "3e8126888655e5e4",
   "outputs": [],
   "execution_count": 50
  },
  {
   "metadata": {
    "ExecuteTime": {
     "end_time": "2024-12-17T19:41:56.765985Z",
     "start_time": "2024-12-09T22:53:25.993277Z"
    }
   },
   "cell_type": "code",
   "source": "print(response)",
   "id": "384d2c7fa01de790",
   "outputs": [
    {
     "name": "stdout",
     "output_type": "stream",
     "text": [
      "assistant: \"In the land of probability's sway,\n",
      "I'll follow the numbers, come what may,\n",
      "My heart beats for Bayes' theorem's might,\n",
      "Guiding me through the uncertainty of night.\"\n"
     ]
    }
   ],
   "execution_count": 51
  },
  {
   "metadata": {
    "ExecuteTime": {
     "end_time": "2024-12-17T19:41:56.766024Z",
     "start_time": "2024-12-10T22:40:03.330647Z"
    }
   },
   "cell_type": "code",
   "source": [
    "from llama_index.core import VectorStoreIndex\n",
    "from pprint import pprint\n",
    "index = VectorStoreIndex.from_documents(docs_bayes)\n",
    "query_engine = index.as_chat_engine(similarity_top_k=5)"
   ],
   "id": "35ace3de2b84b6d0",
   "outputs": [],
   "execution_count": 14
  },
  {
   "metadata": {
    "ExecuteTime": {
     "end_time": "2024-12-17T19:41:56.766069Z",
     "start_time": "2024-12-10T22:40:12.842955Z"
    }
   },
   "cell_type": "code",
   "source": "response = query_engine.query(\"Explain cosine similarity, using info from the book on Data Mining\")",
   "id": "d5dc4790d110cf47",
   "outputs": [],
   "execution_count": 15
  },
  {
   "metadata": {
    "ExecuteTime": {
     "end_time": "2024-12-17T19:41:56.766105Z",
     "start_time": "2024-12-10T01:36:46.758707Z"
    }
   },
   "cell_type": "code",
   "source": "print(response)",
   "id": "54d7a4a4457955ff",
   "outputs": [
    {
     "name": "stdout",
     "output_type": "stream",
     "text": [
      "Cosine similarity is a measure of the similarity between two vectors, often used in machine learning and data analysis. It is calculated as the dot product of the two vectors divided by the product of their magnitudes. In other words, it measures the angle between the two vectors, with a smaller angle indicating a higher similarity.\n",
      "\n",
      "In the context of text analysis, cosine similarity is often used to measure the similarity between documents or sentences. It is particularly useful when dealing with high-dimensional data, such as text documents, where traditional measures of similarity may not be effective.\n",
      "\n",
      "For example, in the context of search engines, cosine similarity can be used to rank search results based on their relevance to the query. The search engine can calculate the cosine similarity between the query and each document in the index, and then rank the documents based on their similarity scores.\n",
      "\n",
      "In addition to search engines, cosine similarity has many other applications in data mining and machine learning, such as clustering, classification, and recommendation systems. It is a powerful tool for analyzing and understanding complex data sets, and is widely used in many different fields.\n"
     ]
    }
   ],
   "execution_count": 94
  },
  {
   "metadata": {
    "ExecuteTime": {
     "end_time": "2024-12-17T19:41:56.766142Z",
     "start_time": "2024-12-10T22:40:17.589623Z"
    }
   },
   "cell_type": "code",
   "source": [
    "def GetSources(response):\n",
    "  for node in response.source_nodes:\n",
    "      # Access the TextNode object directly\n",
    "      text_node = node.node\n",
    "\n",
    "      # Assuming metadata is stored within the TextNode's metadata\n",
    "      source = text_node.metadata.get('file_name') # Access metadata using .metadata.get()\n",
    "      page = text_node.metadata.get('page_label')  # Access metadata using .metadata.get()\n",
    "\n",
    "      print(f\"Source: {source[:30]}...\")\n",
    "      print(f\"Page: {page}\")\n",
    "\n",
    "GetSources(response)"
   ],
   "id": "b1de7aa3eb8f870c",
   "outputs": [
    {
     "name": "stdout",
     "output_type": "stream",
     "text": [
      "Source: The Theory That Would Not Die ...\n",
      "Page: 278\n",
      "Source: The Theory That Would Not Die ...\n",
      "Page: 275\n",
      "Source: The Theory That Would Not Die ...\n",
      "Page: 274\n",
      "Source: The Theory That Would Not Die ...\n",
      "Page: 277\n",
      "Source: The Theory That Would Not Die ...\n",
      "Page: 264\n"
     ]
    }
   ],
   "execution_count": 16
  },
  {
   "metadata": {
    "ExecuteTime": {
     "end_time": "2024-12-17T19:41:56.766178Z",
     "start_time": "2024-12-10T22:40:25.758264Z"
    }
   },
   "cell_type": "code",
   "source": [
    "from llama_index.core import SummaryIndex\n",
    "\n",
    "summary_index = SummaryIndex.from_documents(docs_bayes)\n",
    "summary_engine = summary_index.as_query_engine()"
   ],
   "id": "ef6ad1f5091ab98f",
   "outputs": [],
   "execution_count": 17
  },
  {
   "metadata": {
    "ExecuteTime": {
     "end_time": "2024-12-17T19:41:56.766211Z",
     "start_time": "2024-12-10T22:40:27.064530Z"
    }
   },
   "cell_type": "code",
   "source": [
    "response = summary_engine.query(\n",
    "    \"\"\"Given info from the provided sources, analyze how Bayesian probability transformed\n",
    "    from a controversial mathematical concept to a critical tool in military intelligence\"\"\"\n",
    ")"
   ],
   "id": "86b55fea961c5b2a",
   "outputs": [
    {
     "ename": "KeyboardInterrupt",
     "evalue": "",
     "output_type": "error",
     "traceback": [
      "\u001B[0;31m---------------------------------------------------------------------------\u001B[0m",
      "\u001B[0;31mHTTPStatusError\u001B[0m                           Traceback (most recent call last)",
      "File \u001B[0;32m/opt/anaconda3/envs/COS243/lib/python3.11/site-packages/openai/_base_client.py:1037\u001B[0m, in \u001B[0;36mSyncAPIClient._request\u001B[0;34m(self, cast_to, options, retries_taken, stream, stream_cls)\u001B[0m\n\u001B[1;32m   1036\u001B[0m \u001B[38;5;28;01mtry\u001B[39;00m:\n\u001B[0;32m-> 1037\u001B[0m     \u001B[43mresponse\u001B[49m\u001B[38;5;241;43m.\u001B[39;49m\u001B[43mraise_for_status\u001B[49m\u001B[43m(\u001B[49m\u001B[43m)\u001B[49m\n\u001B[1;32m   1038\u001B[0m \u001B[38;5;28;01mexcept\u001B[39;00m httpx\u001B[38;5;241m.\u001B[39mHTTPStatusError \u001B[38;5;28;01mas\u001B[39;00m err:  \u001B[38;5;66;03m# thrown on 4xx and 5xx status code\u001B[39;00m\n",
      "File \u001B[0;32m/opt/anaconda3/envs/COS243/lib/python3.11/site-packages/httpx/_models.py:761\u001B[0m, in \u001B[0;36mResponse.raise_for_status\u001B[0;34m(self)\u001B[0m\n\u001B[1;32m    760\u001B[0m message \u001B[38;5;241m=\u001B[39m message\u001B[38;5;241m.\u001B[39mformat(\u001B[38;5;28mself\u001B[39m, error_type\u001B[38;5;241m=\u001B[39merror_type)\n\u001B[0;32m--> 761\u001B[0m \u001B[38;5;28;01mraise\u001B[39;00m HTTPStatusError(message, request\u001B[38;5;241m=\u001B[39mrequest, response\u001B[38;5;241m=\u001B[39m\u001B[38;5;28mself\u001B[39m)\n",
      "\u001B[0;31mHTTPStatusError\u001B[0m: Client error '429 Too Many Requests' for url 'https://api.groq.com/openai/v1/chat/completions'\nFor more information check: https://developer.mozilla.org/en-US/docs/Web/HTTP/Status/429",
      "\nDuring handling of the above exception, another exception occurred:\n",
      "\u001B[0;31mKeyboardInterrupt\u001B[0m                         Traceback (most recent call last)",
      "Cell \u001B[0;32mIn[18], line 1\u001B[0m\n\u001B[0;32m----> 1\u001B[0m response \u001B[38;5;241m=\u001B[39m \u001B[43msummary_engine\u001B[49m\u001B[38;5;241;43m.\u001B[39;49m\u001B[43mquery\u001B[49m\u001B[43m(\u001B[49m\n\u001B[1;32m      2\u001B[0m \u001B[38;5;250;43m    \u001B[39;49m\u001B[38;5;124;43;03m\"\"\"Given info from the provided sources, analyze how Bayesian probability transformed\u001B[39;49;00m\n\u001B[1;32m      3\u001B[0m \u001B[38;5;124;43;03m    from a controversial mathematical concept to a critical tool in military intelligence\"\"\"\u001B[39;49;00m\n\u001B[1;32m      4\u001B[0m \u001B[43m)\u001B[49m\n",
      "File \u001B[0;32m/opt/anaconda3/envs/COS243/lib/python3.11/site-packages/llama_index/core/instrumentation/dispatcher.py:260\u001B[0m, in \u001B[0;36mDispatcher.span.<locals>.wrapper\u001B[0;34m(func, instance, args, kwargs)\u001B[0m\n\u001B[1;32m    252\u001B[0m \u001B[38;5;28mself\u001B[39m\u001B[38;5;241m.\u001B[39mspan_enter(\n\u001B[1;32m    253\u001B[0m     id_\u001B[38;5;241m=\u001B[39mid_,\n\u001B[1;32m    254\u001B[0m     bound_args\u001B[38;5;241m=\u001B[39mbound_args,\n\u001B[0;32m   (...)\u001B[0m\n\u001B[1;32m    257\u001B[0m     tags\u001B[38;5;241m=\u001B[39mtags,\n\u001B[1;32m    258\u001B[0m )\n\u001B[1;32m    259\u001B[0m \u001B[38;5;28;01mtry\u001B[39;00m:\n\u001B[0;32m--> 260\u001B[0m     result \u001B[38;5;241m=\u001B[39m \u001B[43mfunc\u001B[49m\u001B[43m(\u001B[49m\u001B[38;5;241;43m*\u001B[39;49m\u001B[43margs\u001B[49m\u001B[43m,\u001B[49m\u001B[43m \u001B[49m\u001B[38;5;241;43m*\u001B[39;49m\u001B[38;5;241;43m*\u001B[39;49m\u001B[43mkwargs\u001B[49m\u001B[43m)\u001B[49m\n\u001B[1;32m    261\u001B[0m \u001B[38;5;28;01mexcept\u001B[39;00m \u001B[38;5;167;01mBaseException\u001B[39;00m \u001B[38;5;28;01mas\u001B[39;00m e:\n\u001B[1;32m    262\u001B[0m     \u001B[38;5;28mself\u001B[39m\u001B[38;5;241m.\u001B[39mevent(SpanDropEvent(span_id\u001B[38;5;241m=\u001B[39mid_, err_str\u001B[38;5;241m=\u001B[39m\u001B[38;5;28mstr\u001B[39m(e)))\n",
      "File \u001B[0;32m/opt/anaconda3/envs/COS243/lib/python3.11/site-packages/llama_index/core/base/base_query_engine.py:52\u001B[0m, in \u001B[0;36mBaseQueryEngine.query\u001B[0;34m(self, str_or_query_bundle)\u001B[0m\n\u001B[1;32m     50\u001B[0m     \u001B[38;5;28;01mif\u001B[39;00m \u001B[38;5;28misinstance\u001B[39m(str_or_query_bundle, \u001B[38;5;28mstr\u001B[39m):\n\u001B[1;32m     51\u001B[0m         str_or_query_bundle \u001B[38;5;241m=\u001B[39m QueryBundle(str_or_query_bundle)\n\u001B[0;32m---> 52\u001B[0m     query_result \u001B[38;5;241m=\u001B[39m \u001B[38;5;28;43mself\u001B[39;49m\u001B[38;5;241;43m.\u001B[39;49m\u001B[43m_query\u001B[49m\u001B[43m(\u001B[49m\u001B[43mstr_or_query_bundle\u001B[49m\u001B[43m)\u001B[49m\n\u001B[1;32m     53\u001B[0m dispatcher\u001B[38;5;241m.\u001B[39mevent(\n\u001B[1;32m     54\u001B[0m     QueryEndEvent(query\u001B[38;5;241m=\u001B[39mstr_or_query_bundle, response\u001B[38;5;241m=\u001B[39mquery_result)\n\u001B[1;32m     55\u001B[0m )\n\u001B[1;32m     56\u001B[0m \u001B[38;5;28;01mreturn\u001B[39;00m query_result\n",
      "File \u001B[0;32m/opt/anaconda3/envs/COS243/lib/python3.11/site-packages/llama_index/core/instrumentation/dispatcher.py:260\u001B[0m, in \u001B[0;36mDispatcher.span.<locals>.wrapper\u001B[0;34m(func, instance, args, kwargs)\u001B[0m\n\u001B[1;32m    252\u001B[0m \u001B[38;5;28mself\u001B[39m\u001B[38;5;241m.\u001B[39mspan_enter(\n\u001B[1;32m    253\u001B[0m     id_\u001B[38;5;241m=\u001B[39mid_,\n\u001B[1;32m    254\u001B[0m     bound_args\u001B[38;5;241m=\u001B[39mbound_args,\n\u001B[0;32m   (...)\u001B[0m\n\u001B[1;32m    257\u001B[0m     tags\u001B[38;5;241m=\u001B[39mtags,\n\u001B[1;32m    258\u001B[0m )\n\u001B[1;32m    259\u001B[0m \u001B[38;5;28;01mtry\u001B[39;00m:\n\u001B[0;32m--> 260\u001B[0m     result \u001B[38;5;241m=\u001B[39m \u001B[43mfunc\u001B[49m\u001B[43m(\u001B[49m\u001B[38;5;241;43m*\u001B[39;49m\u001B[43margs\u001B[49m\u001B[43m,\u001B[49m\u001B[43m \u001B[49m\u001B[38;5;241;43m*\u001B[39;49m\u001B[38;5;241;43m*\u001B[39;49m\u001B[43mkwargs\u001B[49m\u001B[43m)\u001B[49m\n\u001B[1;32m    261\u001B[0m \u001B[38;5;28;01mexcept\u001B[39;00m \u001B[38;5;167;01mBaseException\u001B[39;00m \u001B[38;5;28;01mas\u001B[39;00m e:\n\u001B[1;32m    262\u001B[0m     \u001B[38;5;28mself\u001B[39m\u001B[38;5;241m.\u001B[39mevent(SpanDropEvent(span_id\u001B[38;5;241m=\u001B[39mid_, err_str\u001B[38;5;241m=\u001B[39m\u001B[38;5;28mstr\u001B[39m(e)))\n",
      "File \u001B[0;32m/opt/anaconda3/envs/COS243/lib/python3.11/site-packages/llama_index/core/query_engine/retriever_query_engine.py:190\u001B[0m, in \u001B[0;36mRetrieverQueryEngine._query\u001B[0;34m(self, query_bundle)\u001B[0m\n\u001B[1;32m    186\u001B[0m \u001B[38;5;28;01mwith\u001B[39;00m \u001B[38;5;28mself\u001B[39m\u001B[38;5;241m.\u001B[39mcallback_manager\u001B[38;5;241m.\u001B[39mevent(\n\u001B[1;32m    187\u001B[0m     CBEventType\u001B[38;5;241m.\u001B[39mQUERY, payload\u001B[38;5;241m=\u001B[39m{EventPayload\u001B[38;5;241m.\u001B[39mQUERY_STR: query_bundle\u001B[38;5;241m.\u001B[39mquery_str}\n\u001B[1;32m    188\u001B[0m ) \u001B[38;5;28;01mas\u001B[39;00m query_event:\n\u001B[1;32m    189\u001B[0m     nodes \u001B[38;5;241m=\u001B[39m \u001B[38;5;28mself\u001B[39m\u001B[38;5;241m.\u001B[39mretrieve(query_bundle)\n\u001B[0;32m--> 190\u001B[0m     response \u001B[38;5;241m=\u001B[39m \u001B[38;5;28;43mself\u001B[39;49m\u001B[38;5;241;43m.\u001B[39;49m\u001B[43m_response_synthesizer\u001B[49m\u001B[38;5;241;43m.\u001B[39;49m\u001B[43msynthesize\u001B[49m\u001B[43m(\u001B[49m\n\u001B[1;32m    191\u001B[0m \u001B[43m        \u001B[49m\u001B[43mquery\u001B[49m\u001B[38;5;241;43m=\u001B[39;49m\u001B[43mquery_bundle\u001B[49m\u001B[43m,\u001B[49m\n\u001B[1;32m    192\u001B[0m \u001B[43m        \u001B[49m\u001B[43mnodes\u001B[49m\u001B[38;5;241;43m=\u001B[39;49m\u001B[43mnodes\u001B[49m\u001B[43m,\u001B[49m\n\u001B[1;32m    193\u001B[0m \u001B[43m    \u001B[49m\u001B[43m)\u001B[49m\n\u001B[1;32m    194\u001B[0m     query_event\u001B[38;5;241m.\u001B[39mon_end(payload\u001B[38;5;241m=\u001B[39m{EventPayload\u001B[38;5;241m.\u001B[39mRESPONSE: response})\n\u001B[1;32m    196\u001B[0m \u001B[38;5;28;01mreturn\u001B[39;00m response\n",
      "File \u001B[0;32m/opt/anaconda3/envs/COS243/lib/python3.11/site-packages/llama_index/core/instrumentation/dispatcher.py:260\u001B[0m, in \u001B[0;36mDispatcher.span.<locals>.wrapper\u001B[0;34m(func, instance, args, kwargs)\u001B[0m\n\u001B[1;32m    252\u001B[0m \u001B[38;5;28mself\u001B[39m\u001B[38;5;241m.\u001B[39mspan_enter(\n\u001B[1;32m    253\u001B[0m     id_\u001B[38;5;241m=\u001B[39mid_,\n\u001B[1;32m    254\u001B[0m     bound_args\u001B[38;5;241m=\u001B[39mbound_args,\n\u001B[0;32m   (...)\u001B[0m\n\u001B[1;32m    257\u001B[0m     tags\u001B[38;5;241m=\u001B[39mtags,\n\u001B[1;32m    258\u001B[0m )\n\u001B[1;32m    259\u001B[0m \u001B[38;5;28;01mtry\u001B[39;00m:\n\u001B[0;32m--> 260\u001B[0m     result \u001B[38;5;241m=\u001B[39m \u001B[43mfunc\u001B[49m\u001B[43m(\u001B[49m\u001B[38;5;241;43m*\u001B[39;49m\u001B[43margs\u001B[49m\u001B[43m,\u001B[49m\u001B[43m \u001B[49m\u001B[38;5;241;43m*\u001B[39;49m\u001B[38;5;241;43m*\u001B[39;49m\u001B[43mkwargs\u001B[49m\u001B[43m)\u001B[49m\n\u001B[1;32m    261\u001B[0m \u001B[38;5;28;01mexcept\u001B[39;00m \u001B[38;5;167;01mBaseException\u001B[39;00m \u001B[38;5;28;01mas\u001B[39;00m e:\n\u001B[1;32m    262\u001B[0m     \u001B[38;5;28mself\u001B[39m\u001B[38;5;241m.\u001B[39mevent(SpanDropEvent(span_id\u001B[38;5;241m=\u001B[39mid_, err_str\u001B[38;5;241m=\u001B[39m\u001B[38;5;28mstr\u001B[39m(e)))\n",
      "File \u001B[0;32m/opt/anaconda3/envs/COS243/lib/python3.11/site-packages/llama_index/core/response_synthesizers/base.py:251\u001B[0m, in \u001B[0;36mBaseSynthesizer.synthesize\u001B[0;34m(self, query, nodes, additional_source_nodes, **response_kwargs)\u001B[0m\n\u001B[1;32m    245\u001B[0m     query \u001B[38;5;241m=\u001B[39m QueryBundle(query_str\u001B[38;5;241m=\u001B[39mquery)\n\u001B[1;32m    247\u001B[0m \u001B[38;5;28;01mwith\u001B[39;00m \u001B[38;5;28mself\u001B[39m\u001B[38;5;241m.\u001B[39m_callback_manager\u001B[38;5;241m.\u001B[39mevent(\n\u001B[1;32m    248\u001B[0m     CBEventType\u001B[38;5;241m.\u001B[39mSYNTHESIZE,\n\u001B[1;32m    249\u001B[0m     payload\u001B[38;5;241m=\u001B[39m{EventPayload\u001B[38;5;241m.\u001B[39mQUERY_STR: query\u001B[38;5;241m.\u001B[39mquery_str},\n\u001B[1;32m    250\u001B[0m ) \u001B[38;5;28;01mas\u001B[39;00m event:\n\u001B[0;32m--> 251\u001B[0m     response_str \u001B[38;5;241m=\u001B[39m \u001B[38;5;28;43mself\u001B[39;49m\u001B[38;5;241;43m.\u001B[39;49m\u001B[43mget_response\u001B[49m\u001B[43m(\u001B[49m\n\u001B[1;32m    252\u001B[0m \u001B[43m        \u001B[49m\u001B[43mquery_str\u001B[49m\u001B[38;5;241;43m=\u001B[39;49m\u001B[43mquery\u001B[49m\u001B[38;5;241;43m.\u001B[39;49m\u001B[43mquery_str\u001B[49m\u001B[43m,\u001B[49m\n\u001B[1;32m    253\u001B[0m \u001B[43m        \u001B[49m\u001B[43mtext_chunks\u001B[49m\u001B[38;5;241;43m=\u001B[39;49m\u001B[43m[\u001B[49m\n\u001B[1;32m    254\u001B[0m \u001B[43m            \u001B[49m\u001B[43mn\u001B[49m\u001B[38;5;241;43m.\u001B[39;49m\u001B[43mnode\u001B[49m\u001B[38;5;241;43m.\u001B[39;49m\u001B[43mget_content\u001B[49m\u001B[43m(\u001B[49m\u001B[43mmetadata_mode\u001B[49m\u001B[38;5;241;43m=\u001B[39;49m\u001B[43mMetadataMode\u001B[49m\u001B[38;5;241;43m.\u001B[39;49m\u001B[43mLLM\u001B[49m\u001B[43m)\u001B[49m\u001B[43m \u001B[49m\u001B[38;5;28;43;01mfor\u001B[39;49;00m\u001B[43m \u001B[49m\u001B[43mn\u001B[49m\u001B[43m \u001B[49m\u001B[38;5;129;43;01min\u001B[39;49;00m\u001B[43m \u001B[49m\u001B[43mnodes\u001B[49m\n\u001B[1;32m    255\u001B[0m \u001B[43m        \u001B[49m\u001B[43m]\u001B[49m\u001B[43m,\u001B[49m\n\u001B[1;32m    256\u001B[0m \u001B[43m        \u001B[49m\u001B[38;5;241;43m*\u001B[39;49m\u001B[38;5;241;43m*\u001B[39;49m\u001B[43mresponse_kwargs\u001B[49m\u001B[43m,\u001B[49m\n\u001B[1;32m    257\u001B[0m \u001B[43m    \u001B[49m\u001B[43m)\u001B[49m\n\u001B[1;32m    259\u001B[0m     additional_source_nodes \u001B[38;5;241m=\u001B[39m additional_source_nodes \u001B[38;5;129;01mor\u001B[39;00m []\n\u001B[1;32m    260\u001B[0m     source_nodes \u001B[38;5;241m=\u001B[39m \u001B[38;5;28mlist\u001B[39m(nodes) \u001B[38;5;241m+\u001B[39m \u001B[38;5;28mlist\u001B[39m(additional_source_nodes)\n",
      "File \u001B[0;32m/opt/anaconda3/envs/COS243/lib/python3.11/site-packages/llama_index/core/instrumentation/dispatcher.py:260\u001B[0m, in \u001B[0;36mDispatcher.span.<locals>.wrapper\u001B[0;34m(func, instance, args, kwargs)\u001B[0m\n\u001B[1;32m    252\u001B[0m \u001B[38;5;28mself\u001B[39m\u001B[38;5;241m.\u001B[39mspan_enter(\n\u001B[1;32m    253\u001B[0m     id_\u001B[38;5;241m=\u001B[39mid_,\n\u001B[1;32m    254\u001B[0m     bound_args\u001B[38;5;241m=\u001B[39mbound_args,\n\u001B[0;32m   (...)\u001B[0m\n\u001B[1;32m    257\u001B[0m     tags\u001B[38;5;241m=\u001B[39mtags,\n\u001B[1;32m    258\u001B[0m )\n\u001B[1;32m    259\u001B[0m \u001B[38;5;28;01mtry\u001B[39;00m:\n\u001B[0;32m--> 260\u001B[0m     result \u001B[38;5;241m=\u001B[39m \u001B[43mfunc\u001B[49m\u001B[43m(\u001B[49m\u001B[38;5;241;43m*\u001B[39;49m\u001B[43margs\u001B[49m\u001B[43m,\u001B[49m\u001B[43m \u001B[49m\u001B[38;5;241;43m*\u001B[39;49m\u001B[38;5;241;43m*\u001B[39;49m\u001B[43mkwargs\u001B[49m\u001B[43m)\u001B[49m\n\u001B[1;32m    261\u001B[0m \u001B[38;5;28;01mexcept\u001B[39;00m \u001B[38;5;167;01mBaseException\u001B[39;00m \u001B[38;5;28;01mas\u001B[39;00m e:\n\u001B[1;32m    262\u001B[0m     \u001B[38;5;28mself\u001B[39m\u001B[38;5;241m.\u001B[39mevent(SpanDropEvent(span_id\u001B[38;5;241m=\u001B[39mid_, err_str\u001B[38;5;241m=\u001B[39m\u001B[38;5;28mstr\u001B[39m(e)))\n",
      "File \u001B[0;32m/opt/anaconda3/envs/COS243/lib/python3.11/site-packages/llama_index/core/response_synthesizers/compact_and_refine.py:43\u001B[0m, in \u001B[0;36mCompactAndRefine.get_response\u001B[0;34m(self, query_str, text_chunks, prev_response, **response_kwargs)\u001B[0m\n\u001B[1;32m     39\u001B[0m \u001B[38;5;66;03m# use prompt helper to fix compact text_chunks under the prompt limitation\u001B[39;00m\n\u001B[1;32m     40\u001B[0m \u001B[38;5;66;03m# TODO: This is a temporary fix - reason it's temporary is that\u001B[39;00m\n\u001B[1;32m     41\u001B[0m \u001B[38;5;66;03m# the refine template does not account for size of previous answer.\u001B[39;00m\n\u001B[1;32m     42\u001B[0m new_texts \u001B[38;5;241m=\u001B[39m \u001B[38;5;28mself\u001B[39m\u001B[38;5;241m.\u001B[39m_make_compact_text_chunks(query_str, text_chunks)\n\u001B[0;32m---> 43\u001B[0m \u001B[38;5;28;01mreturn\u001B[39;00m \u001B[38;5;28;43msuper\u001B[39;49m\u001B[43m(\u001B[49m\u001B[43m)\u001B[49m\u001B[38;5;241;43m.\u001B[39;49m\u001B[43mget_response\u001B[49m\u001B[43m(\u001B[49m\n\u001B[1;32m     44\u001B[0m \u001B[43m    \u001B[49m\u001B[43mquery_str\u001B[49m\u001B[38;5;241;43m=\u001B[39;49m\u001B[43mquery_str\u001B[49m\u001B[43m,\u001B[49m\n\u001B[1;32m     45\u001B[0m \u001B[43m    \u001B[49m\u001B[43mtext_chunks\u001B[49m\u001B[38;5;241;43m=\u001B[39;49m\u001B[43mnew_texts\u001B[49m\u001B[43m,\u001B[49m\n\u001B[1;32m     46\u001B[0m \u001B[43m    \u001B[49m\u001B[43mprev_response\u001B[49m\u001B[38;5;241;43m=\u001B[39;49m\u001B[43mprev_response\u001B[49m\u001B[43m,\u001B[49m\n\u001B[1;32m     47\u001B[0m \u001B[43m    \u001B[49m\u001B[38;5;241;43m*\u001B[39;49m\u001B[38;5;241;43m*\u001B[39;49m\u001B[43mresponse_kwargs\u001B[49m\u001B[43m,\u001B[49m\n\u001B[1;32m     48\u001B[0m \u001B[43m\u001B[49m\u001B[43m)\u001B[49m\n",
      "File \u001B[0;32m/opt/anaconda3/envs/COS243/lib/python3.11/site-packages/llama_index/core/instrumentation/dispatcher.py:260\u001B[0m, in \u001B[0;36mDispatcher.span.<locals>.wrapper\u001B[0;34m(func, instance, args, kwargs)\u001B[0m\n\u001B[1;32m    252\u001B[0m \u001B[38;5;28mself\u001B[39m\u001B[38;5;241m.\u001B[39mspan_enter(\n\u001B[1;32m    253\u001B[0m     id_\u001B[38;5;241m=\u001B[39mid_,\n\u001B[1;32m    254\u001B[0m     bound_args\u001B[38;5;241m=\u001B[39mbound_args,\n\u001B[0;32m   (...)\u001B[0m\n\u001B[1;32m    257\u001B[0m     tags\u001B[38;5;241m=\u001B[39mtags,\n\u001B[1;32m    258\u001B[0m )\n\u001B[1;32m    259\u001B[0m \u001B[38;5;28;01mtry\u001B[39;00m:\n\u001B[0;32m--> 260\u001B[0m     result \u001B[38;5;241m=\u001B[39m \u001B[43mfunc\u001B[49m\u001B[43m(\u001B[49m\u001B[38;5;241;43m*\u001B[39;49m\u001B[43margs\u001B[49m\u001B[43m,\u001B[49m\u001B[43m \u001B[49m\u001B[38;5;241;43m*\u001B[39;49m\u001B[38;5;241;43m*\u001B[39;49m\u001B[43mkwargs\u001B[49m\u001B[43m)\u001B[49m\n\u001B[1;32m    261\u001B[0m \u001B[38;5;28;01mexcept\u001B[39;00m \u001B[38;5;167;01mBaseException\u001B[39;00m \u001B[38;5;28;01mas\u001B[39;00m e:\n\u001B[1;32m    262\u001B[0m     \u001B[38;5;28mself\u001B[39m\u001B[38;5;241m.\u001B[39mevent(SpanDropEvent(span_id\u001B[38;5;241m=\u001B[39mid_, err_str\u001B[38;5;241m=\u001B[39m\u001B[38;5;28mstr\u001B[39m(e)))\n",
      "File \u001B[0;32m/opt/anaconda3/envs/COS243/lib/python3.11/site-packages/llama_index/core/response_synthesizers/refine.py:188\u001B[0m, in \u001B[0;36mRefine.get_response\u001B[0;34m(self, query_str, text_chunks, prev_response, **response_kwargs)\u001B[0m\n\u001B[1;32m    183\u001B[0m         response \u001B[38;5;241m=\u001B[39m \u001B[38;5;28mself\u001B[39m\u001B[38;5;241m.\u001B[39m_give_response_single(\n\u001B[1;32m    184\u001B[0m             query_str, text_chunk, \u001B[38;5;241m*\u001B[39m\u001B[38;5;241m*\u001B[39mresponse_kwargs\n\u001B[1;32m    185\u001B[0m         )\n\u001B[1;32m    186\u001B[0m     \u001B[38;5;28;01melse\u001B[39;00m:\n\u001B[1;32m    187\u001B[0m         \u001B[38;5;66;03m# refine response if possible\u001B[39;00m\n\u001B[0;32m--> 188\u001B[0m         response \u001B[38;5;241m=\u001B[39m \u001B[38;5;28;43mself\u001B[39;49m\u001B[38;5;241;43m.\u001B[39;49m\u001B[43m_refine_response_single\u001B[49m\u001B[43m(\u001B[49m\n\u001B[1;32m    189\u001B[0m \u001B[43m            \u001B[49m\u001B[43mprev_response\u001B[49m\u001B[43m,\u001B[49m\u001B[43m \u001B[49m\u001B[43mquery_str\u001B[49m\u001B[43m,\u001B[49m\u001B[43m \u001B[49m\u001B[43mtext_chunk\u001B[49m\u001B[43m,\u001B[49m\u001B[43m \u001B[49m\u001B[38;5;241;43m*\u001B[39;49m\u001B[38;5;241;43m*\u001B[39;49m\u001B[43mresponse_kwargs\u001B[49m\n\u001B[1;32m    190\u001B[0m \u001B[43m        \u001B[49m\u001B[43m)\u001B[49m\n\u001B[1;32m    191\u001B[0m     prev_response \u001B[38;5;241m=\u001B[39m response\n\u001B[1;32m    192\u001B[0m \u001B[38;5;28;01mif\u001B[39;00m \u001B[38;5;28misinstance\u001B[39m(response, \u001B[38;5;28mstr\u001B[39m):\n",
      "File \u001B[0;32m/opt/anaconda3/envs/COS243/lib/python3.11/site-packages/llama_index/core/response_synthesizers/refine.py:318\u001B[0m, in \u001B[0;36mRefine._refine_response_single\u001B[0;34m(self, response, query_str, text_chunk, **response_kwargs)\u001B[0m\n\u001B[1;32m    314\u001B[0m \u001B[38;5;28;01mif\u001B[39;00m \u001B[38;5;129;01mnot\u001B[39;00m \u001B[38;5;28mself\u001B[39m\u001B[38;5;241m.\u001B[39m_streaming:\n\u001B[1;32m    315\u001B[0m     \u001B[38;5;28;01mtry\u001B[39;00m:\n\u001B[1;32m    316\u001B[0m         structured_response \u001B[38;5;241m=\u001B[39m cast(\n\u001B[1;32m    317\u001B[0m             StructuredRefineResponse,\n\u001B[0;32m--> 318\u001B[0m             \u001B[43mprogram\u001B[49m\u001B[43m(\u001B[49m\n\u001B[1;32m    319\u001B[0m \u001B[43m                \u001B[49m\u001B[43mcontext_msg\u001B[49m\u001B[38;5;241;43m=\u001B[39;49m\u001B[43mcur_text_chunk\u001B[49m\u001B[43m,\u001B[49m\n\u001B[1;32m    320\u001B[0m \u001B[43m                \u001B[49m\u001B[38;5;241;43m*\u001B[39;49m\u001B[38;5;241;43m*\u001B[39;49m\u001B[43mresponse_kwargs\u001B[49m\u001B[43m,\u001B[49m\n\u001B[1;32m    321\u001B[0m \u001B[43m            \u001B[49m\u001B[43m)\u001B[49m,\n\u001B[1;32m    322\u001B[0m         )\n\u001B[1;32m    323\u001B[0m         query_satisfied \u001B[38;5;241m=\u001B[39m structured_response\u001B[38;5;241m.\u001B[39mquery_satisfied\n\u001B[1;32m    324\u001B[0m         \u001B[38;5;28;01mif\u001B[39;00m query_satisfied:\n",
      "File \u001B[0;32m/opt/anaconda3/envs/COS243/lib/python3.11/site-packages/llama_index/core/instrumentation/dispatcher.py:260\u001B[0m, in \u001B[0;36mDispatcher.span.<locals>.wrapper\u001B[0;34m(func, instance, args, kwargs)\u001B[0m\n\u001B[1;32m    252\u001B[0m \u001B[38;5;28mself\u001B[39m\u001B[38;5;241m.\u001B[39mspan_enter(\n\u001B[1;32m    253\u001B[0m     id_\u001B[38;5;241m=\u001B[39mid_,\n\u001B[1;32m    254\u001B[0m     bound_args\u001B[38;5;241m=\u001B[39mbound_args,\n\u001B[0;32m   (...)\u001B[0m\n\u001B[1;32m    257\u001B[0m     tags\u001B[38;5;241m=\u001B[39mtags,\n\u001B[1;32m    258\u001B[0m )\n\u001B[1;32m    259\u001B[0m \u001B[38;5;28;01mtry\u001B[39;00m:\n\u001B[0;32m--> 260\u001B[0m     result \u001B[38;5;241m=\u001B[39m \u001B[43mfunc\u001B[49m\u001B[43m(\u001B[49m\u001B[38;5;241;43m*\u001B[39;49m\u001B[43margs\u001B[49m\u001B[43m,\u001B[49m\u001B[43m \u001B[49m\u001B[38;5;241;43m*\u001B[39;49m\u001B[38;5;241;43m*\u001B[39;49m\u001B[43mkwargs\u001B[49m\u001B[43m)\u001B[49m\n\u001B[1;32m    261\u001B[0m \u001B[38;5;28;01mexcept\u001B[39;00m \u001B[38;5;167;01mBaseException\u001B[39;00m \u001B[38;5;28;01mas\u001B[39;00m e:\n\u001B[1;32m    262\u001B[0m     \u001B[38;5;28mself\u001B[39m\u001B[38;5;241m.\u001B[39mevent(SpanDropEvent(span_id\u001B[38;5;241m=\u001B[39mid_, err_str\u001B[38;5;241m=\u001B[39m\u001B[38;5;28mstr\u001B[39m(e)))\n",
      "File \u001B[0;32m/opt/anaconda3/envs/COS243/lib/python3.11/site-packages/llama_index/core/response_synthesizers/refine.py:84\u001B[0m, in \u001B[0;36mDefaultRefineProgram.__call__\u001B[0;34m(self, *args, **kwds)\u001B[0m\n\u001B[1;32m     82\u001B[0m     answer \u001B[38;5;241m=\u001B[39m answer\u001B[38;5;241m.\u001B[39mjson()\n\u001B[1;32m     83\u001B[0m \u001B[38;5;28;01melse\u001B[39;00m:\n\u001B[0;32m---> 84\u001B[0m     answer \u001B[38;5;241m=\u001B[39m \u001B[38;5;28;43mself\u001B[39;49m\u001B[38;5;241;43m.\u001B[39;49m\u001B[43m_llm\u001B[49m\u001B[38;5;241;43m.\u001B[39;49m\u001B[43mpredict\u001B[49m\u001B[43m(\u001B[49m\n\u001B[1;32m     85\u001B[0m \u001B[43m        \u001B[49m\u001B[38;5;28;43mself\u001B[39;49m\u001B[38;5;241;43m.\u001B[39;49m\u001B[43m_prompt\u001B[49m\u001B[43m,\u001B[49m\n\u001B[1;32m     86\u001B[0m \u001B[43m        \u001B[49m\u001B[38;5;241;43m*\u001B[39;49m\u001B[38;5;241;43m*\u001B[39;49m\u001B[43mkwds\u001B[49m\u001B[43m,\u001B[49m\n\u001B[1;32m     87\u001B[0m \u001B[43m    \u001B[49m\u001B[43m)\u001B[49m\n\u001B[1;32m     88\u001B[0m \u001B[38;5;28;01mreturn\u001B[39;00m StructuredRefineResponse(answer\u001B[38;5;241m=\u001B[39manswer, query_satisfied\u001B[38;5;241m=\u001B[39m\u001B[38;5;28;01mTrue\u001B[39;00m)\n",
      "File \u001B[0;32m/opt/anaconda3/envs/COS243/lib/python3.11/site-packages/llama_index/core/instrumentation/dispatcher.py:260\u001B[0m, in \u001B[0;36mDispatcher.span.<locals>.wrapper\u001B[0;34m(func, instance, args, kwargs)\u001B[0m\n\u001B[1;32m    252\u001B[0m \u001B[38;5;28mself\u001B[39m\u001B[38;5;241m.\u001B[39mspan_enter(\n\u001B[1;32m    253\u001B[0m     id_\u001B[38;5;241m=\u001B[39mid_,\n\u001B[1;32m    254\u001B[0m     bound_args\u001B[38;5;241m=\u001B[39mbound_args,\n\u001B[0;32m   (...)\u001B[0m\n\u001B[1;32m    257\u001B[0m     tags\u001B[38;5;241m=\u001B[39mtags,\n\u001B[1;32m    258\u001B[0m )\n\u001B[1;32m    259\u001B[0m \u001B[38;5;28;01mtry\u001B[39;00m:\n\u001B[0;32m--> 260\u001B[0m     result \u001B[38;5;241m=\u001B[39m \u001B[43mfunc\u001B[49m\u001B[43m(\u001B[49m\u001B[38;5;241;43m*\u001B[39;49m\u001B[43margs\u001B[49m\u001B[43m,\u001B[49m\u001B[43m \u001B[49m\u001B[38;5;241;43m*\u001B[39;49m\u001B[38;5;241;43m*\u001B[39;49m\u001B[43mkwargs\u001B[49m\u001B[43m)\u001B[49m\n\u001B[1;32m    261\u001B[0m \u001B[38;5;28;01mexcept\u001B[39;00m \u001B[38;5;167;01mBaseException\u001B[39;00m \u001B[38;5;28;01mas\u001B[39;00m e:\n\u001B[1;32m    262\u001B[0m     \u001B[38;5;28mself\u001B[39m\u001B[38;5;241m.\u001B[39mevent(SpanDropEvent(span_id\u001B[38;5;241m=\u001B[39mid_, err_str\u001B[38;5;241m=\u001B[39m\u001B[38;5;28mstr\u001B[39m(e)))\n",
      "File \u001B[0;32m/opt/anaconda3/envs/COS243/lib/python3.11/site-packages/llama_index/core/llms/llm.py:559\u001B[0m, in \u001B[0;36mLLM.predict\u001B[0;34m(self, prompt, **prompt_args)\u001B[0m\n\u001B[1;32m    557\u001B[0m \u001B[38;5;28;01mif\u001B[39;00m \u001B[38;5;28mself\u001B[39m\u001B[38;5;241m.\u001B[39mmetadata\u001B[38;5;241m.\u001B[39mis_chat_model:\n\u001B[1;32m    558\u001B[0m     messages \u001B[38;5;241m=\u001B[39m \u001B[38;5;28mself\u001B[39m\u001B[38;5;241m.\u001B[39m_get_messages(prompt, \u001B[38;5;241m*\u001B[39m\u001B[38;5;241m*\u001B[39mprompt_args)\n\u001B[0;32m--> 559\u001B[0m     chat_response \u001B[38;5;241m=\u001B[39m \u001B[38;5;28;43mself\u001B[39;49m\u001B[38;5;241;43m.\u001B[39;49m\u001B[43mchat\u001B[49m\u001B[43m(\u001B[49m\u001B[43mmessages\u001B[49m\u001B[43m)\u001B[49m\n\u001B[1;32m    560\u001B[0m     output \u001B[38;5;241m=\u001B[39m chat_response\u001B[38;5;241m.\u001B[39mmessage\u001B[38;5;241m.\u001B[39mcontent \u001B[38;5;129;01mor\u001B[39;00m \u001B[38;5;124m\"\u001B[39m\u001B[38;5;124m\"\u001B[39m\n\u001B[1;32m    561\u001B[0m \u001B[38;5;28;01melse\u001B[39;00m:\n",
      "File \u001B[0;32m/opt/anaconda3/envs/COS243/lib/python3.11/site-packages/llama_index/core/instrumentation/dispatcher.py:260\u001B[0m, in \u001B[0;36mDispatcher.span.<locals>.wrapper\u001B[0;34m(func, instance, args, kwargs)\u001B[0m\n\u001B[1;32m    252\u001B[0m \u001B[38;5;28mself\u001B[39m\u001B[38;5;241m.\u001B[39mspan_enter(\n\u001B[1;32m    253\u001B[0m     id_\u001B[38;5;241m=\u001B[39mid_,\n\u001B[1;32m    254\u001B[0m     bound_args\u001B[38;5;241m=\u001B[39mbound_args,\n\u001B[0;32m   (...)\u001B[0m\n\u001B[1;32m    257\u001B[0m     tags\u001B[38;5;241m=\u001B[39mtags,\n\u001B[1;32m    258\u001B[0m )\n\u001B[1;32m    259\u001B[0m \u001B[38;5;28;01mtry\u001B[39;00m:\n\u001B[0;32m--> 260\u001B[0m     result \u001B[38;5;241m=\u001B[39m \u001B[43mfunc\u001B[49m\u001B[43m(\u001B[49m\u001B[38;5;241;43m*\u001B[39;49m\u001B[43margs\u001B[49m\u001B[43m,\u001B[49m\u001B[43m \u001B[49m\u001B[38;5;241;43m*\u001B[39;49m\u001B[38;5;241;43m*\u001B[39;49m\u001B[43mkwargs\u001B[49m\u001B[43m)\u001B[49m\n\u001B[1;32m    261\u001B[0m \u001B[38;5;28;01mexcept\u001B[39;00m \u001B[38;5;167;01mBaseException\u001B[39;00m \u001B[38;5;28;01mas\u001B[39;00m e:\n\u001B[1;32m    262\u001B[0m     \u001B[38;5;28mself\u001B[39m\u001B[38;5;241m.\u001B[39mevent(SpanDropEvent(span_id\u001B[38;5;241m=\u001B[39mid_, err_str\u001B[38;5;241m=\u001B[39m\u001B[38;5;28mstr\u001B[39m(e)))\n",
      "File \u001B[0;32m/opt/anaconda3/envs/COS243/lib/python3.11/site-packages/llama_index/llms/openai_like/base.py:106\u001B[0m, in \u001B[0;36mOpenAILike.chat\u001B[0;34m(self, messages, **kwargs)\u001B[0m\n\u001B[1;32m    103\u001B[0m     completion_response \u001B[38;5;241m=\u001B[39m \u001B[38;5;28mself\u001B[39m\u001B[38;5;241m.\u001B[39mcomplete(prompt, formatted\u001B[38;5;241m=\u001B[39m\u001B[38;5;28;01mTrue\u001B[39;00m, \u001B[38;5;241m*\u001B[39m\u001B[38;5;241m*\u001B[39mkwargs)\n\u001B[1;32m    104\u001B[0m     \u001B[38;5;28;01mreturn\u001B[39;00m completion_response_to_chat_response(completion_response)\n\u001B[0;32m--> 106\u001B[0m \u001B[38;5;28;01mreturn\u001B[39;00m \u001B[38;5;28;43msuper\u001B[39;49m\u001B[43m(\u001B[49m\u001B[43m)\u001B[49m\u001B[38;5;241;43m.\u001B[39;49m\u001B[43mchat\u001B[49m\u001B[43m(\u001B[49m\u001B[43mmessages\u001B[49m\u001B[43m,\u001B[49m\u001B[43m \u001B[49m\u001B[38;5;241;43m*\u001B[39;49m\u001B[38;5;241;43m*\u001B[39;49m\u001B[43mkwargs\u001B[49m\u001B[43m)\u001B[49m\n",
      "File \u001B[0;32m/opt/anaconda3/envs/COS243/lib/python3.11/site-packages/llama_index/core/instrumentation/dispatcher.py:260\u001B[0m, in \u001B[0;36mDispatcher.span.<locals>.wrapper\u001B[0;34m(func, instance, args, kwargs)\u001B[0m\n\u001B[1;32m    252\u001B[0m \u001B[38;5;28mself\u001B[39m\u001B[38;5;241m.\u001B[39mspan_enter(\n\u001B[1;32m    253\u001B[0m     id_\u001B[38;5;241m=\u001B[39mid_,\n\u001B[1;32m    254\u001B[0m     bound_args\u001B[38;5;241m=\u001B[39mbound_args,\n\u001B[0;32m   (...)\u001B[0m\n\u001B[1;32m    257\u001B[0m     tags\u001B[38;5;241m=\u001B[39mtags,\n\u001B[1;32m    258\u001B[0m )\n\u001B[1;32m    259\u001B[0m \u001B[38;5;28;01mtry\u001B[39;00m:\n\u001B[0;32m--> 260\u001B[0m     result \u001B[38;5;241m=\u001B[39m \u001B[43mfunc\u001B[49m\u001B[43m(\u001B[49m\u001B[38;5;241;43m*\u001B[39;49m\u001B[43margs\u001B[49m\u001B[43m,\u001B[49m\u001B[43m \u001B[49m\u001B[38;5;241;43m*\u001B[39;49m\u001B[38;5;241;43m*\u001B[39;49m\u001B[43mkwargs\u001B[49m\u001B[43m)\u001B[49m\n\u001B[1;32m    261\u001B[0m \u001B[38;5;28;01mexcept\u001B[39;00m \u001B[38;5;167;01mBaseException\u001B[39;00m \u001B[38;5;28;01mas\u001B[39;00m e:\n\u001B[1;32m    262\u001B[0m     \u001B[38;5;28mself\u001B[39m\u001B[38;5;241m.\u001B[39mevent(SpanDropEvent(span_id\u001B[38;5;241m=\u001B[39mid_, err_str\u001B[38;5;241m=\u001B[39m\u001B[38;5;28mstr\u001B[39m(e)))\n",
      "File \u001B[0;32m/opt/anaconda3/envs/COS243/lib/python3.11/site-packages/llama_index/core/llms/callbacks.py:172\u001B[0m, in \u001B[0;36mllm_chat_callback.<locals>.wrap.<locals>.wrapped_llm_chat\u001B[0;34m(_self, messages, **kwargs)\u001B[0m\n\u001B[1;32m    163\u001B[0m event_id \u001B[38;5;241m=\u001B[39m callback_manager\u001B[38;5;241m.\u001B[39mon_event_start(\n\u001B[1;32m    164\u001B[0m     CBEventType\u001B[38;5;241m.\u001B[39mLLM,\n\u001B[1;32m    165\u001B[0m     payload\u001B[38;5;241m=\u001B[39m{\n\u001B[0;32m   (...)\u001B[0m\n\u001B[1;32m    169\u001B[0m     },\n\u001B[1;32m    170\u001B[0m )\n\u001B[1;32m    171\u001B[0m \u001B[38;5;28;01mtry\u001B[39;00m:\n\u001B[0;32m--> 172\u001B[0m     f_return_val \u001B[38;5;241m=\u001B[39m \u001B[43mf\u001B[49m\u001B[43m(\u001B[49m\u001B[43m_self\u001B[49m\u001B[43m,\u001B[49m\u001B[43m \u001B[49m\u001B[43mmessages\u001B[49m\u001B[43m,\u001B[49m\u001B[43m \u001B[49m\u001B[38;5;241;43m*\u001B[39;49m\u001B[38;5;241;43m*\u001B[39;49m\u001B[43mkwargs\u001B[49m\u001B[43m)\u001B[49m\n\u001B[1;32m    173\u001B[0m \u001B[38;5;28;01mexcept\u001B[39;00m \u001B[38;5;167;01mBaseException\u001B[39;00m \u001B[38;5;28;01mas\u001B[39;00m e:\n\u001B[1;32m    174\u001B[0m     callback_manager\u001B[38;5;241m.\u001B[39mon_event_end(\n\u001B[1;32m    175\u001B[0m         CBEventType\u001B[38;5;241m.\u001B[39mLLM,\n\u001B[1;32m    176\u001B[0m         payload\u001B[38;5;241m=\u001B[39m{EventPayload\u001B[38;5;241m.\u001B[39mEXCEPTION: e},\n\u001B[1;32m    177\u001B[0m         event_id\u001B[38;5;241m=\u001B[39mevent_id,\n\u001B[1;32m    178\u001B[0m     )\n",
      "File \u001B[0;32m/opt/anaconda3/envs/COS243/lib/python3.11/site-packages/llama_index/llms/openai/base.py:333\u001B[0m, in \u001B[0;36mOpenAI.chat\u001B[0;34m(self, messages, **kwargs)\u001B[0m\n\u001B[1;32m    331\u001B[0m \u001B[38;5;28;01melse\u001B[39;00m:\n\u001B[1;32m    332\u001B[0m     chat_fn \u001B[38;5;241m=\u001B[39m completion_to_chat_decorator(\u001B[38;5;28mself\u001B[39m\u001B[38;5;241m.\u001B[39m_complete)\n\u001B[0;32m--> 333\u001B[0m \u001B[38;5;28;01mreturn\u001B[39;00m \u001B[43mchat_fn\u001B[49m\u001B[43m(\u001B[49m\u001B[43mmessages\u001B[49m\u001B[43m,\u001B[49m\u001B[43m \u001B[49m\u001B[38;5;241;43m*\u001B[39;49m\u001B[38;5;241;43m*\u001B[39;49m\u001B[43mkwargs\u001B[49m\u001B[43m)\u001B[49m\n",
      "File \u001B[0;32m/opt/anaconda3/envs/COS243/lib/python3.11/site-packages/llama_index/llms/openai/base.py:95\u001B[0m, in \u001B[0;36mllm_retry_decorator.<locals>.wrapper\u001B[0;34m(self, *args, **kwargs)\u001B[0m\n\u001B[1;32m     86\u001B[0m     \u001B[38;5;28;01mreturn\u001B[39;00m f(\u001B[38;5;28mself\u001B[39m, \u001B[38;5;241m*\u001B[39margs, \u001B[38;5;241m*\u001B[39m\u001B[38;5;241m*\u001B[39mkwargs)\n\u001B[1;32m     88\u001B[0m retry \u001B[38;5;241m=\u001B[39m create_retry_decorator(\n\u001B[1;32m     89\u001B[0m     max_retries\u001B[38;5;241m=\u001B[39mmax_retries,\n\u001B[1;32m     90\u001B[0m     random_exponential\u001B[38;5;241m=\u001B[39m\u001B[38;5;28;01mTrue\u001B[39;00m,\n\u001B[0;32m   (...)\u001B[0m\n\u001B[1;32m     93\u001B[0m     max_seconds\u001B[38;5;241m=\u001B[39m\u001B[38;5;241m20\u001B[39m,\n\u001B[1;32m     94\u001B[0m )\n\u001B[0;32m---> 95\u001B[0m \u001B[38;5;28;01mreturn\u001B[39;00m \u001B[43mretry\u001B[49m\u001B[43m(\u001B[49m\u001B[43mf\u001B[49m\u001B[43m)\u001B[49m\u001B[43m(\u001B[49m\u001B[38;5;28;43mself\u001B[39;49m\u001B[43m,\u001B[49m\u001B[43m \u001B[49m\u001B[38;5;241;43m*\u001B[39;49m\u001B[43margs\u001B[49m\u001B[43m,\u001B[49m\u001B[43m \u001B[49m\u001B[38;5;241;43m*\u001B[39;49m\u001B[38;5;241;43m*\u001B[39;49m\u001B[43mkwargs\u001B[49m\u001B[43m)\u001B[49m\n",
      "File \u001B[0;32m/opt/anaconda3/envs/COS243/lib/python3.11/site-packages/tenacity/__init__.py:336\u001B[0m, in \u001B[0;36mBaseRetrying.wraps.<locals>.wrapped_f\u001B[0;34m(*args, **kw)\u001B[0m\n\u001B[1;32m    334\u001B[0m copy \u001B[38;5;241m=\u001B[39m \u001B[38;5;28mself\u001B[39m\u001B[38;5;241m.\u001B[39mcopy()\n\u001B[1;32m    335\u001B[0m wrapped_f\u001B[38;5;241m.\u001B[39mstatistics \u001B[38;5;241m=\u001B[39m copy\u001B[38;5;241m.\u001B[39mstatistics  \u001B[38;5;66;03m# type: ignore[attr-defined]\u001B[39;00m\n\u001B[0;32m--> 336\u001B[0m \u001B[38;5;28;01mreturn\u001B[39;00m \u001B[43mcopy\u001B[49m\u001B[43m(\u001B[49m\u001B[43mf\u001B[49m\u001B[43m,\u001B[49m\u001B[43m \u001B[49m\u001B[38;5;241;43m*\u001B[39;49m\u001B[43margs\u001B[49m\u001B[43m,\u001B[49m\u001B[43m \u001B[49m\u001B[38;5;241;43m*\u001B[39;49m\u001B[38;5;241;43m*\u001B[39;49m\u001B[43mkw\u001B[49m\u001B[43m)\u001B[49m\n",
      "File \u001B[0;32m/opt/anaconda3/envs/COS243/lib/python3.11/site-packages/tenacity/__init__.py:475\u001B[0m, in \u001B[0;36mRetrying.__call__\u001B[0;34m(self, fn, *args, **kwargs)\u001B[0m\n\u001B[1;32m    473\u001B[0m retry_state \u001B[38;5;241m=\u001B[39m RetryCallState(retry_object\u001B[38;5;241m=\u001B[39m\u001B[38;5;28mself\u001B[39m, fn\u001B[38;5;241m=\u001B[39mfn, args\u001B[38;5;241m=\u001B[39margs, kwargs\u001B[38;5;241m=\u001B[39mkwargs)\n\u001B[1;32m    474\u001B[0m \u001B[38;5;28;01mwhile\u001B[39;00m \u001B[38;5;28;01mTrue\u001B[39;00m:\n\u001B[0;32m--> 475\u001B[0m     do \u001B[38;5;241m=\u001B[39m \u001B[38;5;28;43mself\u001B[39;49m\u001B[38;5;241;43m.\u001B[39;49m\u001B[43miter\u001B[49m\u001B[43m(\u001B[49m\u001B[43mretry_state\u001B[49m\u001B[38;5;241;43m=\u001B[39;49m\u001B[43mretry_state\u001B[49m\u001B[43m)\u001B[49m\n\u001B[1;32m    476\u001B[0m     \u001B[38;5;28;01mif\u001B[39;00m \u001B[38;5;28misinstance\u001B[39m(do, DoAttempt):\n\u001B[1;32m    477\u001B[0m         \u001B[38;5;28;01mtry\u001B[39;00m:\n",
      "File \u001B[0;32m/opt/anaconda3/envs/COS243/lib/python3.11/site-packages/tenacity/__init__.py:376\u001B[0m, in \u001B[0;36mBaseRetrying.iter\u001B[0;34m(self, retry_state)\u001B[0m\n\u001B[1;32m    374\u001B[0m result \u001B[38;5;241m=\u001B[39m \u001B[38;5;28;01mNone\u001B[39;00m\n\u001B[1;32m    375\u001B[0m \u001B[38;5;28;01mfor\u001B[39;00m action \u001B[38;5;129;01min\u001B[39;00m \u001B[38;5;28mself\u001B[39m\u001B[38;5;241m.\u001B[39miter_state\u001B[38;5;241m.\u001B[39mactions:\n\u001B[0;32m--> 376\u001B[0m     result \u001B[38;5;241m=\u001B[39m \u001B[43maction\u001B[49m\u001B[43m(\u001B[49m\u001B[43mretry_state\u001B[49m\u001B[43m)\u001B[49m\n\u001B[1;32m    377\u001B[0m \u001B[38;5;28;01mreturn\u001B[39;00m result\n",
      "File \u001B[0;32m/opt/anaconda3/envs/COS243/lib/python3.11/site-packages/tenacity/__init__.py:398\u001B[0m, in \u001B[0;36mBaseRetrying._post_retry_check_actions.<locals>.<lambda>\u001B[0;34m(rs)\u001B[0m\n\u001B[1;32m    396\u001B[0m \u001B[38;5;28;01mdef\u001B[39;00m \u001B[38;5;21m_post_retry_check_actions\u001B[39m(\u001B[38;5;28mself\u001B[39m, retry_state: \u001B[38;5;124m\"\u001B[39m\u001B[38;5;124mRetryCallState\u001B[39m\u001B[38;5;124m\"\u001B[39m) \u001B[38;5;241m-\u001B[39m\u001B[38;5;241m>\u001B[39m \u001B[38;5;28;01mNone\u001B[39;00m:\n\u001B[1;32m    397\u001B[0m     \u001B[38;5;28;01mif\u001B[39;00m \u001B[38;5;129;01mnot\u001B[39;00m (\u001B[38;5;28mself\u001B[39m\u001B[38;5;241m.\u001B[39miter_state\u001B[38;5;241m.\u001B[39mis_explicit_retry \u001B[38;5;129;01mor\u001B[39;00m \u001B[38;5;28mself\u001B[39m\u001B[38;5;241m.\u001B[39miter_state\u001B[38;5;241m.\u001B[39mretry_run_result):\n\u001B[0;32m--> 398\u001B[0m         \u001B[38;5;28mself\u001B[39m\u001B[38;5;241m.\u001B[39m_add_action_func(\u001B[38;5;28;01mlambda\u001B[39;00m rs: \u001B[43mrs\u001B[49m\u001B[38;5;241;43m.\u001B[39;49m\u001B[43moutcome\u001B[49m\u001B[38;5;241;43m.\u001B[39;49m\u001B[43mresult\u001B[49m\u001B[43m(\u001B[49m\u001B[43m)\u001B[49m)\n\u001B[1;32m    399\u001B[0m         \u001B[38;5;28;01mreturn\u001B[39;00m\n\u001B[1;32m    401\u001B[0m     \u001B[38;5;28;01mif\u001B[39;00m \u001B[38;5;28mself\u001B[39m\u001B[38;5;241m.\u001B[39mafter \u001B[38;5;129;01mis\u001B[39;00m \u001B[38;5;129;01mnot\u001B[39;00m \u001B[38;5;28;01mNone\u001B[39;00m:\n",
      "File \u001B[0;32m/opt/anaconda3/envs/COS243/lib/python3.11/concurrent/futures/_base.py:449\u001B[0m, in \u001B[0;36mFuture.result\u001B[0;34m(self, timeout)\u001B[0m\n\u001B[1;32m    447\u001B[0m     \u001B[38;5;28;01mraise\u001B[39;00m CancelledError()\n\u001B[1;32m    448\u001B[0m \u001B[38;5;28;01melif\u001B[39;00m \u001B[38;5;28mself\u001B[39m\u001B[38;5;241m.\u001B[39m_state \u001B[38;5;241m==\u001B[39m FINISHED:\n\u001B[0;32m--> 449\u001B[0m     \u001B[38;5;28;01mreturn\u001B[39;00m \u001B[38;5;28;43mself\u001B[39;49m\u001B[38;5;241;43m.\u001B[39;49m\u001B[43m__get_result\u001B[49m\u001B[43m(\u001B[49m\u001B[43m)\u001B[49m\n\u001B[1;32m    451\u001B[0m \u001B[38;5;28mself\u001B[39m\u001B[38;5;241m.\u001B[39m_condition\u001B[38;5;241m.\u001B[39mwait(timeout)\n\u001B[1;32m    453\u001B[0m \u001B[38;5;28;01mif\u001B[39;00m \u001B[38;5;28mself\u001B[39m\u001B[38;5;241m.\u001B[39m_state \u001B[38;5;129;01min\u001B[39;00m [CANCELLED, CANCELLED_AND_NOTIFIED]:\n",
      "File \u001B[0;32m/opt/anaconda3/envs/COS243/lib/python3.11/concurrent/futures/_base.py:401\u001B[0m, in \u001B[0;36mFuture.__get_result\u001B[0;34m(self)\u001B[0m\n\u001B[1;32m    399\u001B[0m \u001B[38;5;28;01mif\u001B[39;00m \u001B[38;5;28mself\u001B[39m\u001B[38;5;241m.\u001B[39m_exception:\n\u001B[1;32m    400\u001B[0m     \u001B[38;5;28;01mtry\u001B[39;00m:\n\u001B[0;32m--> 401\u001B[0m         \u001B[38;5;28;01mraise\u001B[39;00m \u001B[38;5;28mself\u001B[39m\u001B[38;5;241m.\u001B[39m_exception\n\u001B[1;32m    402\u001B[0m     \u001B[38;5;28;01mfinally\u001B[39;00m:\n\u001B[1;32m    403\u001B[0m         \u001B[38;5;66;03m# Break a reference cycle with the exception in self._exception\u001B[39;00m\n\u001B[1;32m    404\u001B[0m         \u001B[38;5;28mself\u001B[39m \u001B[38;5;241m=\u001B[39m \u001B[38;5;28;01mNone\u001B[39;00m\n",
      "File \u001B[0;32m/opt/anaconda3/envs/COS243/lib/python3.11/site-packages/tenacity/__init__.py:478\u001B[0m, in \u001B[0;36mRetrying.__call__\u001B[0;34m(self, fn, *args, **kwargs)\u001B[0m\n\u001B[1;32m    476\u001B[0m \u001B[38;5;28;01mif\u001B[39;00m \u001B[38;5;28misinstance\u001B[39m(do, DoAttempt):\n\u001B[1;32m    477\u001B[0m     \u001B[38;5;28;01mtry\u001B[39;00m:\n\u001B[0;32m--> 478\u001B[0m         result \u001B[38;5;241m=\u001B[39m \u001B[43mfn\u001B[49m\u001B[43m(\u001B[49m\u001B[38;5;241;43m*\u001B[39;49m\u001B[43margs\u001B[49m\u001B[43m,\u001B[49m\u001B[43m \u001B[49m\u001B[38;5;241;43m*\u001B[39;49m\u001B[38;5;241;43m*\u001B[39;49m\u001B[43mkwargs\u001B[49m\u001B[43m)\u001B[49m\n\u001B[1;32m    479\u001B[0m     \u001B[38;5;28;01mexcept\u001B[39;00m \u001B[38;5;167;01mBaseException\u001B[39;00m:  \u001B[38;5;66;03m# noqa: B902\u001B[39;00m\n\u001B[1;32m    480\u001B[0m         retry_state\u001B[38;5;241m.\u001B[39mset_exception(sys\u001B[38;5;241m.\u001B[39mexc_info())  \u001B[38;5;66;03m# type: ignore[arg-type]\u001B[39;00m\n",
      "File \u001B[0;32m/opt/anaconda3/envs/COS243/lib/python3.11/site-packages/llama_index/llms/openai/base.py:407\u001B[0m, in \u001B[0;36mOpenAI._chat\u001B[0;34m(self, messages, **kwargs)\u001B[0m\n\u001B[1;32m    404\u001B[0m message_dicts \u001B[38;5;241m=\u001B[39m to_openai_message_dicts(messages)\n\u001B[1;32m    406\u001B[0m \u001B[38;5;28;01mif\u001B[39;00m \u001B[38;5;28mself\u001B[39m\u001B[38;5;241m.\u001B[39mreuse_client:\n\u001B[0;32m--> 407\u001B[0m     response \u001B[38;5;241m=\u001B[39m \u001B[43mclient\u001B[49m\u001B[38;5;241;43m.\u001B[39;49m\u001B[43mchat\u001B[49m\u001B[38;5;241;43m.\u001B[39;49m\u001B[43mcompletions\u001B[49m\u001B[38;5;241;43m.\u001B[39;49m\u001B[43mcreate\u001B[49m\u001B[43m(\u001B[49m\n\u001B[1;32m    408\u001B[0m \u001B[43m        \u001B[49m\u001B[43mmessages\u001B[49m\u001B[38;5;241;43m=\u001B[39;49m\u001B[43mmessage_dicts\u001B[49m\u001B[43m,\u001B[49m\n\u001B[1;32m    409\u001B[0m \u001B[43m        \u001B[49m\u001B[43mstream\u001B[49m\u001B[38;5;241;43m=\u001B[39;49m\u001B[38;5;28;43;01mFalse\u001B[39;49;00m\u001B[43m,\u001B[49m\n\u001B[1;32m    410\u001B[0m \u001B[43m        \u001B[49m\u001B[38;5;241;43m*\u001B[39;49m\u001B[38;5;241;43m*\u001B[39;49m\u001B[38;5;28;43mself\u001B[39;49m\u001B[38;5;241;43m.\u001B[39;49m\u001B[43m_get_model_kwargs\u001B[49m\u001B[43m(\u001B[49m\u001B[38;5;241;43m*\u001B[39;49m\u001B[38;5;241;43m*\u001B[39;49m\u001B[43mkwargs\u001B[49m\u001B[43m)\u001B[49m\u001B[43m,\u001B[49m\n\u001B[1;32m    411\u001B[0m \u001B[43m    \u001B[49m\u001B[43m)\u001B[49m\n\u001B[1;32m    412\u001B[0m \u001B[38;5;28;01melse\u001B[39;00m:\n\u001B[1;32m    413\u001B[0m     \u001B[38;5;28;01mwith\u001B[39;00m client:\n",
      "File \u001B[0;32m/opt/anaconda3/envs/COS243/lib/python3.11/site-packages/openai/_utils/_utils.py:274\u001B[0m, in \u001B[0;36mrequired_args.<locals>.inner.<locals>.wrapper\u001B[0;34m(*args, **kwargs)\u001B[0m\n\u001B[1;32m    272\u001B[0m             msg \u001B[38;5;241m=\u001B[39m \u001B[38;5;124mf\u001B[39m\u001B[38;5;124m\"\u001B[39m\u001B[38;5;124mMissing required argument: \u001B[39m\u001B[38;5;132;01m{\u001B[39;00mquote(missing[\u001B[38;5;241m0\u001B[39m])\u001B[38;5;132;01m}\u001B[39;00m\u001B[38;5;124m\"\u001B[39m\n\u001B[1;32m    273\u001B[0m     \u001B[38;5;28;01mraise\u001B[39;00m \u001B[38;5;167;01mTypeError\u001B[39;00m(msg)\n\u001B[0;32m--> 274\u001B[0m \u001B[38;5;28;01mreturn\u001B[39;00m \u001B[43mfunc\u001B[49m\u001B[43m(\u001B[49m\u001B[38;5;241;43m*\u001B[39;49m\u001B[43margs\u001B[49m\u001B[43m,\u001B[49m\u001B[43m \u001B[49m\u001B[38;5;241;43m*\u001B[39;49m\u001B[38;5;241;43m*\u001B[39;49m\u001B[43mkwargs\u001B[49m\u001B[43m)\u001B[49m\n",
      "File \u001B[0;32m/opt/anaconda3/envs/COS243/lib/python3.11/site-packages/openai/resources/chat/completions.py:742\u001B[0m, in \u001B[0;36mCompletions.create\u001B[0;34m(self, messages, model, frequency_penalty, function_call, functions, logit_bias, logprobs, max_completion_tokens, max_tokens, metadata, n, parallel_tool_calls, presence_penalty, response_format, seed, service_tier, stop, store, stream, stream_options, temperature, tool_choice, tools, top_logprobs, top_p, user, extra_headers, extra_query, extra_body, timeout)\u001B[0m\n\u001B[1;32m    704\u001B[0m \u001B[38;5;129m@required_args\u001B[39m([\u001B[38;5;124m\"\u001B[39m\u001B[38;5;124mmessages\u001B[39m\u001B[38;5;124m\"\u001B[39m, \u001B[38;5;124m\"\u001B[39m\u001B[38;5;124mmodel\u001B[39m\u001B[38;5;124m\"\u001B[39m], [\u001B[38;5;124m\"\u001B[39m\u001B[38;5;124mmessages\u001B[39m\u001B[38;5;124m\"\u001B[39m, \u001B[38;5;124m\"\u001B[39m\u001B[38;5;124mmodel\u001B[39m\u001B[38;5;124m\"\u001B[39m, \u001B[38;5;124m\"\u001B[39m\u001B[38;5;124mstream\u001B[39m\u001B[38;5;124m\"\u001B[39m])\n\u001B[1;32m    705\u001B[0m \u001B[38;5;28;01mdef\u001B[39;00m \u001B[38;5;21mcreate\u001B[39m(\n\u001B[1;32m    706\u001B[0m     \u001B[38;5;28mself\u001B[39m,\n\u001B[0;32m   (...)\u001B[0m\n\u001B[1;32m    739\u001B[0m     timeout: \u001B[38;5;28mfloat\u001B[39m \u001B[38;5;241m|\u001B[39m httpx\u001B[38;5;241m.\u001B[39mTimeout \u001B[38;5;241m|\u001B[39m \u001B[38;5;28;01mNone\u001B[39;00m \u001B[38;5;241m|\u001B[39m NotGiven \u001B[38;5;241m=\u001B[39m NOT_GIVEN,\n\u001B[1;32m    740\u001B[0m ) \u001B[38;5;241m-\u001B[39m\u001B[38;5;241m>\u001B[39m ChatCompletion \u001B[38;5;241m|\u001B[39m Stream[ChatCompletionChunk]:\n\u001B[1;32m    741\u001B[0m     validate_response_format(response_format)\n\u001B[0;32m--> 742\u001B[0m     \u001B[38;5;28;01mreturn\u001B[39;00m \u001B[38;5;28;43mself\u001B[39;49m\u001B[38;5;241;43m.\u001B[39;49m\u001B[43m_post\u001B[49m\u001B[43m(\u001B[49m\n\u001B[1;32m    743\u001B[0m \u001B[43m        \u001B[49m\u001B[38;5;124;43m\"\u001B[39;49m\u001B[38;5;124;43m/chat/completions\u001B[39;49m\u001B[38;5;124;43m\"\u001B[39;49m\u001B[43m,\u001B[49m\n\u001B[1;32m    744\u001B[0m \u001B[43m        \u001B[49m\u001B[43mbody\u001B[49m\u001B[38;5;241;43m=\u001B[39;49m\u001B[43mmaybe_transform\u001B[49m\u001B[43m(\u001B[49m\n\u001B[1;32m    745\u001B[0m \u001B[43m            \u001B[49m\u001B[43m{\u001B[49m\n\u001B[1;32m    746\u001B[0m \u001B[43m                \u001B[49m\u001B[38;5;124;43m\"\u001B[39;49m\u001B[38;5;124;43mmessages\u001B[39;49m\u001B[38;5;124;43m\"\u001B[39;49m\u001B[43m:\u001B[49m\u001B[43m \u001B[49m\u001B[43mmessages\u001B[49m\u001B[43m,\u001B[49m\n\u001B[1;32m    747\u001B[0m \u001B[43m                \u001B[49m\u001B[38;5;124;43m\"\u001B[39;49m\u001B[38;5;124;43mmodel\u001B[39;49m\u001B[38;5;124;43m\"\u001B[39;49m\u001B[43m:\u001B[49m\u001B[43m \u001B[49m\u001B[43mmodel\u001B[49m\u001B[43m,\u001B[49m\n\u001B[1;32m    748\u001B[0m \u001B[43m                \u001B[49m\u001B[38;5;124;43m\"\u001B[39;49m\u001B[38;5;124;43mfrequency_penalty\u001B[39;49m\u001B[38;5;124;43m\"\u001B[39;49m\u001B[43m:\u001B[49m\u001B[43m \u001B[49m\u001B[43mfrequency_penalty\u001B[49m\u001B[43m,\u001B[49m\n\u001B[1;32m    749\u001B[0m \u001B[43m                \u001B[49m\u001B[38;5;124;43m\"\u001B[39;49m\u001B[38;5;124;43mfunction_call\u001B[39;49m\u001B[38;5;124;43m\"\u001B[39;49m\u001B[43m:\u001B[49m\u001B[43m \u001B[49m\u001B[43mfunction_call\u001B[49m\u001B[43m,\u001B[49m\n\u001B[1;32m    750\u001B[0m \u001B[43m                \u001B[49m\u001B[38;5;124;43m\"\u001B[39;49m\u001B[38;5;124;43mfunctions\u001B[39;49m\u001B[38;5;124;43m\"\u001B[39;49m\u001B[43m:\u001B[49m\u001B[43m \u001B[49m\u001B[43mfunctions\u001B[49m\u001B[43m,\u001B[49m\n\u001B[1;32m    751\u001B[0m \u001B[43m                \u001B[49m\u001B[38;5;124;43m\"\u001B[39;49m\u001B[38;5;124;43mlogit_bias\u001B[39;49m\u001B[38;5;124;43m\"\u001B[39;49m\u001B[43m:\u001B[49m\u001B[43m \u001B[49m\u001B[43mlogit_bias\u001B[49m\u001B[43m,\u001B[49m\n\u001B[1;32m    752\u001B[0m \u001B[43m                \u001B[49m\u001B[38;5;124;43m\"\u001B[39;49m\u001B[38;5;124;43mlogprobs\u001B[39;49m\u001B[38;5;124;43m\"\u001B[39;49m\u001B[43m:\u001B[49m\u001B[43m \u001B[49m\u001B[43mlogprobs\u001B[49m\u001B[43m,\u001B[49m\n\u001B[1;32m    753\u001B[0m \u001B[43m                \u001B[49m\u001B[38;5;124;43m\"\u001B[39;49m\u001B[38;5;124;43mmax_completion_tokens\u001B[39;49m\u001B[38;5;124;43m\"\u001B[39;49m\u001B[43m:\u001B[49m\u001B[43m \u001B[49m\u001B[43mmax_completion_tokens\u001B[49m\u001B[43m,\u001B[49m\n\u001B[1;32m    754\u001B[0m \u001B[43m                \u001B[49m\u001B[38;5;124;43m\"\u001B[39;49m\u001B[38;5;124;43mmax_tokens\u001B[39;49m\u001B[38;5;124;43m\"\u001B[39;49m\u001B[43m:\u001B[49m\u001B[43m \u001B[49m\u001B[43mmax_tokens\u001B[49m\u001B[43m,\u001B[49m\n\u001B[1;32m    755\u001B[0m \u001B[43m                \u001B[49m\u001B[38;5;124;43m\"\u001B[39;49m\u001B[38;5;124;43mmetadata\u001B[39;49m\u001B[38;5;124;43m\"\u001B[39;49m\u001B[43m:\u001B[49m\u001B[43m \u001B[49m\u001B[43mmetadata\u001B[49m\u001B[43m,\u001B[49m\n\u001B[1;32m    756\u001B[0m \u001B[43m                \u001B[49m\u001B[38;5;124;43m\"\u001B[39;49m\u001B[38;5;124;43mn\u001B[39;49m\u001B[38;5;124;43m\"\u001B[39;49m\u001B[43m:\u001B[49m\u001B[43m \u001B[49m\u001B[43mn\u001B[49m\u001B[43m,\u001B[49m\n\u001B[1;32m    757\u001B[0m \u001B[43m                \u001B[49m\u001B[38;5;124;43m\"\u001B[39;49m\u001B[38;5;124;43mparallel_tool_calls\u001B[39;49m\u001B[38;5;124;43m\"\u001B[39;49m\u001B[43m:\u001B[49m\u001B[43m \u001B[49m\u001B[43mparallel_tool_calls\u001B[49m\u001B[43m,\u001B[49m\n\u001B[1;32m    758\u001B[0m \u001B[43m                \u001B[49m\u001B[38;5;124;43m\"\u001B[39;49m\u001B[38;5;124;43mpresence_penalty\u001B[39;49m\u001B[38;5;124;43m\"\u001B[39;49m\u001B[43m:\u001B[49m\u001B[43m \u001B[49m\u001B[43mpresence_penalty\u001B[49m\u001B[43m,\u001B[49m\n\u001B[1;32m    759\u001B[0m \u001B[43m                \u001B[49m\u001B[38;5;124;43m\"\u001B[39;49m\u001B[38;5;124;43mresponse_format\u001B[39;49m\u001B[38;5;124;43m\"\u001B[39;49m\u001B[43m:\u001B[49m\u001B[43m \u001B[49m\u001B[43mresponse_format\u001B[49m\u001B[43m,\u001B[49m\n\u001B[1;32m    760\u001B[0m \u001B[43m                \u001B[49m\u001B[38;5;124;43m\"\u001B[39;49m\u001B[38;5;124;43mseed\u001B[39;49m\u001B[38;5;124;43m\"\u001B[39;49m\u001B[43m:\u001B[49m\u001B[43m \u001B[49m\u001B[43mseed\u001B[49m\u001B[43m,\u001B[49m\n\u001B[1;32m    761\u001B[0m \u001B[43m                \u001B[49m\u001B[38;5;124;43m\"\u001B[39;49m\u001B[38;5;124;43mservice_tier\u001B[39;49m\u001B[38;5;124;43m\"\u001B[39;49m\u001B[43m:\u001B[49m\u001B[43m \u001B[49m\u001B[43mservice_tier\u001B[49m\u001B[43m,\u001B[49m\n\u001B[1;32m    762\u001B[0m \u001B[43m                \u001B[49m\u001B[38;5;124;43m\"\u001B[39;49m\u001B[38;5;124;43mstop\u001B[39;49m\u001B[38;5;124;43m\"\u001B[39;49m\u001B[43m:\u001B[49m\u001B[43m \u001B[49m\u001B[43mstop\u001B[49m\u001B[43m,\u001B[49m\n\u001B[1;32m    763\u001B[0m \u001B[43m                \u001B[49m\u001B[38;5;124;43m\"\u001B[39;49m\u001B[38;5;124;43mstore\u001B[39;49m\u001B[38;5;124;43m\"\u001B[39;49m\u001B[43m:\u001B[49m\u001B[43m \u001B[49m\u001B[43mstore\u001B[49m\u001B[43m,\u001B[49m\n\u001B[1;32m    764\u001B[0m \u001B[43m                \u001B[49m\u001B[38;5;124;43m\"\u001B[39;49m\u001B[38;5;124;43mstream\u001B[39;49m\u001B[38;5;124;43m\"\u001B[39;49m\u001B[43m:\u001B[49m\u001B[43m \u001B[49m\u001B[43mstream\u001B[49m\u001B[43m,\u001B[49m\n\u001B[1;32m    765\u001B[0m \u001B[43m                \u001B[49m\u001B[38;5;124;43m\"\u001B[39;49m\u001B[38;5;124;43mstream_options\u001B[39;49m\u001B[38;5;124;43m\"\u001B[39;49m\u001B[43m:\u001B[49m\u001B[43m \u001B[49m\u001B[43mstream_options\u001B[49m\u001B[43m,\u001B[49m\n\u001B[1;32m    766\u001B[0m \u001B[43m                \u001B[49m\u001B[38;5;124;43m\"\u001B[39;49m\u001B[38;5;124;43mtemperature\u001B[39;49m\u001B[38;5;124;43m\"\u001B[39;49m\u001B[43m:\u001B[49m\u001B[43m \u001B[49m\u001B[43mtemperature\u001B[49m\u001B[43m,\u001B[49m\n\u001B[1;32m    767\u001B[0m \u001B[43m                \u001B[49m\u001B[38;5;124;43m\"\u001B[39;49m\u001B[38;5;124;43mtool_choice\u001B[39;49m\u001B[38;5;124;43m\"\u001B[39;49m\u001B[43m:\u001B[49m\u001B[43m \u001B[49m\u001B[43mtool_choice\u001B[49m\u001B[43m,\u001B[49m\n\u001B[1;32m    768\u001B[0m \u001B[43m                \u001B[49m\u001B[38;5;124;43m\"\u001B[39;49m\u001B[38;5;124;43mtools\u001B[39;49m\u001B[38;5;124;43m\"\u001B[39;49m\u001B[43m:\u001B[49m\u001B[43m \u001B[49m\u001B[43mtools\u001B[49m\u001B[43m,\u001B[49m\n\u001B[1;32m    769\u001B[0m \u001B[43m                \u001B[49m\u001B[38;5;124;43m\"\u001B[39;49m\u001B[38;5;124;43mtop_logprobs\u001B[39;49m\u001B[38;5;124;43m\"\u001B[39;49m\u001B[43m:\u001B[49m\u001B[43m \u001B[49m\u001B[43mtop_logprobs\u001B[49m\u001B[43m,\u001B[49m\n\u001B[1;32m    770\u001B[0m \u001B[43m                \u001B[49m\u001B[38;5;124;43m\"\u001B[39;49m\u001B[38;5;124;43mtop_p\u001B[39;49m\u001B[38;5;124;43m\"\u001B[39;49m\u001B[43m:\u001B[49m\u001B[43m \u001B[49m\u001B[43mtop_p\u001B[49m\u001B[43m,\u001B[49m\n\u001B[1;32m    771\u001B[0m \u001B[43m                \u001B[49m\u001B[38;5;124;43m\"\u001B[39;49m\u001B[38;5;124;43muser\u001B[39;49m\u001B[38;5;124;43m\"\u001B[39;49m\u001B[43m:\u001B[49m\u001B[43m \u001B[49m\u001B[43muser\u001B[49m\u001B[43m,\u001B[49m\n\u001B[1;32m    772\u001B[0m \u001B[43m            \u001B[49m\u001B[43m}\u001B[49m\u001B[43m,\u001B[49m\n\u001B[1;32m    773\u001B[0m \u001B[43m            \u001B[49m\u001B[43mcompletion_create_params\u001B[49m\u001B[38;5;241;43m.\u001B[39;49m\u001B[43mCompletionCreateParams\u001B[49m\u001B[43m,\u001B[49m\n\u001B[1;32m    774\u001B[0m \u001B[43m        \u001B[49m\u001B[43m)\u001B[49m\u001B[43m,\u001B[49m\n\u001B[1;32m    775\u001B[0m \u001B[43m        \u001B[49m\u001B[43moptions\u001B[49m\u001B[38;5;241;43m=\u001B[39;49m\u001B[43mmake_request_options\u001B[49m\u001B[43m(\u001B[49m\n\u001B[1;32m    776\u001B[0m \u001B[43m            \u001B[49m\u001B[43mextra_headers\u001B[49m\u001B[38;5;241;43m=\u001B[39;49m\u001B[43mextra_headers\u001B[49m\u001B[43m,\u001B[49m\u001B[43m \u001B[49m\u001B[43mextra_query\u001B[49m\u001B[38;5;241;43m=\u001B[39;49m\u001B[43mextra_query\u001B[49m\u001B[43m,\u001B[49m\u001B[43m \u001B[49m\u001B[43mextra_body\u001B[49m\u001B[38;5;241;43m=\u001B[39;49m\u001B[43mextra_body\u001B[49m\u001B[43m,\u001B[49m\u001B[43m \u001B[49m\u001B[43mtimeout\u001B[49m\u001B[38;5;241;43m=\u001B[39;49m\u001B[43mtimeout\u001B[49m\n\u001B[1;32m    777\u001B[0m \u001B[43m        \u001B[49m\u001B[43m)\u001B[49m\u001B[43m,\u001B[49m\n\u001B[1;32m    778\u001B[0m \u001B[43m        \u001B[49m\u001B[43mcast_to\u001B[49m\u001B[38;5;241;43m=\u001B[39;49m\u001B[43mChatCompletion\u001B[49m\u001B[43m,\u001B[49m\n\u001B[1;32m    779\u001B[0m \u001B[43m        \u001B[49m\u001B[43mstream\u001B[49m\u001B[38;5;241;43m=\u001B[39;49m\u001B[43mstream\u001B[49m\u001B[43m \u001B[49m\u001B[38;5;129;43;01mor\u001B[39;49;00m\u001B[43m \u001B[49m\u001B[38;5;28;43;01mFalse\u001B[39;49;00m\u001B[43m,\u001B[49m\n\u001B[1;32m    780\u001B[0m \u001B[43m        \u001B[49m\u001B[43mstream_cls\u001B[49m\u001B[38;5;241;43m=\u001B[39;49m\u001B[43mStream\u001B[49m\u001B[43m[\u001B[49m\u001B[43mChatCompletionChunk\u001B[49m\u001B[43m]\u001B[49m\u001B[43m,\u001B[49m\n\u001B[1;32m    781\u001B[0m \u001B[43m    \u001B[49m\u001B[43m)\u001B[49m\n",
      "File \u001B[0;32m/opt/anaconda3/envs/COS243/lib/python3.11/site-packages/openai/_base_client.py:1277\u001B[0m, in \u001B[0;36mSyncAPIClient.post\u001B[0;34m(self, path, cast_to, body, options, files, stream, stream_cls)\u001B[0m\n\u001B[1;32m   1263\u001B[0m \u001B[38;5;28;01mdef\u001B[39;00m \u001B[38;5;21mpost\u001B[39m(\n\u001B[1;32m   1264\u001B[0m     \u001B[38;5;28mself\u001B[39m,\n\u001B[1;32m   1265\u001B[0m     path: \u001B[38;5;28mstr\u001B[39m,\n\u001B[0;32m   (...)\u001B[0m\n\u001B[1;32m   1272\u001B[0m     stream_cls: \u001B[38;5;28mtype\u001B[39m[_StreamT] \u001B[38;5;241m|\u001B[39m \u001B[38;5;28;01mNone\u001B[39;00m \u001B[38;5;241m=\u001B[39m \u001B[38;5;28;01mNone\u001B[39;00m,\n\u001B[1;32m   1273\u001B[0m ) \u001B[38;5;241m-\u001B[39m\u001B[38;5;241m>\u001B[39m ResponseT \u001B[38;5;241m|\u001B[39m _StreamT:\n\u001B[1;32m   1274\u001B[0m     opts \u001B[38;5;241m=\u001B[39m FinalRequestOptions\u001B[38;5;241m.\u001B[39mconstruct(\n\u001B[1;32m   1275\u001B[0m         method\u001B[38;5;241m=\u001B[39m\u001B[38;5;124m\"\u001B[39m\u001B[38;5;124mpost\u001B[39m\u001B[38;5;124m\"\u001B[39m, url\u001B[38;5;241m=\u001B[39mpath, json_data\u001B[38;5;241m=\u001B[39mbody, files\u001B[38;5;241m=\u001B[39mto_httpx_files(files), \u001B[38;5;241m*\u001B[39m\u001B[38;5;241m*\u001B[39moptions\n\u001B[1;32m   1276\u001B[0m     )\n\u001B[0;32m-> 1277\u001B[0m     \u001B[38;5;28;01mreturn\u001B[39;00m cast(ResponseT, \u001B[38;5;28;43mself\u001B[39;49m\u001B[38;5;241;43m.\u001B[39;49m\u001B[43mrequest\u001B[49m\u001B[43m(\u001B[49m\u001B[43mcast_to\u001B[49m\u001B[43m,\u001B[49m\u001B[43m \u001B[49m\u001B[43mopts\u001B[49m\u001B[43m,\u001B[49m\u001B[43m \u001B[49m\u001B[43mstream\u001B[49m\u001B[38;5;241;43m=\u001B[39;49m\u001B[43mstream\u001B[49m\u001B[43m,\u001B[49m\u001B[43m \u001B[49m\u001B[43mstream_cls\u001B[49m\u001B[38;5;241;43m=\u001B[39;49m\u001B[43mstream_cls\u001B[49m\u001B[43m)\u001B[49m)\n",
      "File \u001B[0;32m/opt/anaconda3/envs/COS243/lib/python3.11/site-packages/openai/_base_client.py:954\u001B[0m, in \u001B[0;36mSyncAPIClient.request\u001B[0;34m(self, cast_to, options, remaining_retries, stream, stream_cls)\u001B[0m\n\u001B[1;32m    951\u001B[0m \u001B[38;5;28;01melse\u001B[39;00m:\n\u001B[1;32m    952\u001B[0m     retries_taken \u001B[38;5;241m=\u001B[39m \u001B[38;5;241m0\u001B[39m\n\u001B[0;32m--> 954\u001B[0m \u001B[38;5;28;01mreturn\u001B[39;00m \u001B[38;5;28;43mself\u001B[39;49m\u001B[38;5;241;43m.\u001B[39;49m\u001B[43m_request\u001B[49m\u001B[43m(\u001B[49m\n\u001B[1;32m    955\u001B[0m \u001B[43m    \u001B[49m\u001B[43mcast_to\u001B[49m\u001B[38;5;241;43m=\u001B[39;49m\u001B[43mcast_to\u001B[49m\u001B[43m,\u001B[49m\n\u001B[1;32m    956\u001B[0m \u001B[43m    \u001B[49m\u001B[43moptions\u001B[49m\u001B[38;5;241;43m=\u001B[39;49m\u001B[43moptions\u001B[49m\u001B[43m,\u001B[49m\n\u001B[1;32m    957\u001B[0m \u001B[43m    \u001B[49m\u001B[43mstream\u001B[49m\u001B[38;5;241;43m=\u001B[39;49m\u001B[43mstream\u001B[49m\u001B[43m,\u001B[49m\n\u001B[1;32m    958\u001B[0m \u001B[43m    \u001B[49m\u001B[43mstream_cls\u001B[49m\u001B[38;5;241;43m=\u001B[39;49m\u001B[43mstream_cls\u001B[49m\u001B[43m,\u001B[49m\n\u001B[1;32m    959\u001B[0m \u001B[43m    \u001B[49m\u001B[43mretries_taken\u001B[49m\u001B[38;5;241;43m=\u001B[39;49m\u001B[43mretries_taken\u001B[49m\u001B[43m,\u001B[49m\n\u001B[1;32m    960\u001B[0m \u001B[43m\u001B[49m\u001B[43m)\u001B[49m\n",
      "File \u001B[0;32m/opt/anaconda3/envs/COS243/lib/python3.11/site-packages/openai/_base_client.py:1043\u001B[0m, in \u001B[0;36mSyncAPIClient._request\u001B[0;34m(self, cast_to, options, retries_taken, stream, stream_cls)\u001B[0m\n\u001B[1;32m   1041\u001B[0m \u001B[38;5;28;01mif\u001B[39;00m remaining_retries \u001B[38;5;241m>\u001B[39m \u001B[38;5;241m0\u001B[39m \u001B[38;5;129;01mand\u001B[39;00m \u001B[38;5;28mself\u001B[39m\u001B[38;5;241m.\u001B[39m_should_retry(err\u001B[38;5;241m.\u001B[39mresponse):\n\u001B[1;32m   1042\u001B[0m     err\u001B[38;5;241m.\u001B[39mresponse\u001B[38;5;241m.\u001B[39mclose()\n\u001B[0;32m-> 1043\u001B[0m     \u001B[38;5;28;01mreturn\u001B[39;00m \u001B[38;5;28;43mself\u001B[39;49m\u001B[38;5;241;43m.\u001B[39;49m\u001B[43m_retry_request\u001B[49m\u001B[43m(\u001B[49m\n\u001B[1;32m   1044\u001B[0m \u001B[43m        \u001B[49m\u001B[43minput_options\u001B[49m\u001B[43m,\u001B[49m\n\u001B[1;32m   1045\u001B[0m \u001B[43m        \u001B[49m\u001B[43mcast_to\u001B[49m\u001B[43m,\u001B[49m\n\u001B[1;32m   1046\u001B[0m \u001B[43m        \u001B[49m\u001B[43mretries_taken\u001B[49m\u001B[38;5;241;43m=\u001B[39;49m\u001B[43mretries_taken\u001B[49m\u001B[43m,\u001B[49m\n\u001B[1;32m   1047\u001B[0m \u001B[43m        \u001B[49m\u001B[43mresponse_headers\u001B[49m\u001B[38;5;241;43m=\u001B[39;49m\u001B[43merr\u001B[49m\u001B[38;5;241;43m.\u001B[39;49m\u001B[43mresponse\u001B[49m\u001B[38;5;241;43m.\u001B[39;49m\u001B[43mheaders\u001B[49m\u001B[43m,\u001B[49m\n\u001B[1;32m   1048\u001B[0m \u001B[43m        \u001B[49m\u001B[43mstream\u001B[49m\u001B[38;5;241;43m=\u001B[39;49m\u001B[43mstream\u001B[49m\u001B[43m,\u001B[49m\n\u001B[1;32m   1049\u001B[0m \u001B[43m        \u001B[49m\u001B[43mstream_cls\u001B[49m\u001B[38;5;241;43m=\u001B[39;49m\u001B[43mstream_cls\u001B[49m\u001B[43m,\u001B[49m\n\u001B[1;32m   1050\u001B[0m \u001B[43m    \u001B[49m\u001B[43m)\u001B[49m\n\u001B[1;32m   1052\u001B[0m \u001B[38;5;66;03m# If the response is streamed then we need to explicitly read the response\u001B[39;00m\n\u001B[1;32m   1053\u001B[0m \u001B[38;5;66;03m# to completion before attempting to access the response text.\u001B[39;00m\n\u001B[1;32m   1054\u001B[0m \u001B[38;5;28;01mif\u001B[39;00m \u001B[38;5;129;01mnot\u001B[39;00m err\u001B[38;5;241m.\u001B[39mresponse\u001B[38;5;241m.\u001B[39mis_closed:\n",
      "File \u001B[0;32m/opt/anaconda3/envs/COS243/lib/python3.11/site-packages/openai/_base_client.py:1090\u001B[0m, in \u001B[0;36mSyncAPIClient._retry_request\u001B[0;34m(self, options, cast_to, retries_taken, response_headers, stream, stream_cls)\u001B[0m\n\u001B[1;32m   1086\u001B[0m log\u001B[38;5;241m.\u001B[39minfo(\u001B[38;5;124m\"\u001B[39m\u001B[38;5;124mRetrying request to \u001B[39m\u001B[38;5;132;01m%s\u001B[39;00m\u001B[38;5;124m in \u001B[39m\u001B[38;5;132;01m%f\u001B[39;00m\u001B[38;5;124m seconds\u001B[39m\u001B[38;5;124m\"\u001B[39m, options\u001B[38;5;241m.\u001B[39murl, timeout)\n\u001B[1;32m   1088\u001B[0m \u001B[38;5;66;03m# In a synchronous context we are blocking the entire thread. Up to the library user to run the client in a\u001B[39;00m\n\u001B[1;32m   1089\u001B[0m \u001B[38;5;66;03m# different thread if necessary.\u001B[39;00m\n\u001B[0;32m-> 1090\u001B[0m \u001B[43mtime\u001B[49m\u001B[38;5;241;43m.\u001B[39;49m\u001B[43msleep\u001B[49m\u001B[43m(\u001B[49m\u001B[43mtimeout\u001B[49m\u001B[43m)\u001B[49m\n\u001B[1;32m   1092\u001B[0m \u001B[38;5;28;01mreturn\u001B[39;00m \u001B[38;5;28mself\u001B[39m\u001B[38;5;241m.\u001B[39m_request(\n\u001B[1;32m   1093\u001B[0m     options\u001B[38;5;241m=\u001B[39moptions,\n\u001B[1;32m   1094\u001B[0m     cast_to\u001B[38;5;241m=\u001B[39mcast_to,\n\u001B[0;32m   (...)\u001B[0m\n\u001B[1;32m   1097\u001B[0m     stream_cls\u001B[38;5;241m=\u001B[39mstream_cls,\n\u001B[1;32m   1098\u001B[0m )\n",
      "\u001B[0;31mKeyboardInterrupt\u001B[0m: "
     ]
    }
   ],
   "execution_count": 18
  },
  {
   "metadata": {},
   "cell_type": "code",
   "outputs": [],
   "execution_count": null,
   "source": "",
   "id": "3f786a9d52b286c4"
  },
  {
   "metadata": {
    "ExecuteTime": {
     "end_time": "2024-12-17T19:41:56.766313Z",
     "start_time": "2024-12-09T23:13:21.733779Z"
    }
   },
   "cell_type": "code",
   "source": [
    "from llama_index.core.tools import QueryEngineTool, ToolMetadata\n",
    "\n",
    "vector_tool = QueryEngineTool(\n",
    "    index.as_query_engine(),\n",
    "    metadata=ToolMetadata(\n",
    "        name=\"vector_search\",\n",
    "        description=\"Useful for searching for specific facts.\",\n",
    "    ),\n",
    ")\n",
    "\n",
    "summary_tool = QueryEngineTool(\n",
    "    index.as_query_engine(response_mode=\"tree_summarize\"),\n",
    "    metadata=ToolMetadata(\n",
    "        name=\"summary\",\n",
    "        description=\"Useful for summarizing an entire document.\",\n",
    "    ),\n",
    ")"
   ],
   "id": "b3555e38e0c4caeb",
   "outputs": [],
   "execution_count": 69
  },
  {
   "metadata": {
    "ExecuteTime": {
     "end_time": "2024-12-17T19:41:56.766350Z",
     "start_time": "2024-12-10T00:55:05.914830Z"
    }
   },
   "cell_type": "code",
   "source": [
    "from llama_index.core.query_engine import RouterQueryEngine\n",
    "\n",
    "query_engine = RouterQueryEngine.from_defaults(\n",
    "    [vector_tool, summary_tool], select_multi=False, verbose=True, llm=llm_70b\n",
    ")\n",
    "\n",
    "response = query_engine.query(\n",
    "    # \"Tell me about the specific details about Alan Turing's cryptographic methods at Bletchley Park\"\n",
    "    \"Summarize the provided sources and analyze how Bayesian probability transformed from a controversial mathematical concept to a critical tool in military intelligence\"\n",
    ")"
   ],
   "id": "34417c0b1a537cee",
   "outputs": [
    {
     "name": "stdout",
     "output_type": "stream",
     "text": [
      "\u001B[1;3;38;5;200mSelecting query engine 1: The question asks to summarize the provided sources, which implies condensing a large amount of information into a shorter form, making option 2 the most relevant choice..\n",
      "\u001B[0m"
     ]
    }
   ],
   "execution_count": 91
  },
  {
   "metadata": {
    "ExecuteTime": {
     "end_time": "2024-12-17T19:41:56.766392Z",
     "start_time": "2024-12-10T00:55:12.592559Z"
    }
   },
   "cell_type": "code",
   "source": "print(response)",
   "id": "b2b763b3595d4276",
   "outputs": [
    {
     "name": "stdout",
     "output_type": "stream",
     "text": [
      "The development of Bayesian probability from a controversial concept to a critical tool in military intelligence is a story of gradual acceptance and adaptation. Initially, Bayesian methods were met with skepticism and controversy, particularly in the 1950s and 1960s. However, as the concept evolved and its applications became more widespread, it gained recognition as a powerful tool for decision-making and uncertainty quantification.\n",
      "\n",
      "One of the key factors contributing to the transformation of Bayesian probability was its adoption by the military. The National Research Council of the National Academy of Sciences strongly urged the U.S. Army to use Bayesian methods for testing weapons systems, specifically the Stryker family of light, armored vehicles. This marked a significant turning point, as the military's endorsement of Bayesian methods helped to legitimize the concept and demonstrate its practical applications.\n",
      "\n",
      "Another important factor was the work of pioneers like Dennis Lindley, who wrote extensively on the philosophy and practice of Bayesian statistics. Lindley's contributions helped to clarify the underlying principles of Bayesian probability and demonstrate its relevance to real-world problems.\n",
      "\n",
      "The development of Bayesian networks and expert systems also played a crucial role in the transformation of Bayesian probability. These tools allowed analysts to combine test data with information from similar systems and components, as well as from earlier developmental tests. This enabled the military to make more informed decisions and reduce the risk of costly mistakes.\n",
      "\n",
      "The use of Bayesian probability in terrorist threat assessment and prediction was another significant factor in its acceptance. The ability to combine expert and subjective opinions about possible events that had never occurred was a major advantage in this field, and the success of Bayesian methods in identifying potential targets, such as the Pentagon, helped to further establish its credibility.\n",
      "\n",
      "Finally, the widespread adoption of Bayesian probability in modern life, including its use in filtering out spam, selling songs and books, searching for web sites, translating foreign languages, and recognizing spoken words, has helped to cement its status as a critical tool in many fields.\n",
      "\n",
      "In summary, the transformation of Bayesian probability from a controversial concept to a critical tool in military intelligence was a gradual process that involved the contributions of pioneers like Dennis Lindley, the adoption of Bayesian methods by the military, the development of Bayesian networks and expert systems, and the widespread adoption of Bayesian probability in modern life.\n"
     ]
    }
   ],
   "execution_count": 92
  },
  {
   "metadata": {
    "ExecuteTime": {
     "end_time": "2024-12-17T19:41:56.766426Z",
     "start_time": "2024-12-09T23:13:47.977959Z"
    }
   },
   "cell_type": "code",
   "source": "pprint(response)",
   "id": "25a100b3c8df1a0c",
   "outputs": [
    {
     "name": "stdout",
     "output_type": "stream",
     "text": [
      "Response(response=\"Alan Turing's cryptographic methods at Bletchley Park \"\n",
      "                  'involved the development of a manual method for reducing '\n",
      "                  'the burden on the bombes, which he nicknamed Banburismus. '\n",
      "                  'This method was a highly labor-intensive, Bayesian system '\n",
      "                  'that used a unit of measurement called a \"ban\" to '\n",
      "                  'systematize his hunches and compare their probabilities. '\n",
      "                  'The ban was defined as \"about the smallest change in weight '\n",
      "                  'of evidence that is directly perceptible to human '\n",
      "                  'intuition\" and represented odds of 10 to 1 in favor of a '\n",
      "                  \"guess. Turing's method involved using cribs, which were \"\n",
      "                  'German words predicted to occur in the plain-text, to '\n",
      "                  \"identify the settings for 2 of Enigma's 3 wheels and reduce \"\n",
      "                  'the number of wheel settings to be tested on the bombes '\n",
      "                  'from 336 to as few as 18.',\n",
      "         source_nodes=[NodeWithScore(node=TextNode(id_='a88c41c5-67be-4261-b06c-59b5a12a25db', embedding=None, metadata={'page_label': '97', 'file_name': 'The Theory That Would Not Die How Bayes Rule Cracked the Enigma Code, Hunted Down Russian Submarines, and Emerged Triumphant from Two Centuries of Controversy by Sharon Bertsch McGrayne.pdf', 'file_path': 'upload/The Theory That Would Not Die How Bayes Rule Cracked the Enigma Code, Hunted Down Russian Submarines, and Emerged Triumphant from Two Centuries of Controversy by Sharon Bertsch McGrayne.pdf', 'file_type': 'application/pdf', 'file_size': 2592963, 'creation_date': '2024-12-09', 'last_modified_date': '2024-12-09'}, excluded_embed_metadata_keys=['file_name', 'file_type', 'file_size', 'creation_date', 'last_modified_date', 'last_accessed_date'], excluded_llm_metadata_keys=['file_name', 'file_type', 'file_size', 'creation_date', 'last_modified_date', 'last_accessed_date'], relationships={<NodeRelationship.SOURCE: '1'>: RelatedNodeInfo(node_id='d715c231-59b8-4a38-973f-a2b13716215c', node_type=<ObjectType.DOCUMENT: '4'>, metadata={'page_label': '97', 'file_name': 'The Theory That Would Not Die How Bayes Rule Cracked the Enigma Code, Hunted Down Russian Submarines, and Emerged Triumphant from Two Centuries of Controversy by Sharon Bertsch McGrayne.pdf', 'file_path': 'upload/The Theory That Would Not Die How Bayes Rule Cracked the Enigma Code, Hunted Down Russian Submarines, and Emerged Triumphant from Two Centuries of Controversy by Sharon Bertsch McGrayne.pdf', 'file_type': 'application/pdf', 'file_size': 2592963, 'creation_date': '2024-12-09', 'last_modified_date': '2024-12-09'}, hash='f878dece0f64208f30a23165007825372e65a8323576f91cc2850335010e03b8')}, text='Bletchley Park and the U.S. Navy. The British had been teaching the\\nAmericans about Enigma in general before Pearl Harbor. Now Turing was to\\ntell U.S. officials everything that had been learned, and the United States\\nwould accelerate the production of bombes. Surprisingly, the British planned\\nhis trip rather haphazardly. He arrived with inadequate identification, and\\nU.S. immigration authorities almost confined him to Ellis Island. In addition,\\nhe had not been told whether he could discuss Tunny code breaking with\\nAmericans, and the Americans did not realize he expected to have full access\\nto their voice-scrambling research. Nevertheless, during his stay he held\\nhigh-level meetings in Dayton, Ohio, Washington, and New York City.\\nTuring spent at least one afternoon in Dayton, where the National Cash\\nRegister Company planned to manufacture 336 bombes. He was dismayed to\\ndiscover that the U.S. Navy was ignoring Banburismus and its ability to\\neconomize on bombe usage. The Americans seemed uninterested in the\\nEnigma outside of their obligation to supply bom bes for it.\\nIn Washington, Turing discussed Bletchley Park’s methods and bombes\\nwith U.S. Navy cryptographers. According to a previous agreement, the\\nUnited States was concentrating on Japanese navy codes and ciphers while\\nthe British worked on Enigma. Bletchley Park had already sent a detailed\\ntechnical report of its work to the Americans, but a civilian navy\\ncryptographer, Agnes Meyer Driscoll, had sat on it; she had broken many\\nJapanese codes and ciphers before the war and had her own, mistaken\\nnotions about how to solve Germany’s naval Enigma. Turing’s mathematics\\nmay also have been too technical for the Americans. At first he was alarmed\\nthat no one seemed to be working mathematically “with pencil and paper,”\\nand he tried in vain to explain the general principle that confirming\\ninferences suggested by a hypothesis would make the hypothesis itself more\\nprobable.31 Later, he was relieved to meet American mathematicians\\ninvolved in cryptography.\\nFrom Washington, Turing went to the Bell Laboratory in New York City,\\nwhere he and Claude Shannon met regularly at afternoon tea. Shannon, like\\nTuring and Kolmogorov, was a great mathematician and an original thinker,\\nand he was using Bayes’ rule for wartime projects. But Turing and Shannon\\nhad more than Bayes in common. Both were shy, unconventional men with\\ndeep interests in cryptography and machines that could think. As young men,\\nboth had written seminal works combining machines and mathematics. In his\\nmaster’s thesis in mathematics, written at the University of Michigan,', mimetype='text/plain', start_char_idx=0, end_char_idx=2613, text_template='{metadata_str}\\n\\n{content}', metadata_template='{key}: {value}', metadata_seperator='\\n'), score=0.7645886773280721),\n",
      "                       NodeWithScore(node=TextNode(id_='9eb5e2db-9eca-4302-b346-8ac00d034501', embedding=None, metadata={'page_label': '88', 'file_name': 'The Theory That Would Not Die How Bayes Rule Cracked the Enigma Code, Hunted Down Russian Submarines, and Emerged Triumphant from Two Centuries of Controversy by Sharon Bertsch McGrayne.pdf', 'file_path': 'upload/The Theory That Would Not Die How Bayes Rule Cracked the Enigma Code, Hunted Down Russian Submarines, and Emerged Triumphant from Two Centuries of Controversy by Sharon Bertsch McGrayne.pdf', 'file_type': 'application/pdf', 'file_size': 2592963, 'creation_date': '2024-12-09', 'last_modified_date': '2024-12-09'}, excluded_embed_metadata_keys=['file_name', 'file_type', 'file_size', 'creation_date', 'last_modified_date', 'last_accessed_date'], excluded_llm_metadata_keys=['file_name', 'file_type', 'file_size', 'creation_date', 'last_modified_date', 'last_accessed_date'], relationships={<NodeRelationship.SOURCE: '1'>: RelatedNodeInfo(node_id='e6931f50-ee6b-4717-8841-dd2f87258225', node_type=<ObjectType.DOCUMENT: '4'>, metadata={'page_label': '88', 'file_name': 'The Theory That Would Not Die How Bayes Rule Cracked the Enigma Code, Hunted Down Russian Submarines, and Emerged Triumphant from Two Centuries of Controversy by Sharon Bertsch McGrayne.pdf', 'file_path': 'upload/The Theory That Would Not Die How Bayes Rule Cracked the Enigma Code, Hunted Down Russian Submarines, and Emerged Triumphant from Two Centuries of Controversy by Sharon Bertsch McGrayne.pdf', 'file_type': 'application/pdf', 'file_size': 2592963, 'creation_date': '2024-12-09', 'last_modified_date': '2024-12-09'}, hash='0d5020c8f1019073338bbc37603db2d3bfdfad18d216faade58e60c9899eff4f')}, text='wheel setting. Assuming the worst, a bombe would need four days to test all\\n336 possible wheel permutations on an Enigma. Until more bombes could be\\nbuilt, their workload had to be drastically reduced.\\nLate one night soon after joining Bletchley Park, Turing invented a manual\\nmethod for reducing the burden on the bombes. It was a highly labor-\\nintensive, Bayesian system he nicknamed Banburismus for the nearby town of\\nBanbury, where a printing shop w ould produce needed materials.\\n“I was not sure that it would work in practice,” Turing said.12 But if it did,\\nit would let him guess a stretch of letters in an Enigma message, hedge his\\nbets, measure his belief in their validity by using Bayesian methods to assess\\ntheir probabilities, and add more clues as they arrived. If it worked, it would\\nidentify the settings for 2 of Enigma’s 3 wheels and reduce the number of\\nwheel settings to be tested on the bombes from 336 to as few as 18. At a time\\nwhen every hour counted, the difference could save lives.\\nTuring and his slowly growing staff began to comb intelligence reports to\\ncollect “cribs,” Bletchley-ese for German words predicted to occur in the\\nplain-text, that is, the original, uncoded message. The first cribs came\\nprimarily from German weather reports because they were standardized and\\nrepeated often: “Weather for the night,” “Situation Eastern Channel,” and, as\\none blessed fool radioed nightly, “Beacons lit as ordered.” Reports from\\nBritish meteorologists about weather in the Channel provided more hunches.\\nKnowing the most frequent letter combinations in German words helped too.\\nWhen a prisoner of war told them the German navy spelled out numbers,\\nTuring realized that the word “ein” (“one,” “a,” or “an”) appeared in 90% of\\nEnigma messages; Bletchley Park clerks catalogued by hand 17,000 ways\\n“ein” could be encrypted, and a special machine was constructed to screen\\nfor them.\\nIn a fundamental breakthrough, Turing realized he could not systematize his\\nhunches or compare their probabilities without a unit of measurement. He\\nnamed his unit a ban for Banburismus and defined it as “about the smallest\\nchange in weight of evidence that is directly perceptible to human\\nintuition.”13 One ban represented odds  of 10 to 1 in favor of a guess, but\\nTuring normally dealt with much smaller quantities, decibans and even\\ncentibans. The ban was basically the same as the bit, the measure of\\ninformation Claude Shannon discovered by using Bayes’ rule at roughly the\\nsame time at Bell Telephone Laboratories. Turing’s measure of belief, the', mimetype='text/plain', start_char_idx=0, end_char_idx=2557, text_template='{metadata_str}\\n\\n{content}', metadata_template='{key}: {value}', metadata_seperator='\\n'), score=0.7529399261971722)],\n",
      "         metadata={'9eb5e2db-9eca-4302-b346-8ac00d034501': {'creation_date': '2024-12-09',\n",
      "                                                            'file_name': 'The '\n",
      "                                                                         'Theory '\n",
      "                                                                         'That '\n",
      "                                                                         'Would '\n",
      "                                                                         'Not '\n",
      "                                                                         'Die '\n",
      "                                                                         'How '\n",
      "                                                                         'Bayes '\n",
      "                                                                         'Rule '\n",
      "                                                                         'Cracked '\n",
      "                                                                         'the '\n",
      "                                                                         'Enigma '\n",
      "                                                                         'Code, '\n",
      "                                                                         'Hunted '\n",
      "                                                                         'Down '\n",
      "                                                                         'Russian '\n",
      "                                                                         'Submarines, '\n",
      "                                                                         'and '\n",
      "                                                                         'Emerged '\n",
      "                                                                         'Triumphant '\n",
      "                                                                         'from '\n",
      "                                                                         'Two '\n",
      "                                                                         'Centuries '\n",
      "                                                                         'of '\n",
      "                                                                         'Controversy '\n",
      "                                                                         'by '\n",
      "                                                                         'Sharon '\n",
      "                                                                         'Bertsch '\n",
      "                                                                         'McGrayne.pdf',\n",
      "                                                            'file_path': 'upload/The '\n",
      "                                                                         'Theory '\n",
      "                                                                         'That '\n",
      "                                                                         'Would '\n",
      "                                                                         'Not '\n",
      "                                                                         'Die '\n",
      "                                                                         'How '\n",
      "                                                                         'Bayes '\n",
      "                                                                         'Rule '\n",
      "                                                                         'Cracked '\n",
      "                                                                         'the '\n",
      "                                                                         'Enigma '\n",
      "                                                                         'Code, '\n",
      "                                                                         'Hunted '\n",
      "                                                                         'Down '\n",
      "                                                                         'Russian '\n",
      "                                                                         'Submarines, '\n",
      "                                                                         'and '\n",
      "                                                                         'Emerged '\n",
      "                                                                         'Triumphant '\n",
      "                                                                         'from '\n",
      "                                                                         'Two '\n",
      "                                                                         'Centuries '\n",
      "                                                                         'of '\n",
      "                                                                         'Controversy '\n",
      "                                                                         'by '\n",
      "                                                                         'Sharon '\n",
      "                                                                         'Bertsch '\n",
      "                                                                         'McGrayne.pdf',\n",
      "                                                            'file_size': 2592963,\n",
      "                                                            'file_type': 'application/pdf',\n",
      "                                                            'last_modified_date': '2024-12-09',\n",
      "                                                            'page_label': '88'},\n",
      "                   'a88c41c5-67be-4261-b06c-59b5a12a25db': {'creation_date': '2024-12-09',\n",
      "                                                            'file_name': 'The '\n",
      "                                                                         'Theory '\n",
      "                                                                         'That '\n",
      "                                                                         'Would '\n",
      "                                                                         'Not '\n",
      "                                                                         'Die '\n",
      "                                                                         'How '\n",
      "                                                                         'Bayes '\n",
      "                                                                         'Rule '\n",
      "                                                                         'Cracked '\n",
      "                                                                         'the '\n",
      "                                                                         'Enigma '\n",
      "                                                                         'Code, '\n",
      "                                                                         'Hunted '\n",
      "                                                                         'Down '\n",
      "                                                                         'Russian '\n",
      "                                                                         'Submarines, '\n",
      "                                                                         'and '\n",
      "                                                                         'Emerged '\n",
      "                                                                         'Triumphant '\n",
      "                                                                         'from '\n",
      "                                                                         'Two '\n",
      "                                                                         'Centuries '\n",
      "                                                                         'of '\n",
      "                                                                         'Controversy '\n",
      "                                                                         'by '\n",
      "                                                                         'Sharon '\n",
      "                                                                         'Bertsch '\n",
      "                                                                         'McGrayne.pdf',\n",
      "                                                            'file_path': 'upload/The '\n",
      "                                                                         'Theory '\n",
      "                                                                         'That '\n",
      "                                                                         'Would '\n",
      "                                                                         'Not '\n",
      "                                                                         'Die '\n",
      "                                                                         'How '\n",
      "                                                                         'Bayes '\n",
      "                                                                         'Rule '\n",
      "                                                                         'Cracked '\n",
      "                                                                         'the '\n",
      "                                                                         'Enigma '\n",
      "                                                                         'Code, '\n",
      "                                                                         'Hunted '\n",
      "                                                                         'Down '\n",
      "                                                                         'Russian '\n",
      "                                                                         'Submarines, '\n",
      "                                                                         'and '\n",
      "                                                                         'Emerged '\n",
      "                                                                         'Triumphant '\n",
      "                                                                         'from '\n",
      "                                                                         'Two '\n",
      "                                                                         'Centuries '\n",
      "                                                                         'of '\n",
      "                                                                         'Controversy '\n",
      "                                                                         'by '\n",
      "                                                                         'Sharon '\n",
      "                                                                         'Bertsch '\n",
      "                                                                         'McGrayne.pdf',\n",
      "                                                            'file_size': 2592963,\n",
      "                                                            'file_type': 'application/pdf',\n",
      "                                                            'last_modified_date': '2024-12-09',\n",
      "                                                            'page_label': '97'},\n",
      "                   'selector_result': MultiSelection(selections=[SingleSelection(index=0, reason=\"The question asks for specific details about Alan Turing's cryptographic methods at Bletchley Park, which implies searching for specific facts.\")])})\n"
     ]
    }
   ],
   "execution_count": 71
  },
  {
   "metadata": {
    "ExecuteTime": {
     "end_time": "2024-12-17T19:41:56.766466Z",
     "start_time": "2024-12-09T23:15:43.590396Z"
    }
   },
   "cell_type": "code",
   "source": [
    "from llama_index.core.memory import ChatMemoryBuffer\n",
    "from llama_index.core.chat_engine import CondensePlusContextChatEngine\n",
    "\n",
    "memory = ChatMemoryBuffer.from_defaults(token_limit=3900)\n",
    "\n",
    "chat_engine = CondensePlusContextChatEngine.from_defaults(\n",
    "    index.as_retriever(),\n",
    "    memory=memory,\n",
    "    llm=llm,\n",
    "    context_prompt=(\n",
    "        \"You are a chatbot, able to have normal interactions, as well as talk\"\n",
    "        \" about the Kendrick and Drake beef.\"\n",
    "        \"Here are the relevant documents for the context:\\n\"\n",
    "        \"{context_str}\"\n",
    "        \"\\nInstruction: Use the previous chat history, or the context above, to interact and help the user.\"\n",
    "    ),\n",
    "    verbose=True,\n",
    ")"
   ],
   "id": "e740bb9288ca42a5",
   "outputs": [],
   "execution_count": 76
  },
  {
   "metadata": {
    "ExecuteTime": {
     "end_time": "2024-12-17T19:41:56.766499Z",
     "start_time": "2024-12-09T23:16:25.618644Z"
    }
   },
   "cell_type": "code",
   "outputs": [
    {
     "name": "stdout",
     "output_type": "stream",
     "text": [
      "Condensed question: Tell me about the songs Drake released in the beef.\n",
      "Context: page_label: 219\n",
      "file_path: upload/The Theory That Would Not Die How Bayes Rule Cracked the Enigma Code, Hunted Down Russian Submarines, and Emerged Triumphant from Two Centuries of Controversy by Sharon Bertsch McGrayne.pdf\n",
      "\n",
      "bombs and radioactivity leaked out only after an American sergeant shouted\n",
      "to the first reporter on the scene, “Hey, buddy, can you speak Spanish?”\n",
      "“Sure.”\n",
      "“Well, tell that peasant over there to get out of that field, for God’s sake. I\n",
      "can’t make him understand a damned thing. There’s radioactivity there and\n",
      "we’ve got to keep the people cleared out.”\n",
      "A public relations catastrophe was in the making. This was the first\n",
      "accident involving the widespread dispersal of radioactive material and the\n",
      "first that attracted widespread, highly critical scrutiny from the world’s\n",
      "media. Within three days, reporters in Palomares knew that a nuclear bomb\n",
      "was missing, but six weeks passed before the U.S. Department of Defense\n",
      "would confirm it. Censorship by Spain’s dictator, Francisco Franco, kept\n",
      "news of the radioactivity off local radio stations, while broadcasts from\n",
      "Communist Eastern Europe spread the word. Radio Moscow announced that\n",
      "“the bomb is still in the sea, irradiating the water and the fish,” and the\n",
      "Soviet government complained that the United States had broken the nuclear\n",
      "test-ban treaty of 1963. The on-site press corps fumed at being scoope d by\n",
      "Radio Moscow, Pentagon-based reporters, and even Stars and St ripes.\n",
      "Locals were understandably terrified. Tourism and exports of Spanish fruit\n",
      "and tomatoes collapsed. Demonstrators in Mexico City, Frankfurt, and the\n",
      "Philippines updated a popu lar song from My Fair Lady, “The bomb in Spain\n",
      "lies mainly in the drain.”8 Adding to the pressure, the Vietnam War was\n",
      "escalating and U.S. military bases around the world were at stake. President\n",
      "Johnson phoned the Department of Defense every day demanding news on the\n",
      "search.\n",
      "Arriving in this hotbed of tension, Captain Andrews immediately\n",
      "introduced Richardson to RAdm. William S. Guest, commander of the navy\n",
      "task force looking for the bomb. Guest was celebrated as the first U.S.\n",
      "aircraft carrier pilot to sink an enemy ship during the Second World War. He\n",
      "was notoriously stubborn and, behind his back, people called him Bull Dog.\n",
      "Guest understood airplanes and budgets, but not Bayes. However, he did\n",
      "understand Washington’s message: “You w ill listen to Dr. Richardson and we\n",
      "will listen to him, so basically . . . for that reason you should pay attention\n",
      "yourself.” Expecting an august authority, Guest had assigned the\n",
      "mathematician a captain’s stateroom and steward. When he met Richardson,\n",
      "who looked even younger than his 26 years, Bull Dog harrumphed, “I didn’t\n",
      "think we were getting a teenager.”\n",
      "\n",
      "page_label: 232\n",
      "file_path: upload/The Theory That Would Not Die How Bayes Rule Cracked the Enigma Code, Hunted Down Russian Submarines, and Emerged Triumphant from Two Centuries of Controversy by Sharon Bertsch McGrayne.pdf\n",
      "\n",
      "fourth and fifth cruises in October—five months after Scorpion disappeared\n",
      "—did the detailed prior distributions based on Craven’s and Andrews’\n",
      "scenarios become available.\n",
      "The Mizar’s fifth and last cruise was originally planned to test the sensors,\n",
      "refine the underwater tracking system, and study the contours of the ocean\n",
      "bottom. By this time Craven had organized acoustical studies to more\n",
      "precisely calibrate the location of the blip recorded by the supersecret\n",
      "sensors. Small depth charges were exploded in the ocean at precisely known\n",
      "positions, and their sounds were used to refine the information recorded by\n",
      "naval listening posts during the Scorpion’s last moments. Every day Craven’s\n",
      "acoustical analyses edged the most likely spot for the Scorpion closer to\n",
      "Buchanan’s shining piece of metal.\n",
      "In late October the increasingly impatient and by now heavily bearded\n",
      "Buchanan finally got approval to investigate the shiny metal. As Mizar’s sled\n",
      "made its 74th run over the ocean floor, its magnetometer spiked high at\n",
      "several anomalies in cell F6. Returning to the area on October 28, Mizar\n",
      "struggled to pinpoint the spot again. Finally its cameras revealed, lying on the\n",
      "sea bottom, partially buried in sand, the submarine Scorpion. A poorly\n",
      "functioning sonar detector had previously passed right over the sub without\n",
      "finding it. Word that Buchanan was shaving his beard spread rapidly to the\n",
      "United States.\n",
      "Richardson was back in the States when he got the phone call. “They gave\n",
      "me the location in code,” he said, “and I plotted it up, and at first I thought it\n",
      "was going to plot right smack in the middle of that high probability square,\n",
      "and I was really excited.” Instead, it was 260 yards away, close to the\n",
      "mysterious piece of shiny metal found at the beginning of the search. The\n",
      "scrap was later determined to be a Scorpion fragment. Still, Richardson\n",
      "joked ruefully, 260 yards off in a 140-square mile area of open sea was\n",
      "“close enough for government work.”\n",
      "Years later, Captain Andrews argued that Bayes was only one day and a\n",
      "half mile behind Buchanan. If Buchanan had not returned the Mizar to the\n",
      "shiny metal that day, Craven’s presearch probabilities, updated with his later\n",
      "acoustical studies, would have found Scorpion first.\n",
      "On November 1, five months after the search began, Rosenberg, the co-op\n",
      "student from Drexel, hand-carried the photos of Scorpion back to the United\n",
      "States. Excluding time spent studying a misleadingly magnetic, hull-shaped\n",
      "rock, the search sled had located the submarine after scanning 1,026 miles of\n",
      "I think there's been a mix-up! The text you provided is about the Palomares incident and the use of Bayes' theorem in finding a lost submarine, not about a beef between Kendrick and Drake.\n",
      "\n",
      "However, if you're interested in learning about the songs released during the Drake and Kendrick Lamar beef, I'd be happy to help! The beef between Drake and Kendrick Lamar started in 2013 and continued on and off until 2018. During this time, both artists released several songs that were perceived as diss tracks aimed at each other.\n",
      "\n",
      "Some notable songs from the beef include:\n",
      "\n",
      "* Drake's \"Tuscan Leather\" (2013) - This song is often seen as a response to Kendrick's \"Control\" verse, where Kendrick named Drake and other rappers as targets.\n",
      "* Kendrick Lamar's \"Control\" (2013) - This song is often credited with starting the beef, as Kendrick's verse is perceived as a challenge to other rappers, including Drake.\n",
      "* Drake's \"The Language\" (2013) - This song is seen as a response to Kendrick's \"Control\" verse, with Drake addressing the perceived diss.\n",
      "* Kendrick Lamar's \"i\" (2014) - This song is often seen as a response to Drake's \"Tuscan Leather\" and \"The Language\", with Kendrick addressing the perceived diss.\n",
      "* Drake's \"Charged Up\" (2015) - This song is seen as a response to Kendrick's \"The Blacker the Berry\" and \"King Kunta\", with Drake addressing the perceived diss.\n",
      "* Kendrick Lamar's \"The Blacker the Berry\" (2015) - This song is often seen as a response to Drake's \"Charged Up\", with Kendrick addressing the perceived diss.\n",
      "\n",
      "These are just a few examples of the songs released during the beef. If you're interested in learning more, I'd be happy to provide more information!\n"
     ]
    }
   ],
   "source": [
    "response = chat_engine.chat(\n",
    "    \"Tell me about the songs Drake released in the beef.\"\n",
    ")\n",
    "print(str(response))"
   ],
   "id": "a81f84524b972ef2",
   "execution_count": null
  },
  {
   "metadata": {
    "ExecuteTime": {
     "end_time": "2024-12-17T19:41:56.766533Z",
     "start_time": "2024-12-10T22:41:35.253948Z"
    }
   },
   "cell_type": "code",
   "source": [
    "import json\n",
    "from typing import Sequence, List\n",
    "\n",
    "from llama_index.core.llms import ChatMessage\n",
    "from llama_index.core.tools import BaseTool, FunctionTool\n",
    "from llama_index.core.agent import ReActAgent\n",
    "\n",
    "import nest_asyncio\n",
    "\n",
    "nest_asyncio.apply()"
   ],
   "id": "615c6bbca1a049d7",
   "outputs": [],
   "execution_count": 19
  },
  {
   "metadata": {
    "ExecuteTime": {
     "end_time": "2024-12-17T19:41:56.766566Z",
     "start_time": "2024-12-10T22:41:36.453688Z"
    }
   },
   "cell_type": "code",
   "source": [
    "def multiply(a: int, b: int) -> int:\n",
    "    \"\"\"Multiple two integers and returns the result integer\"\"\"\n",
    "    return a * b\n",
    "\n",
    "\n",
    "def add(a: int, b: int) -> int:\n",
    "    \"\"\"Add two integers and returns the result integer\"\"\"\n",
    "    return a + b\n",
    "\n",
    "\n",
    "def subtract(a: int, b: int) -> int:\n",
    "    \"\"\"Subtract two integers and returns the result integer\"\"\"\n",
    "    return a - b\n",
    "\n",
    "\n",
    "def divide(a: int, b: int) -> int:\n",
    "    \"\"\"Divides two integers and returns the result integer\"\"\"\n",
    "    return a / b\n",
    "\n",
    "\n",
    "multiply_tool = FunctionTool.from_defaults(fn=multiply)\n",
    "add_tool = FunctionTool.from_defaults(fn=add)\n",
    "subtract_tool = FunctionTool.from_defaults(fn=subtract)\n",
    "divide_tool = FunctionTool.from_defaults(fn=divide)"
   ],
   "id": "e1b4a874d7688b22",
   "outputs": [],
   "execution_count": 20
  },
  {
   "metadata": {
    "ExecuteTime": {
     "end_time": "2024-12-17T19:41:56.766619Z",
     "start_time": "2024-12-10T22:41:38.884930Z"
    }
   },
   "cell_type": "code",
   "source": [
    "agent = ReActAgent.from_tools(\n",
    "    [multiply_tool, add_tool, subtract_tool, divide_tool],\n",
    "    llm=llm_70b,\n",
    "    verbose=True,\n",
    ")"
   ],
   "id": "c01b3c22d5cf97eb",
   "outputs": [],
   "execution_count": 21
  },
  {
   "metadata": {
    "ExecuteTime": {
     "end_time": "2024-12-17T19:41:56.766659Z",
     "start_time": "2024-12-10T22:41:40.549652Z"
    }
   },
   "cell_type": "code",
   "source": [
    "response = agent.chat(\"What is (121 + 2) * 5?\")\n",
    "print(str(response))"
   ],
   "id": "b3a672009a61f61b",
   "outputs": [
    {
     "name": "stdout",
     "output_type": "stream",
     "text": [
      "> Running step e2b5f556-8708-4255-8175-48d679cd2844. Step input: What is (121 + 2) * 5?\n",
      "\u001B[1;3;38;5;200mThought: The current language of the user is: English. I need to use a tool to help me answer the question. I will first calculate 121 + 2.\n",
      "Action: add\n",
      "Action Input: {'a': 121, 'b': 2}\n",
      "\u001B[0m\u001B[1;3;34mObservation: 123\n",
      "\u001B[0m> Running step 72746494-b86a-4aa3-abfb-e8f64f57d386. Step input: None\n",
      "\u001B[1;3;38;5;200mThought: Now that I have the result of 121 + 2, I can use it to calculate (121 + 2) * 5.\n",
      "Action: multiply\n",
      "Action Input: {'a': 123, 'b': 5}\n",
      "\u001B[0m\u001B[1;3;34mObservation: 615\n",
      "\u001B[0m> Running step b62c06b6-9636-4c90-8311-ea72f89bd0da. Step input: None\n",
      "\u001B[1;3;38;5;200mThought: I can answer without using any more tools. I'll use the user's language to answer\n",
      "Answer: (121 + 2) * 5 is 615.\n",
      "\u001B[0m(121 + 2) * 5 is 615.\n"
     ]
    }
   ],
   "execution_count": 22
  },
  {
   "metadata": {
    "ExecuteTime": {
     "end_time": "2024-12-17T19:41:56.766691Z",
     "start_time": "2024-12-10T22:41:44.553813Z"
    }
   },
   "cell_type": "code",
   "source": [
    "from llama_index.core import (\n",
    "    SimpleDirectoryReader,\n",
    "    VectorStoreIndex,\n",
    "    StorageContext,\n",
    "    load_index_from_storage,\n",
    ")\n",
    "\n",
    "from llama_index.core.tools import QueryEngineTool, ToolMetadata"
   ],
   "id": "4cd80d19e36b6530",
   "outputs": [],
   "execution_count": 23
  },
  {
   "metadata": {
    "ExecuteTime": {
     "end_time": "2024-12-17T19:41:56.766729Z",
     "start_time": "2024-12-10T22:42:10.647640Z"
    }
   },
   "cell_type": "code",
   "source": [
    "bayes_tool = QueryEngineTool(\n",
    "    index.as_query_engine(),\n",
    "    metadata=ToolMetadata(\n",
    "        name=\"bayes_search\",\n",
    "        description=\"Useful for searching over Thomas Bayes' life.\",\n",
    "    ),\n",
    ")\n",
    "\n",
    "wwii_tool = QueryEngineTool(\n",
    "    index.as_query_engine(),\n",
    "    metadata=ToolMetadata(\n",
    "        name=\"wwii_search\",\n",
    "        description=\"Useful for searching over WWII related information.\",\n",
    "    ),\n",
    ")\n",
    "\n",
    "query_engine_tools = [bayes_tool, wwii_tool]"
   ],
   "id": "f6d0d29687c17506",
   "outputs": [],
   "execution_count": 24
  },
  {
   "metadata": {
    "ExecuteTime": {
     "end_time": "2024-12-17T19:41:56.766763Z",
     "start_time": "2024-12-10T22:42:12.344996Z"
    }
   },
   "cell_type": "code",
   "source": [
    "agent = ReActAgent.from_tools(\n",
    "    query_engine_tools,  ## TODO: define query tools\n",
    "    llm=llm_70b,\n",
    "    verbose=True,\n",
    ")"
   ],
   "id": "9e71e20e92951b5e",
   "outputs": [],
   "execution_count": 25
  },
  {
   "metadata": {
    "ExecuteTime": {
     "end_time": "2024-12-17T19:41:56.766802Z",
     "start_time": "2024-12-10T22:42:13.735028Z"
    }
   },
   "cell_type": "code",
   "source": [
    "response = agent.chat(\"Tell me about Thomas Bayse early work on theology\"\n",
    "\" and how this is related to Bayes theorem\")\n",
    "print(str(response))"
   ],
   "id": "7a90861e8e821951",
   "outputs": [
    {
     "name": "stdout",
     "output_type": "stream",
     "text": [
      "> Running step 13791f58-f35b-4d92-8930-302e4e5acb80. Step input: Tell me about Thomas Bayse early work on theology and how this is related to Bayes theorem\n",
      "\u001B[1;3;38;5;200mThought: The current language of the user is: English. I need to use a tool to help me answer the question about Thomas Bayes' early work on theology and its relation to Bayes' theorem.\n",
      "Action: bayes_search\n",
      "Action Input: {'input': 'Thomas Bayes early work theology Bayes theorem'}\n",
      "\u001B[0m\u001B[1;3;34mObservation: Thomas Bayes' early work in theology was focused on reconciling the presence of evil with God's presumed beneficence. He wrote a pamphlet in 1731 declaring that God gives people \"the greatest happiness of which they are capable.\"\n",
      "\u001B[0m> Running step f2b9e531-aeb5-4835-a1d6-2b7a09258263. Step input: None\n",
      "\u001B[1;3;38;5;200mThought: I have some information about Thomas Bayes' early work in theology, but I need more information about how this is related to Bayes' theorem. I'll use the tool again to find more information.\n",
      "Action: bayes_search\n",
      "Action Input: {'input': 'Thomas Bayes theology Bayes theorem connection'}\n",
      "\u001B[0m\u001B[1;3;34mObservation: The Reverend Thomas Bayes is often imitated by Bayesians, who consider him their spiritual guide and leader.\n",
      "\u001B[0m> Running step 872fda68-ef42-4457-bc13-5740491fd80f. Step input: None\n",
      "\u001B[1;3;38;5;200mThought: I still don't have enough information about the connection between Thomas Bayes' early work in theology and Bayes' theorem. I'll try again with a different query.\n",
      "Action: bayes_search\n",
      "Action Input: {'input': 'Thomas Bayes theology influence on Bayes theorem'}\n",
      "\u001B[0m\u001B[1;3;34mObservation: The Reverend Thomas Bayes' theology had a profound influence on his development of Bayes' theorem.\n",
      "\u001B[0m> Running step 9ae666b7-a429-4c0d-bb4a-1f3efcc3f6a2. Step input: None\n",
      "\u001B[1;3;38;5;200mThought: I finally have enough information to answer the question about the connection between Thomas Bayes' early work in theology and Bayes' theorem.\n",
      "Answer: Thomas Bayes' early work in theology, particularly his efforts to reconcile the presence of evil with God's presumed beneficence, had a profound influence on his development of Bayes' theorem.\n",
      "\u001B[0mThomas Bayes' early work in theology, particularly his efforts to reconcile the presence of evil with God's presumed beneficence, had a profound influence on his development of Bayes' theorem.\n"
     ]
    }
   ],
   "execution_count": 26
  },
  {
   "metadata": {
    "ExecuteTime": {
     "end_time": "2024-12-17T19:41:56.766839Z",
     "start_time": "2024-12-10T22:42:23.915575Z"
    }
   },
   "cell_type": "code",
   "source": "pprint(response)",
   "id": "c9d4ab8243c1771e",
   "outputs": [
    {
     "name": "stdout",
     "output_type": "stream",
     "text": [
      "AgentChatResponse(response=\"Thomas Bayes' early work in theology, particularly \"\n",
      "                           'his efforts to reconcile the presence of evil with '\n",
      "                           \"God's presumed beneficence, had a profound \"\n",
      "                           \"influence on his development of Bayes' theorem.\",\n",
      "                  sources=[ToolOutput(content='Thomas Bayes\\' early work in theology was focused on reconciling the presence of evil with God\\'s presumed beneficence. He wrote a pamphlet in 1731 declaring that God gives people \"the greatest happiness of which they are capable.\"', tool_name='bayes_search', raw_input={'input': 'Thomas Bayes early work theology Bayes theorem'}, raw_output=Response(response='Thomas Bayes\\' early work in theology was focused on reconciling the presence of evil with God\\'s presumed beneficence. He wrote a pamphlet in 1731 declaring that God gives people \"the greatest happiness of which they are capable.\"', source_nodes=[NodeWithScore(node=TextNode(id_='23e6db80-afbd-498a-b795-49bf454d658c', embedding=None, metadata={'page_label': '284', 'file_name': 'The Theory That Would Not Die How Bayes Rule Cracked the Enigma Code Hunted Down Russian Submarines and Emerged Triumphant from Two Centuries of Controversy by Sharon Bertsch McGrayne.pdf', 'file_path': 'upload/The Theory That Would Not Die How Bayes Rule Cracked the Enigma Code Hunted Down Russian Submarines and Emerged Triumphant from Two Centuries of Controversy by Sharon Bertsch McGrayne.pdf', 'file_type': 'application/pdf', 'file_size': 2592963, 'creation_date': '2024-12-10', 'last_modified_date': '2024-12-10'}, excluded_embed_metadata_keys=['file_name', 'file_type', 'file_size', 'creation_date', 'last_modified_date', 'last_accessed_date'], excluded_llm_metadata_keys=['file_name', 'file_type', 'file_size', 'creation_date', 'last_modified_date', 'last_accessed_date'], relationships={<NodeRelationship.SOURCE: '1'>: RelatedNodeInfo(node_id='a5b085d9-9b76-411f-90de-4805abfcb2ac', node_type=<ObjectType.DOCUMENT: '4'>, metadata={'page_label': '284', 'file_name': 'The Theory That Would Not Die How Bayes Rule Cracked the Enigma Code Hunted Down Russian Submarines and Emerged Triumphant from Two Centuries of Controversy by Sharon Bertsch McGrayne.pdf', 'file_path': 'upload/The Theory That Would Not Die How Bayes Rule Cracked the Enigma Code Hunted Down Russian Submarines and Emerged Triumphant from Two Centuries of Controversy by Sharon Bertsch McGrayne.pdf', 'file_type': 'application/pdf', 'file_size': 2592963, 'creation_date': '2024-12-10', 'last_modified_date': '2024-12-10'}, hash='8abed1ff82042bc705c72a0d86160ea669f85f6d5be8f95ec69b5c672253c9f4')}, text='dr fisher’s casebook: the doctor sees the\\nlight\\n \\nby michael j. campbell\\n \\nAs one gets older one’s thoughts turn naturally to religion and I have been\\npondering the religious metaphors in statistics. Clearly the frequentists are\\nmetaphorical Catholics; dividing results into “significant” and\\n“nonsignificant” instead of dividing sins into “mortal” (i.e. significant) and\\nvenial. Randomisation is the grace that saves the world. In confession the\\npriest is interested in the frequency with which one committed a sin (I can\\nimagine passing the priest a bar-chart of how many times I swore, or was\\nuncharitable, rather than giving him a verbal list—so much more\\ninformative!) After confession frequentists/Catholics are forgiven and so,\\nhaving rejected a null hypothesis at p < 0.05, once it is published they are\\nfree to use 0.05 as the limit again. The frequentist prayer is “Our Fisher, who\\nart in Heaven”. Their saints are Pearson and Neyman. Instead of Heaven and\\nHell they have the Null and Alternative hypotheses, and in their Creed\\ninstead of “Do you reject Satan?” they have “Do you reject the null\\nhypothesis?”.\\nOn the other hand Bayesians are born-again fundamentalists. One must be\\na “believer” and Bayesians can often pinpoint the day when Bayes came into\\ntheir lives, when they droppe d these childish frequentist ways (or even\\n“came out”). Clearly the Reverend Thomas Bayes is their spiritual guide and\\nleader, and he even imitated the Christian God by not publishing in his own\\nlifetime (mind you, I have heard non-Bayesians wish that some of his\\nfollowers had done likewise). Bayesians divide the world into people who\\nbelieve and those who do not and will ask complete strangers at statistics\\nconferences “are you a Bayesian?” as if it were an important defining\\ncharacteristic. On finding a non-Bayesian, they will express amazement at the\\nthings the nonBayesian does, point out the certainties of their own beliefs and\\nattempt to convert the non-believer.', mimetype='text/plain', start_char_idx=0, end_char_idx=1973, text_template='{metadata_str}\\n\\n{content}', metadata_template='{key}: {value}', metadata_seperator='\\n'), score=0.8190723564090614), NodeWithScore(node=TextNode(id_='b5445738-7972-40e8-97bb-46a86ac78267', embedding=None, metadata={'page_label': '21', 'file_name': 'The Theory That Would Not Die How Bayes Rule Cracked the Enigma Code Hunted Down Russian Submarines and Emerged Triumphant from Two Centuries of Controversy by Sharon Bertsch McGrayne.pdf', 'file_path': 'upload/The Theory That Would Not Die How Bayes Rule Cracked the Enigma Code Hunted Down Russian Submarines and Emerged Triumphant from Two Centuries of Controversy by Sharon Bertsch McGrayne.pdf', 'file_type': 'application/pdf', 'file_size': 2592963, 'creation_date': '2024-12-10', 'last_modified_date': '2024-12-10'}, excluded_embed_metadata_keys=['file_name', 'file_type', 'file_size', 'creation_date', 'last_modified_date', 'last_accessed_date'], excluded_llm_metadata_keys=['file_name', 'file_type', 'file_size', 'creation_date', 'last_modified_date', 'last_accessed_date'], relationships={<NodeRelationship.SOURCE: '1'>: RelatedNodeInfo(node_id='fd3e4536-422a-4b9e-b90c-1cd881d0d959', node_type=<ObjectType.DOCUMENT: '4'>, metadata={'page_label': '21', 'file_name': 'The Theory That Would Not Die How Bayes Rule Cracked the Enigma Code Hunted Down Russian Submarines and Emerged Triumphant from Two Centuries of Controversy by Sharon Bertsch McGrayne.pdf', 'file_path': 'upload/The Theory That Would Not Die How Bayes Rule Cracked the Enigma Code Hunted Down Russian Submarines and Emerged Triumphant from Two Centuries of Controversy by Sharon Bertsch McGrayne.pdf', 'file_type': 'application/pdf', 'file_size': 2592963, 'creation_date': '2024-12-10', 'last_modified_date': '2024-12-10'}, hash='763a0b9bca31e6e28fbb5c12b737d17027527660d1a4e34db90e4a87bf90fbd6')}, text='Church, a religious denomination persecuted for refusing to support the\\nChurch of England, he was considered a Dissenter or Non-Conformist.\\nDuring his grandfather’s generation, 2,000 Dissenters died in English\\nprisons. By Bayes’ time, mathematics was split along religious and political\\nlines, and many productive mathematicians were amateurs because, as\\nDissenters, they were barred from English universities.1\\nUnable to earn a degree in England, Bayes studied theology and\\npresumably mathematics at the University of Edinburgh in Presbyterian\\nScotland, where, happily for him, academic standards were much more\\nrigorous. In 1711 he left for London, where his clergyman father ordained\\nhim and apparently employed him as an assistant minister.\\nPersecution turned many English Dissenters into feisty critics, and in his\\nlate 20s Bayes took a stand on a hot theological issue: can the presence of\\nevil be reconciled with God’s presumed beneficence? In 1731  he wrote a\\npamphlet—a kind of blog—de claring that God gives people “the greatest\\nhappiness of which they are capable.”\\nDuring his 40s, Bayes’ interests in mathematics and theology began to\\ntightly intertwine. An Irish-Anglican bishop—G eorge Berkeley, for whom\\nthe University of California’s flagship campus is named—pu blished an\\ninflammatory pamphlet attacking Dissenting mathematicians, calculus,\\nabstract mathematics, the revered Isaac Newton, and all other “free-thinkers”\\nand “infidel mathematicians” who believed that reason could illuminate any\\nsubject. Berkeley’s pamphlet was the most spectacular event in British\\nmathematics during the 1700s .\\nLeaping into the pamphlet wars again, Bayes published a piece defending\\nand explaining Newton’s calculus. This was his only mathematical\\npublication during his lifetime. Shortly thereafter, in 1742,  five men,\\nincluding a close friend of Newton’s, nominated Bayes for membership in the\\nRoyal Society. His nomination avoided any hint of controversy and described\\nhim as “a Gentleman of known merit, well skilled in Geometry and all parts\\nof Mathematical and Philosophical Learning.” The Royal Society was not the\\nprofessional organization it is today; it was a private organization of dues-\\npaying amateurs from the landed gentry. But it played a vital role because\\namateurs would produce some of the era’s breakthroughs.\\nAbout this time Bayes joined a second group of up-to-date amateur\\nmathematicians. He had moved to a small congregation in a fashionable\\nresort, the cold-water spa Tunbridge Wells. As an independently wealthy', mimetype='text/plain', start_char_idx=0, end_char_idx=2541, text_template='{metadata_str}\\n\\n{content}', metadata_template='{key}: {value}', metadata_seperator='\\n'), score=0.8064230923507557)], metadata={'23e6db80-afbd-498a-b795-49bf454d658c': {'page_label': '284', 'file_name': 'The Theory That Would Not Die How Bayes Rule Cracked the Enigma Code Hunted Down Russian Submarines and Emerged Triumphant from Two Centuries of Controversy by Sharon Bertsch McGrayne.pdf', 'file_path': 'upload/The Theory That Would Not Die How Bayes Rule Cracked the Enigma Code Hunted Down Russian Submarines and Emerged Triumphant from Two Centuries of Controversy by Sharon Bertsch McGrayne.pdf', 'file_type': 'application/pdf', 'file_size': 2592963, 'creation_date': '2024-12-10', 'last_modified_date': '2024-12-10'}, 'b5445738-7972-40e8-97bb-46a86ac78267': {'page_label': '21', 'file_name': 'The Theory That Would Not Die How Bayes Rule Cracked the Enigma Code Hunted Down Russian Submarines and Emerged Triumphant from Two Centuries of Controversy by Sharon Bertsch McGrayne.pdf', 'file_path': 'upload/The Theory That Would Not Die How Bayes Rule Cracked the Enigma Code Hunted Down Russian Submarines and Emerged Triumphant from Two Centuries of Controversy by Sharon Bertsch McGrayne.pdf', 'file_type': 'application/pdf', 'file_size': 2592963, 'creation_date': '2024-12-10', 'last_modified_date': '2024-12-10'}}), is_error=False),\n",
      "                           ToolOutput(content='The Reverend Thomas Bayes is often imitated by Bayesians, who consider him their spiritual guide and leader.', tool_name='bayes_search', raw_input={'input': 'Thomas Bayes theology Bayes theorem connection'}, raw_output=Response(response='The Reverend Thomas Bayes is often imitated by Bayesians, who consider him their spiritual guide and leader.', source_nodes=[NodeWithScore(node=TextNode(id_='23e6db80-afbd-498a-b795-49bf454d658c', embedding=None, metadata={'page_label': '284', 'file_name': 'The Theory That Would Not Die How Bayes Rule Cracked the Enigma Code Hunted Down Russian Submarines and Emerged Triumphant from Two Centuries of Controversy by Sharon Bertsch McGrayne.pdf', 'file_path': 'upload/The Theory That Would Not Die How Bayes Rule Cracked the Enigma Code Hunted Down Russian Submarines and Emerged Triumphant from Two Centuries of Controversy by Sharon Bertsch McGrayne.pdf', 'file_type': 'application/pdf', 'file_size': 2592963, 'creation_date': '2024-12-10', 'last_modified_date': '2024-12-10'}, excluded_embed_metadata_keys=['file_name', 'file_type', 'file_size', 'creation_date', 'last_modified_date', 'last_accessed_date'], excluded_llm_metadata_keys=['file_name', 'file_type', 'file_size', 'creation_date', 'last_modified_date', 'last_accessed_date'], relationships={<NodeRelationship.SOURCE: '1'>: RelatedNodeInfo(node_id='a5b085d9-9b76-411f-90de-4805abfcb2ac', node_type=<ObjectType.DOCUMENT: '4'>, metadata={'page_label': '284', 'file_name': 'The Theory That Would Not Die How Bayes Rule Cracked the Enigma Code Hunted Down Russian Submarines and Emerged Triumphant from Two Centuries of Controversy by Sharon Bertsch McGrayne.pdf', 'file_path': 'upload/The Theory That Would Not Die How Bayes Rule Cracked the Enigma Code Hunted Down Russian Submarines and Emerged Triumphant from Two Centuries of Controversy by Sharon Bertsch McGrayne.pdf', 'file_type': 'application/pdf', 'file_size': 2592963, 'creation_date': '2024-12-10', 'last_modified_date': '2024-12-10'}, hash='8abed1ff82042bc705c72a0d86160ea669f85f6d5be8f95ec69b5c672253c9f4')}, text='dr fisher’s casebook: the doctor sees the\\nlight\\n \\nby michael j. campbell\\n \\nAs one gets older one’s thoughts turn naturally to religion and I have been\\npondering the religious metaphors in statistics. Clearly the frequentists are\\nmetaphorical Catholics; dividing results into “significant” and\\n“nonsignificant” instead of dividing sins into “mortal” (i.e. significant) and\\nvenial. Randomisation is the grace that saves the world. In confession the\\npriest is interested in the frequency with which one committed a sin (I can\\nimagine passing the priest a bar-chart of how many times I swore, or was\\nuncharitable, rather than giving him a verbal list—so much more\\ninformative!) After confession frequentists/Catholics are forgiven and so,\\nhaving rejected a null hypothesis at p < 0.05, once it is published they are\\nfree to use 0.05 as the limit again. The frequentist prayer is “Our Fisher, who\\nart in Heaven”. Their saints are Pearson and Neyman. Instead of Heaven and\\nHell they have the Null and Alternative hypotheses, and in their Creed\\ninstead of “Do you reject Satan?” they have “Do you reject the null\\nhypothesis?”.\\nOn the other hand Bayesians are born-again fundamentalists. One must be\\na “believer” and Bayesians can often pinpoint the day when Bayes came into\\ntheir lives, when they droppe d these childish frequentist ways (or even\\n“came out”). Clearly the Reverend Thomas Bayes is their spiritual guide and\\nleader, and he even imitated the Christian God by not publishing in his own\\nlifetime (mind you, I have heard non-Bayesians wish that some of his\\nfollowers had done likewise). Bayesians divide the world into people who\\nbelieve and those who do not and will ask complete strangers at statistics\\nconferences “are you a Bayesian?” as if it were an important defining\\ncharacteristic. On finding a non-Bayesian, they will express amazement at the\\nthings the nonBayesian does, point out the certainties of their own beliefs and\\nattempt to convert the non-believer.', mimetype='text/plain', start_char_idx=0, end_char_idx=1973, text_template='{metadata_str}\\n\\n{content}', metadata_template='{key}: {value}', metadata_seperator='\\n'), score=0.8124452986066439), NodeWithScore(node=TextNode(id_='6cd34530-95f5-40d9-a90b-c14b96c58161', embedding=None, metadata={'page_label': '285', 'file_name': 'The Theory That Would Not Die How Bayes Rule Cracked the Enigma Code Hunted Down Russian Submarines and Emerged Triumphant from Two Centuries of Controversy by Sharon Bertsch McGrayne.pdf', 'file_path': 'upload/The Theory That Would Not Die How Bayes Rule Cracked the Enigma Code Hunted Down Russian Submarines and Emerged Triumphant from Two Centuries of Controversy by Sharon Bertsch McGrayne.pdf', 'file_type': 'application/pdf', 'file_size': 2592963, 'creation_date': '2024-12-10', 'last_modified_date': '2024-12-10'}, excluded_embed_metadata_keys=['file_name', 'file_type', 'file_size', 'creation_date', 'last_modified_date', 'last_accessed_date'], excluded_llm_metadata_keys=['file_name', 'file_type', 'file_size', 'creation_date', 'last_modified_date', 'last_accessed_date'], relationships={<NodeRelationship.SOURCE: '1'>: RelatedNodeInfo(node_id='e1727d0e-ccc1-4110-8e99-54c474809bc1', node_type=<ObjectType.DOCUMENT: '4'>, metadata={'page_label': '285', 'file_name': 'The Theory That Would Not Die How Bayes Rule Cracked the Enigma Code Hunted Down Russian Submarines and Emerged Triumphant from Two Centuries of Controversy by Sharon Bertsch McGrayne.pdf', 'file_path': 'upload/The Theory That Would Not Die How Bayes Rule Cracked the Enigma Code Hunted Down Russian Submarines and Emerged Triumphant from Two Centuries of Controversy by Sharon Bertsch McGrayne.pdf', 'file_type': 'application/pdf', 'file_size': 2592963, 'creation_date': '2024-12-10', 'last_modified_date': '2024-12-10'}, hash='90ea2c0fd2aae86333bd3b2e9217f944014e3ff9cff209c28a0f35700674624d')}, text='Then there are the sects. The agnostics are those who think that\\nnonparametric statistics are the answer to everything. Similarly the\\nbootstrappers cannot see why you need to bring God into it at all. There is\\nthe “bell-curve” cult, who think everything can be explained by reference to\\nthe Normal distribution. The simulators think God is purely a human\\ninvention.\\nWhere do I put myself? Well, in typically woolly English fashion, I regard\\nmyself as Anglican. I believe in statistics as a way of finding the truth and am\\nhappy to adopt whatever means will help me to get there. I can see dangers in\\nextremism in either direction and so try to steer a “middle way”. I still use p-\\nvalues and confidence intervals but temper them with prior beliefs. I like the\\nidea of “empirical Bayes” where one uses earlier studies to inform one’s\\npriors. I can see the advantages of Bayesian methods for modelling complex\\nsystems and attaching uncertainty to parameters and think that in many ways it\\nreflects scientific inference better. However, I prefer simply to call myself a\\nbeliever, and not to attach labels to these beliefs.\\nTalking of religion, I am reminded of a strip of cartoons about Bayesians\\nthat appeared some time ago. They showed a series of monks. One was\\nlooking lost, one was dressed as a soldier, one was holding a guide book  and\\none had his tongue stuck out. They were, respectively, a vague prior, a\\nuniform prior, an informative prior and, of course, an improper prior . . .', mimetype='text/plain', start_char_idx=0, end_char_idx=1487, text_template='{metadata_str}\\n\\n{content}', metadata_template='{key}: {value}', metadata_seperator='\\n'), score=0.7928863400050026)], metadata={'23e6db80-afbd-498a-b795-49bf454d658c': {'page_label': '284', 'file_name': 'The Theory That Would Not Die How Bayes Rule Cracked the Enigma Code Hunted Down Russian Submarines and Emerged Triumphant from Two Centuries of Controversy by Sharon Bertsch McGrayne.pdf', 'file_path': 'upload/The Theory That Would Not Die How Bayes Rule Cracked the Enigma Code Hunted Down Russian Submarines and Emerged Triumphant from Two Centuries of Controversy by Sharon Bertsch McGrayne.pdf', 'file_type': 'application/pdf', 'file_size': 2592963, 'creation_date': '2024-12-10', 'last_modified_date': '2024-12-10'}, '6cd34530-95f5-40d9-a90b-c14b96c58161': {'page_label': '285', 'file_name': 'The Theory That Would Not Die How Bayes Rule Cracked the Enigma Code Hunted Down Russian Submarines and Emerged Triumphant from Two Centuries of Controversy by Sharon Bertsch McGrayne.pdf', 'file_path': 'upload/The Theory That Would Not Die How Bayes Rule Cracked the Enigma Code Hunted Down Russian Submarines and Emerged Triumphant from Two Centuries of Controversy by Sharon Bertsch McGrayne.pdf', 'file_type': 'application/pdf', 'file_size': 2592963, 'creation_date': '2024-12-10', 'last_modified_date': '2024-12-10'}}), is_error=False),\n",
      "                           ToolOutput(content=\"The Reverend Thomas Bayes' theology had a profound influence on his development of Bayes' theorem.\", tool_name='bayes_search', raw_input={'input': 'Thomas Bayes theology influence on Bayes theorem'}, raw_output=Response(response=\"The Reverend Thomas Bayes' theology had a profound influence on his development of Bayes' theorem.\", source_nodes=[NodeWithScore(node=TextNode(id_='23e6db80-afbd-498a-b795-49bf454d658c', embedding=None, metadata={'page_label': '284', 'file_name': 'The Theory That Would Not Die How Bayes Rule Cracked the Enigma Code Hunted Down Russian Submarines and Emerged Triumphant from Two Centuries of Controversy by Sharon Bertsch McGrayne.pdf', 'file_path': 'upload/The Theory That Would Not Die How Bayes Rule Cracked the Enigma Code Hunted Down Russian Submarines and Emerged Triumphant from Two Centuries of Controversy by Sharon Bertsch McGrayne.pdf', 'file_type': 'application/pdf', 'file_size': 2592963, 'creation_date': '2024-12-10', 'last_modified_date': '2024-12-10'}, excluded_embed_metadata_keys=['file_name', 'file_type', 'file_size', 'creation_date', 'last_modified_date', 'last_accessed_date'], excluded_llm_metadata_keys=['file_name', 'file_type', 'file_size', 'creation_date', 'last_modified_date', 'last_accessed_date'], relationships={<NodeRelationship.SOURCE: '1'>: RelatedNodeInfo(node_id='a5b085d9-9b76-411f-90de-4805abfcb2ac', node_type=<ObjectType.DOCUMENT: '4'>, metadata={'page_label': '284', 'file_name': 'The Theory That Would Not Die How Bayes Rule Cracked the Enigma Code Hunted Down Russian Submarines and Emerged Triumphant from Two Centuries of Controversy by Sharon Bertsch McGrayne.pdf', 'file_path': 'upload/The Theory That Would Not Die How Bayes Rule Cracked the Enigma Code Hunted Down Russian Submarines and Emerged Triumphant from Two Centuries of Controversy by Sharon Bertsch McGrayne.pdf', 'file_type': 'application/pdf', 'file_size': 2592963, 'creation_date': '2024-12-10', 'last_modified_date': '2024-12-10'}, hash='8abed1ff82042bc705c72a0d86160ea669f85f6d5be8f95ec69b5c672253c9f4')}, text='dr fisher’s casebook: the doctor sees the\\nlight\\n \\nby michael j. campbell\\n \\nAs one gets older one’s thoughts turn naturally to religion and I have been\\npondering the religious metaphors in statistics. Clearly the frequentists are\\nmetaphorical Catholics; dividing results into “significant” and\\n“nonsignificant” instead of dividing sins into “mortal” (i.e. significant) and\\nvenial. Randomisation is the grace that saves the world. In confession the\\npriest is interested in the frequency with which one committed a sin (I can\\nimagine passing the priest a bar-chart of how many times I swore, or was\\nuncharitable, rather than giving him a verbal list—so much more\\ninformative!) After confession frequentists/Catholics are forgiven and so,\\nhaving rejected a null hypothesis at p < 0.05, once it is published they are\\nfree to use 0.05 as the limit again. The frequentist prayer is “Our Fisher, who\\nart in Heaven”. Their saints are Pearson and Neyman. Instead of Heaven and\\nHell they have the Null and Alternative hypotheses, and in their Creed\\ninstead of “Do you reject Satan?” they have “Do you reject the null\\nhypothesis?”.\\nOn the other hand Bayesians are born-again fundamentalists. One must be\\na “believer” and Bayesians can often pinpoint the day when Bayes came into\\ntheir lives, when they droppe d these childish frequentist ways (or even\\n“came out”). Clearly the Reverend Thomas Bayes is their spiritual guide and\\nleader, and he even imitated the Christian God by not publishing in his own\\nlifetime (mind you, I have heard non-Bayesians wish that some of his\\nfollowers had done likewise). Bayesians divide the world into people who\\nbelieve and those who do not and will ask complete strangers at statistics\\nconferences “are you a Bayesian?” as if it were an important defining\\ncharacteristic. On finding a non-Bayesian, they will express amazement at the\\nthings the nonBayesian does, point out the certainties of their own beliefs and\\nattempt to convert the non-believer.', mimetype='text/plain', start_char_idx=0, end_char_idx=1973, text_template='{metadata_str}\\n\\n{content}', metadata_template='{key}: {value}', metadata_seperator='\\n'), score=0.8320055690784002), NodeWithScore(node=TextNode(id_='21d0539b-6159-4cb2-9596-e62c2bbf4bc7', embedding=None, metadata={'page_label': '12', 'file_name': 'The Theory That Would Not Die How Bayes Rule Cracked the Enigma Code Hunted Down Russian Submarines and Emerged Triumphant from Two Centuries of Controversy by Sharon Bertsch McGrayne.pdf', 'file_path': 'upload/The Theory That Would Not Die How Bayes Rule Cracked the Enigma Code Hunted Down Russian Submarines and Emerged Triumphant from Two Centuries of Controversy by Sharon Bertsch McGrayne.pdf', 'file_type': 'application/pdf', 'file_size': 2592963, 'creation_date': '2024-12-10', 'last_modified_date': '2024-12-10'}, excluded_embed_metadata_keys=['file_name', 'file_type', 'file_size', 'creation_date', 'last_modified_date', 'last_accessed_date'], excluded_llm_metadata_keys=['file_name', 'file_type', 'file_size', 'creation_date', 'last_modified_date', 'last_accessed_date'], relationships={<NodeRelationship.SOURCE: '1'>: RelatedNodeInfo(node_id='2aade73d-1967-43b8-90be-7f05ad9594ad', node_type=<ObjectType.DOCUMENT: '4'>, metadata={'page_label': '12', 'file_name': 'The Theory That Would Not Die How Bayes Rule Cracked the Enigma Code Hunted Down Russian Submarines and Emerged Triumphant from Two Centuries of Controversy by Sharon Bertsch McGrayne.pdf', 'file_path': 'upload/The Theory That Would Not Die How Bayes Rule Cracked the Enigma Code Hunted Down Russian Submarines and Emerged Triumphant from Two Centuries of Controversy by Sharon Bertsch McGrayne.pdf', 'file_type': 'application/pdf', 'file_size': 2592963, 'creation_date': '2024-12-10', 'last_modified_date': '2024-12-10'}, hash='7af6f167a327b24771b4792830340c271fdeb4e82c27cb40180c2c5b86f71577')}, text='preface and note to readers\\n \\nIn a celebrated example of science gone awry, geologists accumulated the\\nevidence for Continental Drift in 1912 and then spent 50 years arguing that\\ncontinents cannot move.\\nThe scientific battle over Bayes’ rule is less well known but lasted far\\nlonger, for 150 years. It concerned a broader and more fundamental issue:\\nhow we analyze evidence, change our minds as we get new information, and\\nmake rational decisions in the face of uncertainty. And it was not resolved\\nuntil the dawn of the twenty-first century.\\nOn its face Bayes’ rule is a simple, one-line theorem: by updating our\\ninitial belief about something with objective new information, we get a new\\nand improved belief. To its adherents, this is an elegant statement about\\nlearning from experience. Generations of converts remember experiencing an\\nalmost religious epiphany as they fell under the spell of its inner logic.\\nOppon ents, meanwhile, regarded Bayes’ rule as subjectivity run amok.\\nBayes’ rule began life amid an inflammatory religious controversy in\\nEngland in the 1740s : can we make rational conclusions about God based on\\nevidence about the world around us? An amateur mathematician, the\\nReverend Thomas Bayes, discovered the rule, and we celebrate him today as\\nthe iconic father of mathematical decision making. Yet Bayes consigned his\\ndiscovery to oblivion. In his time, he was a minor figure. And we know\\nabout his work today only because of his friend and editor Richard Price, an\\nalmost forgotten hero of the American Revolution.\\nBy rights, Bayes’ rule should be named for someone else: a Frenchman,\\nPierre Simon Laplace, one of the most powerful mathematicians and\\nscientists in history. To deal with an unprecedented torrent of data, Laplace\\ndiscovered the rule on his own in 1774. Over the next forty years he\\ndeveloped it into the form we use today. Applying his method, he concluded\\nthat a well-established fact—more boys are born than girls—was almost', mimetype='text/plain', start_char_idx=0, end_char_idx=1968, text_template='{metadata_str}\\n\\n{content}', metadata_template='{key}: {value}', metadata_seperator='\\n'), score=0.8207268415014435)], metadata={'23e6db80-afbd-498a-b795-49bf454d658c': {'page_label': '284', 'file_name': 'The Theory That Would Not Die How Bayes Rule Cracked the Enigma Code Hunted Down Russian Submarines and Emerged Triumphant from Two Centuries of Controversy by Sharon Bertsch McGrayne.pdf', 'file_path': 'upload/The Theory That Would Not Die How Bayes Rule Cracked the Enigma Code Hunted Down Russian Submarines and Emerged Triumphant from Two Centuries of Controversy by Sharon Bertsch McGrayne.pdf', 'file_type': 'application/pdf', 'file_size': 2592963, 'creation_date': '2024-12-10', 'last_modified_date': '2024-12-10'}, '21d0539b-6159-4cb2-9596-e62c2bbf4bc7': {'page_label': '12', 'file_name': 'The Theory That Would Not Die How Bayes Rule Cracked the Enigma Code Hunted Down Russian Submarines and Emerged Triumphant from Two Centuries of Controversy by Sharon Bertsch McGrayne.pdf', 'file_path': 'upload/The Theory That Would Not Die How Bayes Rule Cracked the Enigma Code Hunted Down Russian Submarines and Emerged Triumphant from Two Centuries of Controversy by Sharon Bertsch McGrayne.pdf', 'file_type': 'application/pdf', 'file_size': 2592963, 'creation_date': '2024-12-10', 'last_modified_date': '2024-12-10'}}), is_error=False)],\n",
      "                  source_nodes=[NodeWithScore(node=TextNode(id_='23e6db80-afbd-498a-b795-49bf454d658c', embedding=None, metadata={'page_label': '284', 'file_name': 'The Theory That Would Not Die How Bayes Rule Cracked the Enigma Code Hunted Down Russian Submarines and Emerged Triumphant from Two Centuries of Controversy by Sharon Bertsch McGrayne.pdf', 'file_path': 'upload/The Theory That Would Not Die How Bayes Rule Cracked the Enigma Code Hunted Down Russian Submarines and Emerged Triumphant from Two Centuries of Controversy by Sharon Bertsch McGrayne.pdf', 'file_type': 'application/pdf', 'file_size': 2592963, 'creation_date': '2024-12-10', 'last_modified_date': '2024-12-10'}, excluded_embed_metadata_keys=['file_name', 'file_type', 'file_size', 'creation_date', 'last_modified_date', 'last_accessed_date'], excluded_llm_metadata_keys=['file_name', 'file_type', 'file_size', 'creation_date', 'last_modified_date', 'last_accessed_date'], relationships={<NodeRelationship.SOURCE: '1'>: RelatedNodeInfo(node_id='a5b085d9-9b76-411f-90de-4805abfcb2ac', node_type=<ObjectType.DOCUMENT: '4'>, metadata={'page_label': '284', 'file_name': 'The Theory That Would Not Die How Bayes Rule Cracked the Enigma Code Hunted Down Russian Submarines and Emerged Triumphant from Two Centuries of Controversy by Sharon Bertsch McGrayne.pdf', 'file_path': 'upload/The Theory That Would Not Die How Bayes Rule Cracked the Enigma Code Hunted Down Russian Submarines and Emerged Triumphant from Two Centuries of Controversy by Sharon Bertsch McGrayne.pdf', 'file_type': 'application/pdf', 'file_size': 2592963, 'creation_date': '2024-12-10', 'last_modified_date': '2024-12-10'}, hash='8abed1ff82042bc705c72a0d86160ea669f85f6d5be8f95ec69b5c672253c9f4')}, text='dr fisher’s casebook: the doctor sees the\\nlight\\n \\nby michael j. campbell\\n \\nAs one gets older one’s thoughts turn naturally to religion and I have been\\npondering the religious metaphors in statistics. Clearly the frequentists are\\nmetaphorical Catholics; dividing results into “significant” and\\n“nonsignificant” instead of dividing sins into “mortal” (i.e. significant) and\\nvenial. Randomisation is the grace that saves the world. In confession the\\npriest is interested in the frequency with which one committed a sin (I can\\nimagine passing the priest a bar-chart of how many times I swore, or was\\nuncharitable, rather than giving him a verbal list—so much more\\ninformative!) After confession frequentists/Catholics are forgiven and so,\\nhaving rejected a null hypothesis at p < 0.05, once it is published they are\\nfree to use 0.05 as the limit again. The frequentist prayer is “Our Fisher, who\\nart in Heaven”. Their saints are Pearson and Neyman. Instead of Heaven and\\nHell they have the Null and Alternative hypotheses, and in their Creed\\ninstead of “Do you reject Satan?” they have “Do you reject the null\\nhypothesis?”.\\nOn the other hand Bayesians are born-again fundamentalists. One must be\\na “believer” and Bayesians can often pinpoint the day when Bayes came into\\ntheir lives, when they droppe d these childish frequentist ways (or even\\n“came out”). Clearly the Reverend Thomas Bayes is their spiritual guide and\\nleader, and he even imitated the Christian God by not publishing in his own\\nlifetime (mind you, I have heard non-Bayesians wish that some of his\\nfollowers had done likewise). Bayesians divide the world into people who\\nbelieve and those who do not and will ask complete strangers at statistics\\nconferences “are you a Bayesian?” as if it were an important defining\\ncharacteristic. On finding a non-Bayesian, they will express amazement at the\\nthings the nonBayesian does, point out the certainties of their own beliefs and\\nattempt to convert the non-believer.', mimetype='text/plain', start_char_idx=0, end_char_idx=1973, text_template='{metadata_str}\\n\\n{content}', metadata_template='{key}: {value}', metadata_seperator='\\n'), score=0.8190723564090614),\n",
      "                                NodeWithScore(node=TextNode(id_='b5445738-7972-40e8-97bb-46a86ac78267', embedding=None, metadata={'page_label': '21', 'file_name': 'The Theory That Would Not Die How Bayes Rule Cracked the Enigma Code Hunted Down Russian Submarines and Emerged Triumphant from Two Centuries of Controversy by Sharon Bertsch McGrayne.pdf', 'file_path': 'upload/The Theory That Would Not Die How Bayes Rule Cracked the Enigma Code Hunted Down Russian Submarines and Emerged Triumphant from Two Centuries of Controversy by Sharon Bertsch McGrayne.pdf', 'file_type': 'application/pdf', 'file_size': 2592963, 'creation_date': '2024-12-10', 'last_modified_date': '2024-12-10'}, excluded_embed_metadata_keys=['file_name', 'file_type', 'file_size', 'creation_date', 'last_modified_date', 'last_accessed_date'], excluded_llm_metadata_keys=['file_name', 'file_type', 'file_size', 'creation_date', 'last_modified_date', 'last_accessed_date'], relationships={<NodeRelationship.SOURCE: '1'>: RelatedNodeInfo(node_id='fd3e4536-422a-4b9e-b90c-1cd881d0d959', node_type=<ObjectType.DOCUMENT: '4'>, metadata={'page_label': '21', 'file_name': 'The Theory That Would Not Die How Bayes Rule Cracked the Enigma Code Hunted Down Russian Submarines and Emerged Triumphant from Two Centuries of Controversy by Sharon Bertsch McGrayne.pdf', 'file_path': 'upload/The Theory That Would Not Die How Bayes Rule Cracked the Enigma Code Hunted Down Russian Submarines and Emerged Triumphant from Two Centuries of Controversy by Sharon Bertsch McGrayne.pdf', 'file_type': 'application/pdf', 'file_size': 2592963, 'creation_date': '2024-12-10', 'last_modified_date': '2024-12-10'}, hash='763a0b9bca31e6e28fbb5c12b737d17027527660d1a4e34db90e4a87bf90fbd6')}, text='Church, a religious denomination persecuted for refusing to support the\\nChurch of England, he was considered a Dissenter or Non-Conformist.\\nDuring his grandfather’s generation, 2,000 Dissenters died in English\\nprisons. By Bayes’ time, mathematics was split along religious and political\\nlines, and many productive mathematicians were amateurs because, as\\nDissenters, they were barred from English universities.1\\nUnable to earn a degree in England, Bayes studied theology and\\npresumably mathematics at the University of Edinburgh in Presbyterian\\nScotland, where, happily for him, academic standards were much more\\nrigorous. In 1711 he left for London, where his clergyman father ordained\\nhim and apparently employed him as an assistant minister.\\nPersecution turned many English Dissenters into feisty critics, and in his\\nlate 20s Bayes took a stand on a hot theological issue: can the presence of\\nevil be reconciled with God’s presumed beneficence? In 1731  he wrote a\\npamphlet—a kind of blog—de claring that God gives people “the greatest\\nhappiness of which they are capable.”\\nDuring his 40s, Bayes’ interests in mathematics and theology began to\\ntightly intertwine. An Irish-Anglican bishop—G eorge Berkeley, for whom\\nthe University of California’s flagship campus is named—pu blished an\\ninflammatory pamphlet attacking Dissenting mathematicians, calculus,\\nabstract mathematics, the revered Isaac Newton, and all other “free-thinkers”\\nand “infidel mathematicians” who believed that reason could illuminate any\\nsubject. Berkeley’s pamphlet was the most spectacular event in British\\nmathematics during the 1700s .\\nLeaping into the pamphlet wars again, Bayes published a piece defending\\nand explaining Newton’s calculus. This was his only mathematical\\npublication during his lifetime. Shortly thereafter, in 1742,  five men,\\nincluding a close friend of Newton’s, nominated Bayes for membership in the\\nRoyal Society. His nomination avoided any hint of controversy and described\\nhim as “a Gentleman of known merit, well skilled in Geometry and all parts\\nof Mathematical and Philosophical Learning.” The Royal Society was not the\\nprofessional organization it is today; it was a private organization of dues-\\npaying amateurs from the landed gentry. But it played a vital role because\\namateurs would produce some of the era’s breakthroughs.\\nAbout this time Bayes joined a second group of up-to-date amateur\\nmathematicians. He had moved to a small congregation in a fashionable\\nresort, the cold-water spa Tunbridge Wells. As an independently wealthy', mimetype='text/plain', start_char_idx=0, end_char_idx=2541, text_template='{metadata_str}\\n\\n{content}', metadata_template='{key}: {value}', metadata_seperator='\\n'), score=0.8064230923507557),\n",
      "                                NodeWithScore(node=TextNode(id_='23e6db80-afbd-498a-b795-49bf454d658c', embedding=None, metadata={'page_label': '284', 'file_name': 'The Theory That Would Not Die How Bayes Rule Cracked the Enigma Code Hunted Down Russian Submarines and Emerged Triumphant from Two Centuries of Controversy by Sharon Bertsch McGrayne.pdf', 'file_path': 'upload/The Theory That Would Not Die How Bayes Rule Cracked the Enigma Code Hunted Down Russian Submarines and Emerged Triumphant from Two Centuries of Controversy by Sharon Bertsch McGrayne.pdf', 'file_type': 'application/pdf', 'file_size': 2592963, 'creation_date': '2024-12-10', 'last_modified_date': '2024-12-10'}, excluded_embed_metadata_keys=['file_name', 'file_type', 'file_size', 'creation_date', 'last_modified_date', 'last_accessed_date'], excluded_llm_metadata_keys=['file_name', 'file_type', 'file_size', 'creation_date', 'last_modified_date', 'last_accessed_date'], relationships={<NodeRelationship.SOURCE: '1'>: RelatedNodeInfo(node_id='a5b085d9-9b76-411f-90de-4805abfcb2ac', node_type=<ObjectType.DOCUMENT: '4'>, metadata={'page_label': '284', 'file_name': 'The Theory That Would Not Die How Bayes Rule Cracked the Enigma Code Hunted Down Russian Submarines and Emerged Triumphant from Two Centuries of Controversy by Sharon Bertsch McGrayne.pdf', 'file_path': 'upload/The Theory That Would Not Die How Bayes Rule Cracked the Enigma Code Hunted Down Russian Submarines and Emerged Triumphant from Two Centuries of Controversy by Sharon Bertsch McGrayne.pdf', 'file_type': 'application/pdf', 'file_size': 2592963, 'creation_date': '2024-12-10', 'last_modified_date': '2024-12-10'}, hash='8abed1ff82042bc705c72a0d86160ea669f85f6d5be8f95ec69b5c672253c9f4')}, text='dr fisher’s casebook: the doctor sees the\\nlight\\n \\nby michael j. campbell\\n \\nAs one gets older one’s thoughts turn naturally to religion and I have been\\npondering the religious metaphors in statistics. Clearly the frequentists are\\nmetaphorical Catholics; dividing results into “significant” and\\n“nonsignificant” instead of dividing sins into “mortal” (i.e. significant) and\\nvenial. Randomisation is the grace that saves the world. In confession the\\npriest is interested in the frequency with which one committed a sin (I can\\nimagine passing the priest a bar-chart of how many times I swore, or was\\nuncharitable, rather than giving him a verbal list—so much more\\ninformative!) After confession frequentists/Catholics are forgiven and so,\\nhaving rejected a null hypothesis at p < 0.05, once it is published they are\\nfree to use 0.05 as the limit again. The frequentist prayer is “Our Fisher, who\\nart in Heaven”. Their saints are Pearson and Neyman. Instead of Heaven and\\nHell they have the Null and Alternative hypotheses, and in their Creed\\ninstead of “Do you reject Satan?” they have “Do you reject the null\\nhypothesis?”.\\nOn the other hand Bayesians are born-again fundamentalists. One must be\\na “believer” and Bayesians can often pinpoint the day when Bayes came into\\ntheir lives, when they droppe d these childish frequentist ways (or even\\n“came out”). Clearly the Reverend Thomas Bayes is their spiritual guide and\\nleader, and he even imitated the Christian God by not publishing in his own\\nlifetime (mind you, I have heard non-Bayesians wish that some of his\\nfollowers had done likewise). Bayesians divide the world into people who\\nbelieve and those who do not and will ask complete strangers at statistics\\nconferences “are you a Bayesian?” as if it were an important defining\\ncharacteristic. On finding a non-Bayesian, they will express amazement at the\\nthings the nonBayesian does, point out the certainties of their own beliefs and\\nattempt to convert the non-believer.', mimetype='text/plain', start_char_idx=0, end_char_idx=1973, text_template='{metadata_str}\\n\\n{content}', metadata_template='{key}: {value}', metadata_seperator='\\n'), score=0.8124452986066439),\n",
      "                                NodeWithScore(node=TextNode(id_='6cd34530-95f5-40d9-a90b-c14b96c58161', embedding=None, metadata={'page_label': '285', 'file_name': 'The Theory That Would Not Die How Bayes Rule Cracked the Enigma Code Hunted Down Russian Submarines and Emerged Triumphant from Two Centuries of Controversy by Sharon Bertsch McGrayne.pdf', 'file_path': 'upload/The Theory That Would Not Die How Bayes Rule Cracked the Enigma Code Hunted Down Russian Submarines and Emerged Triumphant from Two Centuries of Controversy by Sharon Bertsch McGrayne.pdf', 'file_type': 'application/pdf', 'file_size': 2592963, 'creation_date': '2024-12-10', 'last_modified_date': '2024-12-10'}, excluded_embed_metadata_keys=['file_name', 'file_type', 'file_size', 'creation_date', 'last_modified_date', 'last_accessed_date'], excluded_llm_metadata_keys=['file_name', 'file_type', 'file_size', 'creation_date', 'last_modified_date', 'last_accessed_date'], relationships={<NodeRelationship.SOURCE: '1'>: RelatedNodeInfo(node_id='e1727d0e-ccc1-4110-8e99-54c474809bc1', node_type=<ObjectType.DOCUMENT: '4'>, metadata={'page_label': '285', 'file_name': 'The Theory That Would Not Die How Bayes Rule Cracked the Enigma Code Hunted Down Russian Submarines and Emerged Triumphant from Two Centuries of Controversy by Sharon Bertsch McGrayne.pdf', 'file_path': 'upload/The Theory That Would Not Die How Bayes Rule Cracked the Enigma Code Hunted Down Russian Submarines and Emerged Triumphant from Two Centuries of Controversy by Sharon Bertsch McGrayne.pdf', 'file_type': 'application/pdf', 'file_size': 2592963, 'creation_date': '2024-12-10', 'last_modified_date': '2024-12-10'}, hash='90ea2c0fd2aae86333bd3b2e9217f944014e3ff9cff209c28a0f35700674624d')}, text='Then there are the sects. The agnostics are those who think that\\nnonparametric statistics are the answer to everything. Similarly the\\nbootstrappers cannot see why you need to bring God into it at all. There is\\nthe “bell-curve” cult, who think everything can be explained by reference to\\nthe Normal distribution. The simulators think God is purely a human\\ninvention.\\nWhere do I put myself? Well, in typically woolly English fashion, I regard\\nmyself as Anglican. I believe in statistics as a way of finding the truth and am\\nhappy to adopt whatever means will help me to get there. I can see dangers in\\nextremism in either direction and so try to steer a “middle way”. I still use p-\\nvalues and confidence intervals but temper them with prior beliefs. I like the\\nidea of “empirical Bayes” where one uses earlier studies to inform one’s\\npriors. I can see the advantages of Bayesian methods for modelling complex\\nsystems and attaching uncertainty to parameters and think that in many ways it\\nreflects scientific inference better. However, I prefer simply to call myself a\\nbeliever, and not to attach labels to these beliefs.\\nTalking of religion, I am reminded of a strip of cartoons about Bayesians\\nthat appeared some time ago. They showed a series of monks. One was\\nlooking lost, one was dressed as a soldier, one was holding a guide book  and\\none had his tongue stuck out. They were, respectively, a vague prior, a\\nuniform prior, an informative prior and, of course, an improper prior . . .', mimetype='text/plain', start_char_idx=0, end_char_idx=1487, text_template='{metadata_str}\\n\\n{content}', metadata_template='{key}: {value}', metadata_seperator='\\n'), score=0.7928863400050026),\n",
      "                                NodeWithScore(node=TextNode(id_='23e6db80-afbd-498a-b795-49bf454d658c', embedding=None, metadata={'page_label': '284', 'file_name': 'The Theory That Would Not Die How Bayes Rule Cracked the Enigma Code Hunted Down Russian Submarines and Emerged Triumphant from Two Centuries of Controversy by Sharon Bertsch McGrayne.pdf', 'file_path': 'upload/The Theory That Would Not Die How Bayes Rule Cracked the Enigma Code Hunted Down Russian Submarines and Emerged Triumphant from Two Centuries of Controversy by Sharon Bertsch McGrayne.pdf', 'file_type': 'application/pdf', 'file_size': 2592963, 'creation_date': '2024-12-10', 'last_modified_date': '2024-12-10'}, excluded_embed_metadata_keys=['file_name', 'file_type', 'file_size', 'creation_date', 'last_modified_date', 'last_accessed_date'], excluded_llm_metadata_keys=['file_name', 'file_type', 'file_size', 'creation_date', 'last_modified_date', 'last_accessed_date'], relationships={<NodeRelationship.SOURCE: '1'>: RelatedNodeInfo(node_id='a5b085d9-9b76-411f-90de-4805abfcb2ac', node_type=<ObjectType.DOCUMENT: '4'>, metadata={'page_label': '284', 'file_name': 'The Theory That Would Not Die How Bayes Rule Cracked the Enigma Code Hunted Down Russian Submarines and Emerged Triumphant from Two Centuries of Controversy by Sharon Bertsch McGrayne.pdf', 'file_path': 'upload/The Theory That Would Not Die How Bayes Rule Cracked the Enigma Code Hunted Down Russian Submarines and Emerged Triumphant from Two Centuries of Controversy by Sharon Bertsch McGrayne.pdf', 'file_type': 'application/pdf', 'file_size': 2592963, 'creation_date': '2024-12-10', 'last_modified_date': '2024-12-10'}, hash='8abed1ff82042bc705c72a0d86160ea669f85f6d5be8f95ec69b5c672253c9f4')}, text='dr fisher’s casebook: the doctor sees the\\nlight\\n \\nby michael j. campbell\\n \\nAs one gets older one’s thoughts turn naturally to religion and I have been\\npondering the religious metaphors in statistics. Clearly the frequentists are\\nmetaphorical Catholics; dividing results into “significant” and\\n“nonsignificant” instead of dividing sins into “mortal” (i.e. significant) and\\nvenial. Randomisation is the grace that saves the world. In confession the\\npriest is interested in the frequency with which one committed a sin (I can\\nimagine passing the priest a bar-chart of how many times I swore, or was\\nuncharitable, rather than giving him a verbal list—so much more\\ninformative!) After confession frequentists/Catholics are forgiven and so,\\nhaving rejected a null hypothesis at p < 0.05, once it is published they are\\nfree to use 0.05 as the limit again. The frequentist prayer is “Our Fisher, who\\nart in Heaven”. Their saints are Pearson and Neyman. Instead of Heaven and\\nHell they have the Null and Alternative hypotheses, and in their Creed\\ninstead of “Do you reject Satan?” they have “Do you reject the null\\nhypothesis?”.\\nOn the other hand Bayesians are born-again fundamentalists. One must be\\na “believer” and Bayesians can often pinpoint the day when Bayes came into\\ntheir lives, when they droppe d these childish frequentist ways (or even\\n“came out”). Clearly the Reverend Thomas Bayes is their spiritual guide and\\nleader, and he even imitated the Christian God by not publishing in his own\\nlifetime (mind you, I have heard non-Bayesians wish that some of his\\nfollowers had done likewise). Bayesians divide the world into people who\\nbelieve and those who do not and will ask complete strangers at statistics\\nconferences “are you a Bayesian?” as if it were an important defining\\ncharacteristic. On finding a non-Bayesian, they will express amazement at the\\nthings the nonBayesian does, point out the certainties of their own beliefs and\\nattempt to convert the non-believer.', mimetype='text/plain', start_char_idx=0, end_char_idx=1973, text_template='{metadata_str}\\n\\n{content}', metadata_template='{key}: {value}', metadata_seperator='\\n'), score=0.8320055690784002),\n",
      "                                NodeWithScore(node=TextNode(id_='21d0539b-6159-4cb2-9596-e62c2bbf4bc7', embedding=None, metadata={'page_label': '12', 'file_name': 'The Theory That Would Not Die How Bayes Rule Cracked the Enigma Code Hunted Down Russian Submarines and Emerged Triumphant from Two Centuries of Controversy by Sharon Bertsch McGrayne.pdf', 'file_path': 'upload/The Theory That Would Not Die How Bayes Rule Cracked the Enigma Code Hunted Down Russian Submarines and Emerged Triumphant from Two Centuries of Controversy by Sharon Bertsch McGrayne.pdf', 'file_type': 'application/pdf', 'file_size': 2592963, 'creation_date': '2024-12-10', 'last_modified_date': '2024-12-10'}, excluded_embed_metadata_keys=['file_name', 'file_type', 'file_size', 'creation_date', 'last_modified_date', 'last_accessed_date'], excluded_llm_metadata_keys=['file_name', 'file_type', 'file_size', 'creation_date', 'last_modified_date', 'last_accessed_date'], relationships={<NodeRelationship.SOURCE: '1'>: RelatedNodeInfo(node_id='2aade73d-1967-43b8-90be-7f05ad9594ad', node_type=<ObjectType.DOCUMENT: '4'>, metadata={'page_label': '12', 'file_name': 'The Theory That Would Not Die How Bayes Rule Cracked the Enigma Code Hunted Down Russian Submarines and Emerged Triumphant from Two Centuries of Controversy by Sharon Bertsch McGrayne.pdf', 'file_path': 'upload/The Theory That Would Not Die How Bayes Rule Cracked the Enigma Code Hunted Down Russian Submarines and Emerged Triumphant from Two Centuries of Controversy by Sharon Bertsch McGrayne.pdf', 'file_type': 'application/pdf', 'file_size': 2592963, 'creation_date': '2024-12-10', 'last_modified_date': '2024-12-10'}, hash='7af6f167a327b24771b4792830340c271fdeb4e82c27cb40180c2c5b86f71577')}, text='preface and note to readers\\n \\nIn a celebrated example of science gone awry, geologists accumulated the\\nevidence for Continental Drift in 1912 and then spent 50 years arguing that\\ncontinents cannot move.\\nThe scientific battle over Bayes’ rule is less well known but lasted far\\nlonger, for 150 years. It concerned a broader and more fundamental issue:\\nhow we analyze evidence, change our minds as we get new information, and\\nmake rational decisions in the face of uncertainty. And it was not resolved\\nuntil the dawn of the twenty-first century.\\nOn its face Bayes’ rule is a simple, one-line theorem: by updating our\\ninitial belief about something with objective new information, we get a new\\nand improved belief. To its adherents, this is an elegant statement about\\nlearning from experience. Generations of converts remember experiencing an\\nalmost religious epiphany as they fell under the spell of its inner logic.\\nOppon ents, meanwhile, regarded Bayes’ rule as subjectivity run amok.\\nBayes’ rule began life amid an inflammatory religious controversy in\\nEngland in the 1740s : can we make rational conclusions about God based on\\nevidence about the world around us? An amateur mathematician, the\\nReverend Thomas Bayes, discovered the rule, and we celebrate him today as\\nthe iconic father of mathematical decision making. Yet Bayes consigned his\\ndiscovery to oblivion. In his time, he was a minor figure. And we know\\nabout his work today only because of his friend and editor Richard Price, an\\nalmost forgotten hero of the American Revolution.\\nBy rights, Bayes’ rule should be named for someone else: a Frenchman,\\nPierre Simon Laplace, one of the most powerful mathematicians and\\nscientists in history. To deal with an unprecedented torrent of data, Laplace\\ndiscovered the rule on his own in 1774. Over the next forty years he\\ndeveloped it into the form we use today. Applying his method, he concluded\\nthat a well-established fact—more boys are born than girls—was almost', mimetype='text/plain', start_char_idx=0, end_char_idx=1968, text_template='{metadata_str}\\n\\n{content}', metadata_template='{key}: {value}', metadata_seperator='\\n'), score=0.8207268415014435)],\n",
      "                  is_dummy_stream=False,\n",
      "                  metadata=None)\n"
     ]
    }
   ],
   "execution_count": 27
  },
  {
   "metadata": {
    "ExecuteTime": {
     "end_time": "2024-12-17T19:41:56.766876Z",
     "start_time": "2024-12-09T23:20:32.240637Z"
    }
   },
   "cell_type": "code",
   "source": [
    "response = agent.chat(\"Tell me about interaction between Alan Turing and Claude Shannon\"\n",
    "                      \" and how this impact Shannon's work on information theory\"\n",
    ")\n",
    "print(str(response))"
   ],
   "id": "d156de47af6561b9",
   "outputs": [
    {
     "name": "stdout",
     "output_type": "stream",
     "text": [
      "> Running step b390ac4e-9049-44b8-a015-e3d0c1e11b72. Step input: Tell me about interaction between Alan Turing and Claude Shannon and how this impact Shannon's work on information theory\n",
      "\u001B[1;3;38;5;200mThought: The current language of the user is: English. I need to use a tool to help me answer the question about WWII related information, specifically about Alan Turing and Claude Shannon's interaction.\n",
      "Action: wwii_search\n",
      "Action Input: {'input': 'Alan Turing and Claude Shannon interaction information theory'}\n",
      "\u001B[0m\u001B[1;3;34mObservation: When Turing visited Bell Labs, he and Shannon likely discussed the SigSaly voice scrambler, which Shannon was developing.\n",
      "\u001B[0m> Running step c9ae03bb-1a34-4da3-9823-230d520fc87a. Step input: None\n",
      "\u001B[1;3;38;5;200mThought: I have some information about the interaction between Alan Turing and Claude Shannon, but I need more information about how this interaction impacted Shannon's work on information theory.\n",
      "Action: wwii_search\n",
      "Action Input: {'input': 'Turing and Shannon discussion on SigSaly voice scrambler impact on information theory'}\n",
      "\u001B[0m\u001B[1;3;34mObservation: When Turing visited Bell Labs, the next cryptographic frontier was speech. Britain and the United States wanted their best people, Shannon and Turing, working on it.\n",
      "\u001B[0m> Running step 791a3175-756c-47f7-b067-ccfaa15610aa. Step input: None\n",
      "\u001B[1;3;38;5;200mThought: I have some information about the context of the interaction between Alan Turing and Claude Shannon, but I need more information about how this interaction impacted Shannon's work on information theory.\n",
      "Action: wwii_search\n",
      "Action Input: {'input': 'Turing and Shannon collaboration on speech cryptography impact on Shannon information theory'}\n",
      "\u001B[0m\u001B[1;3;34mObservation: The collaboration between Turing and Shannon on speech cryptography led to the development of the SigSaly voice scrambler, which allowed for secure communication between high-ranking officials during World War II. This work on speech cryptography complemented Shannon's efforts on the mathematical theory of communication and information, which ultimately united telegraph, telephone, radio, and television communication into one mathematical theory of information.\n",
      "\u001B[0m> Running step bc6a8396-415d-40fd-bdad-50551f5ebf2d. Step input: None\n",
      "\u001B[1;3;38;5;200mThought: I can answer without using any more tools. I'll use the user's language to answer.\n",
      "Answer: The interaction between Alan Turing and Claude Shannon had a significant impact on Shannon's work on information theory. Their collaboration on speech cryptography, specifically the development of the SigSaly voice scrambler, complemented Shannon's efforts on the mathematical theory of communication and information. This work ultimately united telegraph, telephone, radio, and television communication into one mathematical theory of information, laying the foundation for modern information theory.\n",
      "\u001B[0mThe interaction between Alan Turing and Claude Shannon had a significant impact on Shannon's work on information theory. Their collaboration on speech cryptography, specifically the development of the SigSaly voice scrambler, complemented Shannon's efforts on the mathematical theory of communication and information. This work ultimately united telegraph, telephone, radio, and television communication into one mathematical theory of information, laying the foundation for modern information theory.\n"
     ]
    }
   ],
   "execution_count": 87
  },
  {
   "metadata": {
    "ExecuteTime": {
     "end_time": "2024-12-17T19:41:56.766909Z",
     "start_time": "2024-12-09T23:20:42.817558Z"
    }
   },
   "cell_type": "code",
   "source": [
    "response = agent.chat(\"Tell me about how Bayes theorem is used in Midway Battle\"\n",
    ")\n",
    "print(str(response))"
   ],
   "id": "6d14a6b304401efa",
   "outputs": [
    {
     "name": "stdout",
     "output_type": "stream",
     "text": [
      "> Running step 51df88d9-d163-488a-992e-8e3e9b0beb53. Step input: Tell me about how Bayes theorem is used in Midway Battle\n",
      "\u001B[1;3;38;5;200mThought: The current language of the user is: English. I need to use a tool to help me answer the question about how Bayes theorem is used in the Midway Battle.\n",
      "Action: wwii_search\n",
      "Action Input: {'input': 'Bayes theorem Midway Battle'}\n",
      "\u001B[0m\u001B[1;3;34mObservation: There is no mention of the Midway Battle in the provided context.\n",
      "\u001B[0m> Running step 058b966a-9149-4b7a-86a0-e70f7fed819c. Step input: None\n",
      "\u001B[1;3;38;5;200mThought: The current language of the user is: English. I need to use a tool to help me answer the question about how Bayes theorem is used in the Midway Battle. Since the previous search did not provide relevant information, I will try to search again with more specific keywords.\n",
      "Action: wwii_search\n",
      "Action Input: {'input': 'Midway Battle codebreaking'}\n",
      "\u001B[0m\u001B[1;3;34mObservation: The codebreaking efforts at Bletchley Park were crucial in the Allied victory, but the Midway Battle codebreaking is not mentioned in the provided context.\n",
      "\u001B[0m> Running step d20180fe-a050-40e7-a40d-7dd3ffa0302f. Step input: None\n",
      "\u001B[1;3;38;5;200mThought: The current language of the user is: English. I need to use a tool to help me answer the question about how Bayes theorem is used in the Midway Battle. Since the previous searches did not provide relevant information, I will try to search again with more specific keywords related to the Pacific Theater and the Battle of Midway.\n",
      "Action: wwii_search\n",
      "Action Input: {'input': 'Battle of Midway codebreaking Pacific'}\n",
      "\u001B[0m\u001B[1;3;34mObservation: The Battle of Midway codebreaking efforts were crucial in the Pacific Theater during World War II.\n",
      "\u001B[0m> Running step 3e50bb52-7382-4162-8ba5-54e8bdf4c656. Step input: None\n",
      "\u001B[1;3;38;5;200mThought: The current language of the user is: English. I need to use a tool to help me answer the question about how Bayes theorem is used in the Midway Battle. Since the previous searches provided some relevant information, I will try to search again with more specific keywords related to the use of Bayes theorem in codebreaking during the Battle of Midway.\n",
      "Action: wwii_search\n",
      "Action Input: {'input': 'Battle of Midway codebreaking Bayes theorem'}\n",
      "\u001B[0m\u001B[1;3;34mObservation: There is no mention of the Battle of Midway or codebreaking in the provided context.\n",
      "\u001B[0m> Running step a9856411-d9de-4c49-a05a-2013bb9ea790. Step input: None\n",
      "\u001B[1;3;38;5;200mThought: The current language of the user is: English. I need to use a tool to help me answer the question about how Bayes theorem is used in the Midway Battle. Since the previous searches did not provide relevant information, I will try to think about the problem in a different way. I know that Bayes theorem is used in codebreaking, and the Battle of Midway was a significant naval battle in the Pacific Theater during World War II. I will try to make an educated guess about how Bayes theorem might have been used in the Battle of Midway.\n",
      "Answer: Although I couldn't find any direct information about the use of Bayes theorem in the Battle of Midway, it's possible that Bayes theorem was used in codebreaking efforts during the battle. The Allies were able to break Japanese naval codes, which gave them valuable intelligence about Japanese ship movements and plans. Bayes theorem could have been used to update probabilities about the location and intentions of Japanese ships based on new information, such as intercepted messages or sightings of Japanese vessels. However, without more information, I can only speculate about the exact role of Bayes theorem in the Battle of Midway.\n",
      "\u001B[0mAlthough I couldn't find any direct information about the use of Bayes theorem in the Battle of Midway, it's possible that Bayes theorem was used in codebreaking efforts during the battle. The Allies were able to break Japanese naval codes, which gave them valuable intelligence about Japanese ship movements and plans. Bayes theorem could have been used to update probabilities about the location and intentions of Japanese ships based on new information, such as intercepted messages or sightings of Japanese vessels. However, without more information, I can only speculate about the exact role of Bayes theorem in the Battle of Midway.\n"
     ]
    }
   ],
   "execution_count": 88
  }
 ],
 "metadata": {
  "kernelspec": {
   "display_name": "Python 3",
   "language": "python",
   "name": "python3"
  },
  "language_info": {
   "codemirror_mode": {
    "name": "ipython",
    "version": 2
   },
   "file_extension": ".py",
   "mimetype": "text/x-python",
   "name": "python",
   "nbconvert_exporter": "python",
   "pygments_lexer": "ipython2",
   "version": "2.7.6"
  }
 },
 "nbformat": 4,
 "nbformat_minor": 5
}
