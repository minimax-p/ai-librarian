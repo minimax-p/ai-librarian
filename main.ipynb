{
 "cells": [
  {
   "metadata": {
    "ExecuteTime": {
     "end_time": "2024-12-09T22:15:57.085459Z",
     "start_time": "2024-12-09T22:15:55.323735Z"
    }
   },
   "cell_type": "code",
   "source": "%pip install -q llama-index==0.10.18 llama-index-llms-groq==0.1.3 groq==0.4.2 llama-index-embeddings-huggingface==0.2.0",
   "id": "2b757dd9818003b0",
   "outputs": [
    {
     "name": "stdout",
     "output_type": "stream",
     "text": [
      "\u001B[31mERROR: pip's dependency resolver does not currently take into account all the packages that are installed. This behaviour is the source of the following dependency conflicts.\r\n",
      "llama-index-llms-ollama 0.4.2 requires llama-index-core<0.13.0,>=0.12.0, but you have llama-index-core 0.10.68.post1 which is incompatible.\u001B[0m\u001B[31m\r\n",
      "\u001B[0mNote: you may need to restart the kernel to use updated packages.\n"
     ]
    }
   ],
   "execution_count": 1
  },
  {
   "metadata": {
    "ExecuteTime": {
     "end_time": "2024-12-09T22:16:46.091503Z",
     "start_time": "2024-12-09T22:16:46.083030Z"
    }
   },
   "cell_type": "code",
   "source": [
    "from llama_index.core import (\n",
    "    VectorStoreIndex,\n",
    "    SimpleDirectoryReader,\n",
    "    StorageContext,\n",
    "    ServiceContext,\n",
    "    load_index_from_storage\n",
    ")\n",
    "from llama_index.embeddings.huggingface import HuggingFaceEmbedding\n",
    "from llama_index.core.node_parser import SentenceSplitter\n",
    "from llama_index.llms.groq import Groq\n",
    "import os\n",
    "from dotenv import load_dotenv\n",
    "load_dotenv()\n",
    "import warnings\n",
    "warnings.filterwarnings('ignore')"
   ],
   "id": "9e60b6d34b0b50af",
   "outputs": [],
   "execution_count": 4
  },
  {
   "metadata": {
    "ExecuteTime": {
     "end_time": "2024-12-09T22:16:57.926160Z",
     "start_time": "2024-12-09T22:16:57.923762Z"
    }
   },
   "cell_type": "code",
   "source": "GROQ_API_KEY = os.getenv(\"GROQ_API_KEY\")",
   "id": "8b196296560e96de",
   "outputs": [],
   "execution_count": 7
  },
  {
   "metadata": {
    "ExecuteTime": {
     "end_time": "2024-12-09T22:17:20.922010Z",
     "start_time": "2024-12-09T22:17:11.751674Z"
    }
   },
   "cell_type": "code",
   "source": [
    "# data ingestion\n",
    "reader = SimpleDirectoryReader(input_files=[\"./upload/The-Morgan-Kaufmann-Series-in-Data-Management-Systems-Jiawei-Han-Micheline-Kamber-Jian-Pei-Data-Mining.-Concepts-and-Techniques-3rd-Edition-Morgan-Kaufmann-2011.pdf\"])\n",
    "documents = reader.load_data()"
   ],
   "id": "fbc41331d1e31a69",
   "outputs": [],
   "execution_count": 9
  },
  {
   "metadata": {
    "ExecuteTime": {
     "end_time": "2024-12-09T22:17:23.227582Z",
     "start_time": "2024-12-09T22:17:23.222698Z"
    }
   },
   "cell_type": "code",
   "source": "len(documents)",
   "id": "9f4d88cc5bffdee7",
   "outputs": [
    {
     "data": {
      "text/plain": [
       "740"
      ]
     },
     "execution_count": 10,
     "metadata": {},
     "output_type": "execute_result"
    }
   ],
   "execution_count": 10
  },
  {
   "metadata": {
    "ExecuteTime": {
     "end_time": "2024-12-09T22:17:29.067548Z",
     "start_time": "2024-12-09T22:17:29.064136Z"
    }
   },
   "cell_type": "code",
   "source": "documents[500].metadata",
   "id": "80ccc632a392a51e",
   "outputs": [
    {
     "data": {
      "text/plain": [
       "{'page_label': '464',\n",
       " 'file_name': 'The-Morgan-Kaufmann-Series-in-Data-Management-Systems-Jiawei-Han-Micheline-Kamber-Jian-Pei-Data-Mining.-Concepts-and-Techniques-3rd-Edition-Morgan-Kaufmann-2011.pdf',\n",
       " 'file_path': 'upload/The-Morgan-Kaufmann-Series-in-Data-Management-Systems-Jiawei-Han-Micheline-Kamber-Jian-Pei-Data-Mining.-Concepts-and-Techniques-3rd-Edition-Morgan-Kaufmann-2011.pdf',\n",
       " 'file_type': 'application/pdf',\n",
       " 'file_size': 12585336,\n",
       " 'creation_date': '2024-12-09',\n",
       " 'last_modified_date': '2024-12-08'}"
      ]
     },
     "execution_count": 11,
     "metadata": {},
     "output_type": "execute_result"
    }
   ],
   "execution_count": 11
  },
  {
   "metadata": {
    "ExecuteTime": {
     "end_time": "2024-12-09T22:17:34.997862Z",
     "start_time": "2024-12-09T22:17:34.430143Z"
    }
   },
   "cell_type": "code",
   "source": [
    "text_splitter = SentenceSplitter(chunk_size=1024, chunk_overlap=200)\n",
    "nodes = text_splitter.get_nodes_from_documents(documents, show_progress=True)"
   ],
   "id": "9209b534db962b37",
   "outputs": [
    {
     "data": {
      "text/plain": [
       "Parsing nodes:   0%|          | 0/740 [00:00<?, ?it/s]"
      ],
      "application/vnd.jupyter.widget-view+json": {
       "version_major": 2,
       "version_minor": 0,
       "model_id": "97d1e2ad8e744ad4a03cffefdfdcdb1a"
      }
     },
     "metadata": {},
     "output_type": "display_data"
    }
   ],
   "execution_count": 12
  },
  {
   "metadata": {
    "ExecuteTime": {
     "end_time": "2024-12-09T22:17:40.643085Z",
     "start_time": "2024-12-09T22:17:40.638573Z"
    }
   },
   "cell_type": "code",
   "source": "len(nodes)",
   "id": "2ad796f6b7ef7ad",
   "outputs": [
    {
     "data": {
      "text/plain": [
       "785"
      ]
     },
     "execution_count": 13,
     "metadata": {},
     "output_type": "execute_result"
    }
   ],
   "execution_count": 13
  },
  {
   "metadata": {
    "ExecuteTime": {
     "end_time": "2024-12-09T22:17:45.679737Z",
     "start_time": "2024-12-09T22:17:45.676785Z"
    }
   },
   "cell_type": "code",
   "source": "nodes[152].text",
   "id": "2b6ea46c0c2cf3b1",
   "outputs": [
    {
     "data": {
      "text/plain": [
       "'HAN 10-ch03-083-124-9780123814791 2011/6/1 3:16 Page 115 #33\\n3.5 Data Transformation and Data Discretization 115\\nThus, z-score normalization using the mean absolute deviation is\\nv′\\ni=vi−¯A\\nsA. (3.11)\\nThe mean absolute deviation, sA, is more robust to outliers than the standard deviation,\\nσA. When computing the mean absolute deviation, the deviations from the mean (i.e.,\\n|xi−¯x|) are not squared; hence, the effect of outliers is somewhat reduced.\\nNormalization by decimal scaling normalizes by moving the decimal point of values\\nof attribute A. The number of decimal points moved depends on the maximum absolute\\nvalue of A. A value, vi, ofAis normalized to v′\\niby computing\\nv′\\ni=vi\\n10j, (3.12)\\nwhere jis the smallest integer such that max(|v′\\ni|)< 1.\\nExample 3.6 Decimal scaling. Suppose that the recorded values of Arange from−986 to 917. The\\nmaximum absolute value of Ais 986. T o normalize by decimal scaling, we therefore\\ndivide each value by 1000 (i.e., j=3) so that−986 normalizes to −0.986 and 917\\nnormalizes to 0.917.\\nNote that normalization can change the original data quite a bit, especially when\\nusing z-score normalization or decimal scaling. It is also necessary to save the normaliza-\\ntion parameters (e.g., the mean and standard deviation if using z-score normalization)\\nso that future data can be normalized in a uniform manner.\\n3.5.3 Discretization by Binning\\nBinning is a top-down splitting technique based on a speciﬁed number of bins.\\nSection 3.2.2 discussed binning methods for data smoothing. These methods are also\\nused as discretization methods for data reduction and concept hierarchy generation. For\\nexample, attribute values can be discretized by applying equal-width or equal-frequency\\nbinning, and then replacing each bin value by the bin mean or median, as in smoothing\\nby bin means orsmoothing by bin medians, respectively. These techniques can be applied\\nrecursively to the resulting partitions to generate concept hierarchies.\\nBinning does not use class information and is therefore an unsupervised discretiza-\\ntion technique. It is sensitive to the user-speciﬁed number of bins, as well as the presence\\nof outliers.\\n3.5.4 Discretization by Histogram Analysis\\nLike binning, histogram analysis is an unsupervised discretization technique because it\\ndoes not use class information. Histograms were introduced in Section 2.2.3. A his-\\ntogram partitions the values of an attribute, A, into disjoint ranges called buckets\\norbins.'"
      ]
     },
     "execution_count": 14,
     "metadata": {},
     "output_type": "execute_result"
    }
   ],
   "execution_count": 14
  },
  {
   "metadata": {
    "ExecuteTime": {
     "end_time": "2024-12-09T22:18:05.304690Z",
     "start_time": "2024-12-09T22:17:54.645389Z"
    }
   },
   "cell_type": "code",
   "source": "embed_model = HuggingFaceEmbedding(model_name=\"sentence-transformers/all-MiniLM-L6-v2\")",
   "id": "8d7ec7bcf4b76fbf",
   "outputs": [
    {
     "data": {
      "text/plain": [
       "modules.json:   0%|          | 0.00/349 [00:00<?, ?B/s]"
      ],
      "application/vnd.jupyter.widget-view+json": {
       "version_major": 2,
       "version_minor": 0,
       "model_id": "5764b268eb244a7a9f8dd10b503e65ac"
      }
     },
     "metadata": {},
     "output_type": "display_data"
    },
    {
     "data": {
      "text/plain": [
       "config_sentence_transformers.json:   0%|          | 0.00/116 [00:00<?, ?B/s]"
      ],
      "application/vnd.jupyter.widget-view+json": {
       "version_major": 2,
       "version_minor": 0,
       "model_id": "d244ade0f16b4e5fa42848d182c0e345"
      }
     },
     "metadata": {},
     "output_type": "display_data"
    },
    {
     "data": {
      "text/plain": [
       "README.md:   0%|          | 0.00/10.7k [00:00<?, ?B/s]"
      ],
      "application/vnd.jupyter.widget-view+json": {
       "version_major": 2,
       "version_minor": 0,
       "model_id": "2280e0cee1cd4adda79c8485a169c8dd"
      }
     },
     "metadata": {},
     "output_type": "display_data"
    },
    {
     "data": {
      "text/plain": [
       "sentence_bert_config.json:   0%|          | 0.00/53.0 [00:00<?, ?B/s]"
      ],
      "application/vnd.jupyter.widget-view+json": {
       "version_major": 2,
       "version_minor": 0,
       "model_id": "aaed3097473446a98bb3cc9ffef473c3"
      }
     },
     "metadata": {},
     "output_type": "display_data"
    },
    {
     "data": {
      "text/plain": [
       "config.json:   0%|          | 0.00/612 [00:00<?, ?B/s]"
      ],
      "application/vnd.jupyter.widget-view+json": {
       "version_major": 2,
       "version_minor": 0,
       "model_id": "26c82fbb90df4078813c8e5a2a8235a8"
      }
     },
     "metadata": {},
     "output_type": "display_data"
    },
    {
     "data": {
      "text/plain": [
       "model.safetensors:   0%|          | 0.00/90.9M [00:00<?, ?B/s]"
      ],
      "application/vnd.jupyter.widget-view+json": {
       "version_major": 2,
       "version_minor": 0,
       "model_id": "4d20583fb9364a22adf932e2fdf37015"
      }
     },
     "metadata": {},
     "output_type": "display_data"
    },
    {
     "data": {
      "text/plain": [
       "tokenizer_config.json:   0%|          | 0.00/350 [00:00<?, ?B/s]"
      ],
      "application/vnd.jupyter.widget-view+json": {
       "version_major": 2,
       "version_minor": 0,
       "model_id": "ebd8e3f815fa41f3ada0767ea8ea3d25"
      }
     },
     "metadata": {},
     "output_type": "display_data"
    },
    {
     "data": {
      "text/plain": [
       "vocab.txt:   0%|          | 0.00/232k [00:00<?, ?B/s]"
      ],
      "application/vnd.jupyter.widget-view+json": {
       "version_major": 2,
       "version_minor": 0,
       "model_id": "bb6c23cdd0a546cea37b6055c8d1d6c1"
      }
     },
     "metadata": {},
     "output_type": "display_data"
    },
    {
     "data": {
      "text/plain": [
       "tokenizer.json:   0%|          | 0.00/466k [00:00<?, ?B/s]"
      ],
      "application/vnd.jupyter.widget-view+json": {
       "version_major": 2,
       "version_minor": 0,
       "model_id": "4944969804174ee7845d01d2427af2f7"
      }
     },
     "metadata": {},
     "output_type": "display_data"
    },
    {
     "data": {
      "text/plain": [
       "special_tokens_map.json:   0%|          | 0.00/112 [00:00<?, ?B/s]"
      ],
      "application/vnd.jupyter.widget-view+json": {
       "version_major": 2,
       "version_minor": 0,
       "model_id": "84ea3a6e11f246bbabf65c5c0f74cf08"
      }
     },
     "metadata": {},
     "output_type": "display_data"
    },
    {
     "data": {
      "text/plain": [
       "1_Pooling/config.json:   0%|          | 0.00/190 [00:00<?, ?B/s]"
      ],
      "application/vnd.jupyter.widget-view+json": {
       "version_major": 2,
       "version_minor": 0,
       "model_id": "55d244587a0a4afd80c13cee8cad6f96"
      }
     },
     "metadata": {},
     "output_type": "display_data"
    }
   ],
   "execution_count": 15
  },
  {
   "metadata": {
    "ExecuteTime": {
     "end_time": "2024-12-09T22:22:13.820793Z",
     "start_time": "2024-12-09T22:22:07.008124Z"
    }
   },
   "cell_type": "code",
   "source": [
    "llm = Groq(model=\"llama-3.1-70b-versatile\", api_key=GROQ_API_KEY)\n",
    "service_context = ServiceContext.from_defaults(embed_model=embed_model, llm=llm)\n",
    "vector_index = VectorStoreIndex.from_documents(documents, show_progress=True, service_context=service_context, node_parser=nodes)"
   ],
   "id": "b38700d6c0d66279",
   "outputs": [
    {
     "data": {
      "text/plain": [
       "Parsing nodes:   0%|          | 0/740 [00:00<?, ?it/s]"
      ],
      "application/vnd.jupyter.widget-view+json": {
       "version_major": 2,
       "version_minor": 0,
       "model_id": "f977d42a38984144ba384705210b2ed0"
      }
     },
     "metadata": {},
     "output_type": "display_data"
    },
    {
     "data": {
      "text/plain": [
       "Generating embeddings:   0%|          | 0/785 [00:00<?, ?it/s]"
      ],
      "application/vnd.jupyter.widget-view+json": {
       "version_major": 2,
       "version_minor": 0,
       "model_id": "ef45a6d146024430b1bf91f6f7a3e6ea"
      }
     },
     "metadata": {},
     "output_type": "display_data"
    }
   ],
   "execution_count": 21
  },
  {
   "metadata": {
    "ExecuteTime": {
     "end_time": "2024-12-09T22:23:21.511522Z",
     "start_time": "2024-12-09T22:23:19.956033Z"
    }
   },
   "cell_type": "code",
   "source": [
    "vectDB = \"./Gen.AI/DB/textbookstorage\"\n",
    "vector_index.storage_context.persist(persist_dir=vectDB)\n",
    "storage_context = StorageContext.from_defaults(persist_dir=vectDB)\n",
    "index = load_index_from_storage(storage_context, service_context=service_context)\n",
    "query_engine = index.as_query_engine(service_context=service_context)"
   ],
   "id": "7915552312282f10",
   "outputs": [],
   "execution_count": 28
  },
  {
   "metadata": {
    "ExecuteTime": {
     "end_time": "2024-12-09T22:23:31.670327Z",
     "start_time": "2024-12-09T22:23:30.171008Z"
    }
   },
   "cell_type": "code",
   "source": [
    "query = \"Explain cosine similarity\"\n",
    "resp = query_engine.query(query)"
   ],
   "id": "43eaec1875b70f0a",
   "outputs": [],
   "execution_count": 31
  },
  {
   "metadata": {
    "ExecuteTime": {
     "end_time": "2024-12-09T22:23:05.398271Z",
     "start_time": "2024-12-09T22:23:05.394057Z"
    }
   },
   "cell_type": "code",
   "source": [
    "import textwrap\n",
    "\n",
    "def Print(text, width=80, **args):\n",
    "    lines = text.split('\\n')  # Split the text into lines based on original line breaks\n",
    "    wrapped_lines = []\n",
    "    for line in lines:\n",
    "        wrapped_lines.extend(textwrap.wrap(line, width=width))  # Wrap each line individually\n",
    "    print('\\n'.join(wrapped_lines), **args)\n",
    "\n"
   ],
   "id": "42e89b1181a16893",
   "outputs": [],
   "execution_count": 24
  },
  {
   "metadata": {
    "ExecuteTime": {
     "end_time": "2024-12-09T22:23:35.029481Z",
     "start_time": "2024-12-09T22:23:35.025919Z"
    }
   },
   "cell_type": "code",
   "source": "Print(resp.response)",
   "id": "42904931bf3e344a",
   "outputs": [
    {
     "name": "stdout",
     "output_type": "stream",
     "text": [
      "Cosine similarity is a measure of similarity that can be used to compare\n",
      "documents or vectors. It is defined as the cosine of the angle between two\n",
      "vectors. The cosine similarity function is given by the dot product of the two\n",
      "vectors divided by the product of their Euclidean norms.\n",
      "Conceptually, it measures the cosine of the angle between two vectors. A cosine\n",
      "value of 0 means that the two vectors are at 90 degrees to each other\n",
      "(orthogonal) and have no match. The closer the cosine value to 1, the smaller\n",
      "the angle and the greater the match between vectors.\n",
      "In the context of term-frequency vectors, cosine similarity focuses on the words\n",
      "that two documents have in common and the occurrence frequency of such words,\n",
      "ignoring zero-matches. It is a nonmetric measure, meaning it does not obey all\n",
      "the properties of a metric measure.\n",
      "When attributes are binary-valued, the cosine similarity function can be\n",
      "interpreted in terms of shared features or attributes. It measures the relative\n",
      "possession of common attributes between two objects.\n"
     ]
    }
   ],
   "execution_count": 32
  },
  {
   "metadata": {
    "ExecuteTime": {
     "end_time": "2024-12-09T22:23:44.869733Z",
     "start_time": "2024-12-09T22:23:44.864604Z"
    }
   },
   "cell_type": "code",
   "source": [
    "for node in resp.source_nodes:\n",
    "    # Access the TextNode object directly\n",
    "    text_node = node.node\n",
    "\n",
    "    # Assuming metadata is stored within the TextNode's metadata\n",
    "    source = text_node.metadata.get('file_name') # Access metadata using .metadata.get()\n",
    "    page = text_node.metadata.get('page_label')  # Access metadata using .metadata.get()\n",
    "\n",
    "    Print(f\"Source: {source}\")\n",
    "    Print(f\"Page: {page}\")"
   ],
   "id": "4ee9c97b3bae4a93",
   "outputs": [
    {
     "name": "stdout",
     "output_type": "stream",
     "text": [
      "Source: The-Morgan-Kaufmann-Series-in-Data-Management-Systems-Jiawei-Han-\n",
      "Micheline-Kamber-Jian-Pei-Data-Mining.-Concepts-and-Techniques-3rd-Edition-\n",
      "Morgan-Kaufmann-2011.pdf\n",
      "Page: 78\n",
      "Source: The-Morgan-Kaufmann-Series-in-Data-Management-Systems-Jiawei-Han-\n",
      "Micheline-Kamber-Jian-Pei-Data-Mining.-Concepts-and-Techniques-3rd-Edition-\n",
      "Morgan-Kaufmann-2011.pdf\n",
      "Page: 77\n"
     ]
    }
   ],
   "execution_count": 33
  },
  {
   "metadata": {
    "ExecuteTime": {
     "end_time": "2024-12-09T22:24:19.184464Z",
     "start_time": "2024-12-09T22:24:17.214806Z"
    }
   },
   "cell_type": "code",
   "source": [
    "query = \"\"\"Create concept check questions and answer about cosine similarity.\n",
    "Format output in markdown with 2 line breaks to separate markdown entities\"\"\"\n",
    "resp = query_engine.query(query)\n",
    "Print(resp.response)"
   ],
   "id": "c1e1a9ba326931da",
   "outputs": [
    {
     "name": "stdout",
     "output_type": "stream",
     "text": [
      "**Concept Check Question 1**\n",
      "What is cosine similarity used for in data analysis?\n",
      "**Answer**\n",
      "Cosine similarity is a measure of similarity that can be used to compare\n",
      "documents or give a ranking of documents with respect to a given vector of query\n",
      "words.\n",
      "**Concept Check Question 2**\n",
      "What type of data does cosine similarity ignore when calculating similarity?\n",
      "**Answer**\n",
      "Cosine similarity ignores zero-matches when calculating similarity.\n",
      "**Concept Check Question 3**\n",
      "Why is cosine similarity useful for comparing term-frequency vectors?\n",
      "**Answer**\n",
      "Cosine similarity is useful for comparing term-frequency vectors because it\n",
      "focuses on the words that the two documents do have in common, and the\n",
      "occurrence frequency of such words.\n",
      "**Concept Check Question 4**\n",
      "What is the main advantage of using cosine similarity over traditional distance\n",
      "measures for sparse numeric data?\n",
      "**Answer**\n",
      "The main advantage of using cosine similarity is that it ignores zero-matches,\n",
      "which makes it more suitable for sparse numeric data.\n",
      "**Concept Check Question 5**\n",
      "Can cosine similarity be used to compare objects with mixed types of attributes?\n",
      "**Answer**\n",
      "Yes, cosine similarity can be used to compare objects with mixed types of\n",
      "attributes, but it is more commonly used for comparing term-frequency vectors or\n",
      "documents.\n"
     ]
    }
   ],
   "execution_count": 34
  },
  {
   "metadata": {
    "ExecuteTime": {
     "end_time": "2024-12-09T22:24:26.006111Z",
     "start_time": "2024-12-09T22:24:26.003648Z"
    }
   },
   "cell_type": "code",
   "source": [
    "for node in resp.source_nodes:\n",
    "    # Access the TextNode object directly\n",
    "    text_node = node.node\n",
    "\n",
    "    # Assuming metadata is stored within the TextNode's metadata\n",
    "    source = text_node.metadata.get('file_name') # Access metadata using .metadata.get()\n",
    "    page = text_node.metadata.get('page_label')  # Access metadata using .metadata.get()\n",
    "\n",
    "    Print(f\"Source: {source}\")\n",
    "    Print(f\"Page: {page}\")"
   ],
   "id": "47360f4a7d9a7d45",
   "outputs": [
    {
     "name": "stdout",
     "output_type": "stream",
     "text": [
      "Source: The-Morgan-Kaufmann-Series-in-Data-Management-Systems-Jiawei-Han-\n",
      "Micheline-Kamber-Jian-Pei-Data-Mining.-Concepts-and-Techniques-3rd-Edition-\n",
      "Morgan-Kaufmann-2011.pdf\n",
      "Page: 77\n",
      "Source: The-Morgan-Kaufmann-Series-in-Data-Management-Systems-Jiawei-Han-\n",
      "Micheline-Kamber-Jian-Pei-Data-Mining.-Concepts-and-Techniques-3rd-Edition-\n",
      "Morgan-Kaufmann-2011.pdf\n",
      "Page: 269\n"
     ]
    }
   ],
   "execution_count": 35
  }
 ],
 "metadata": {
  "kernelspec": {
   "display_name": "Python 3",
   "language": "python",
   "name": "python3"
  },
  "language_info": {
   "codemirror_mode": {
    "name": "ipython",
    "version": 2
   },
   "file_extension": ".py",
   "mimetype": "text/x-python",
   "name": "python",
   "nbconvert_exporter": "python",
   "pygments_lexer": "ipython2",
   "version": "2.7.6"
  }
 },
 "nbformat": 4,
 "nbformat_minor": 5
}
