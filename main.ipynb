{
 "cells": [
  {
   "metadata": {},
   "cell_type": "markdown",
   "source": "",
   "id": "157119396dd7ac26"
  },
  {
   "cell_type": "code",
   "id": "initial_id",
   "metadata": {
    "collapsed": true,
    "ExecuteTime": {
     "end_time": "2024-11-27T20:39:07.987673Z",
     "start_time": "2024-11-27T20:39:07.903308Z"
    }
   },
   "source": [
    "import gradio as gr\n",
    "from llama_index import VectorStore, ResponseSynthesizer\n",
    "from llama_index.llms.ollama import Ollama\n",
    "from llama_index.embeddings.huggingface import HuggingFaceEmbedding\n",
    "\n",
    "# Initialize components\n",
    "def initialize_system():\n",
    "    # Configure embedding model\n",
    "    embedding_model = HuggingFaceEmbedding(model_name=\"BAAI/bge-small-en-v1.5\")\n",
    "    \n",
    "    # Initialize Vector Store\n",
    "    vector_index = VectorStore(embedding_model=embedding_model)\n",
    "    \n",
    "    # Configure LLM (Phi3.5 via Ollama)\n",
    "    llm = Ollama(model_name=\"phi3.5\")\n",
    "    \n",
    "    # Combine into a synthesizer\n",
    "    query_engine = ResponseSynthesizer(llm=llm, vector_index=vector_index)\n",
    "    return vector_index, query_engine\n",
    "\n",
    "vector_index, query_engine = initialize_system()\n",
    "\n",
    "# File upload handler\n",
    "def process_file(file):\n",
    "    if file is not None:\n",
    "        try:\n",
    "            # Read and index file\n",
    "            reader = SimpleDirectoryReader(input_dir=file.name)\n",
    "            documents = reader.load_data()\n",
    "            vector_index.add_documents(documents)\n",
    "            return f\"Successfully processed and indexed: {file.name}\"\n",
    "        except Exception as e:\n",
    "            return f\"Error processing file: {str(e)}\"\n",
    "    return \"No file uploaded.\"\n",
    "\n",
    "# Query handler\n",
    "def query_document(query, history):\n",
    "    try:\n",
    "        response = query_engine.query(query)\n",
    "        history.append((query, response.response))\n",
    "        return history, response.response\n",
    "    except Exception as e:\n",
    "        return history, f\"Error: {str(e)}\"\n",
    "\n",
    "# Gradio Interface\n",
    "with gr.Blocks() as demo:\n",
    "    gr.Markdown(\"# 🧠 Document Search and Conversation System\")\n",
    "    \n",
    "    with gr.Tab(\"Upload & Index\"):\n",
    "        file_input = gr.File(label=\"Upload Document\", type=\"file\")\n",
    "        upload_output = gr.Textbox(label=\"Output\")\n",
    "        upload_button = gr.Button(\"Process File\")\n",
    "        upload_button.click(process_file, inputs=file_input, outputs=upload_output)\n",
    "    \n",
    "    with gr.Tab(\"Query\"):\n",
    "        query_input = gr.Textbox(label=\"Your Query\", placeholder=\"Ask something...\")\n",
    "        conversation_output = gr.Chatbot(label=\"Conversation History\")\n",
    "        query_button = gr.Button(\"Search\")\n",
    "        query_button.click(query_document, inputs=[query_input, conversation_output], outputs=[conversation_output, \"response\"])\n",
    "        \n",
    "    with gr.Tab(\"About\"):\n",
    "        gr.Markdown(\"This interface allows you to upload documents and perform semantic search.\")\n",
    "\n",
    "# Launch Gradio App\n",
    "demo.launch()\n"
   ],
   "outputs": [
    {
     "ename": "AttributeError",
     "evalue": "'Examples' object has no attribute 'render'",
     "output_type": "error",
     "traceback": [
      "\u001B[0;31m---------------------------------------------------------------------------\u001B[0m",
      "\u001B[0;31mAttributeError\u001B[0m                            Traceback (most recent call last)",
      "Cell \u001B[0;32mIn[2], line 78\u001B[0m\n\u001B[1;32m     76\u001B[0m \u001B[38;5;66;03m# Run the interface\u001B[39;00m\n\u001B[1;32m     77\u001B[0m \u001B[38;5;28;01mif\u001B[39;00m \u001B[38;5;18m__name__\u001B[39m \u001B[38;5;241m==\u001B[39m \u001B[38;5;124m\"\u001B[39m\u001B[38;5;124m__main__\u001B[39m\u001B[38;5;124m\"\u001B[39m:\n\u001B[0;32m---> 78\u001B[0m     app \u001B[38;5;241m=\u001B[39m \u001B[43mcreate_interface\u001B[49m\u001B[43m(\u001B[49m\u001B[43m)\u001B[49m\n\u001B[1;32m     79\u001B[0m     app\u001B[38;5;241m.\u001B[39mlaunch()\n",
      "Cell \u001B[0;32mIn[2], line 53\u001B[0m, in \u001B[0;36mcreate_interface\u001B[0;34m()\u001B[0m\n\u001B[1;32m     51\u001B[0m         upload_section\u001B[38;5;241m.\u001B[39mrender()\n\u001B[1;32m     52\u001B[0m     \u001B[38;5;28;01mwith\u001B[39;00m gr\u001B[38;5;241m.\u001B[39mColumn(scale\u001B[38;5;241m=\u001B[39m\u001B[38;5;241m3\u001B[39m):\n\u001B[0;32m---> 53\u001B[0m         \u001B[43mpremade_prompt_examples\u001B[49m\u001B[38;5;241;43m.\u001B[39;49m\u001B[43mrender\u001B[49m()\n\u001B[1;32m     55\u001B[0m \u001B[38;5;28;01mwith\u001B[39;00m gr\u001B[38;5;241m.\u001B[39mRow():\n\u001B[1;32m     56\u001B[0m     query_input\u001B[38;5;241m.\u001B[39mrender()\n",
      "\u001B[0;31mAttributeError\u001B[0m: 'Examples' object has no attribute 'render'"
     ]
    }
   ],
   "execution_count": 2
  }
 ],
 "metadata": {
  "kernelspec": {
   "display_name": "Python 3",
   "language": "python",
   "name": "python3"
  },
  "language_info": {
   "codemirror_mode": {
    "name": "ipython",
    "version": 2
   },
   "file_extension": ".py",
   "mimetype": "text/x-python",
   "name": "python",
   "nbconvert_exporter": "python",
   "pygments_lexer": "ipython2",
   "version": "2.7.6"
  }
 },
 "nbformat": 4,
 "nbformat_minor": 5
}
